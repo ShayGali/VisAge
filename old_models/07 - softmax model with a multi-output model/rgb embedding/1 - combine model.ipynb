{
 "cells": [
  {
   "cell_type": "code",
   "execution_count": null,
   "id": "845b486670efa827",
   "metadata": {
    "ExecuteTime": {
     "end_time": "2025-03-03T17:09:09.647854800Z",
     "start_time": "2025-03-03T17:09:09.497188600Z"
    },
    "collapsed": false
   },
   "outputs": [],
   "source": [
    "import numpy as np\n",
    "import pandas as pd\n",
    "import os\n",
    "import joblib\n",
    "import math\n",
    "\n",
    "from sklearn.preprocessing import LabelEncoder, StandardScaler\n",
    "from sklearn.utils.class_weight import compute_class_weight\n",
    "from sklearn.metrics import classification_report\n",
    "import matplotlib.pyplot as plt\n",
    "from tensorflow.keras import Input, Model\n",
    "from tensorflow.keras.layers import Dense, Dropout, BatchNormalization\n",
    "from tensorflow.keras.optimizers import Adam\n",
    "from tensorflow.keras.callbacks import EarlyStopping, ModelCheckpoint\n",
    "\n",
    "from img2vec import rgb2emb"
   ]
  },
  {
   "cell_type": "markdown",
   "id": "1ddc9386fee796ff",
   "metadata": {
    "collapsed": false
   },
   "source": [
    "### Load data"
   ]
  },
  {
   "cell_type": "code",
   "execution_count": 20,
   "id": "30f4d7aca6e49b9e",
   "metadata": {
    "ExecuteTime": {
     "end_time": "2025-03-03T17:09:09.758864100Z",
     "start_time": "2025-03-03T17:09:09.508564200Z"
    },
    "collapsed": false
   },
   "outputs": [],
   "source": [
    "data_dir = os.path.join('..', '..', 'data')\n",
    "train_data = pd.read_csv(os.path.join(data_dir, 'train.csv'))\n",
    "val_data = pd.read_csv(os.path.join(data_dir, 'val.csv'))\n",
    "test_data = pd.read_csv(os.path.join(data_dir, 'test.csv'))"
   ]
  },
  {
   "cell_type": "markdown",
   "id": "7a81dff2cd826a38",
   "metadata": {
    "collapsed": false
   },
   "source": [
    "### check if images exist and filter"
   ]
  },
  {
   "cell_type": "code",
   "execution_count": 21,
   "id": "9d170725a9e6d9fd",
   "metadata": {
    "ExecuteTime": {
     "end_time": "2025-03-03T17:09:12.304494700Z",
     "start_time": "2025-03-03T17:09:09.550405100Z"
    },
    "collapsed": false
   },
   "outputs": [],
   "source": [
    "def construct_img_path(row):\n",
    "    return os.path.join(data_dir, 'faces', row['user_id'], \n",
    "                       f\"coarse_tilt_aligned_face.{row['face_id']}.{row['original_image']}\")\n",
    "\n",
    "train_data['img_path'] = train_data.apply(construct_img_path, axis=1)\n",
    "val_data['img_path'] = val_data.apply(construct_img_path, axis=1)\n",
    "test_data['img_path'] = test_data.apply(construct_img_path, axis=1)\n",
    "\n",
    "train_data['img_exists'] = train_data['img_path'].apply(os.path.exists)\n",
    "val_data['img_exists'] = val_data['img_path'].apply(os.path.exists)\n",
    "test_data['img_exists'] = test_data['img_path'].apply(os.path.exists)\n",
    "\n",
    "# Filter to include only rows where images exist\n",
    "train_data = train_data[train_data['img_exists'] == True]\n",
    "val_data = val_data[val_data['img_exists'] == True]\n",
    "test_data = test_data[test_data['img_exists'] == True]"
   ]
  },
  {
   "cell_type": "markdown",
   "id": "d777a3e629eaa177",
   "metadata": {
    "collapsed": false
   },
   "source": [
    "### encode labels"
   ]
  },
  {
   "cell_type": "code",
   "execution_count": 22,
   "id": "c2e09efd24ae63e2",
   "metadata": {
    "ExecuteTime": {
     "end_time": "2025-03-03T17:09:12.345494200Z",
     "start_time": "2025-03-03T17:09:11.464871600Z"
    },
    "collapsed": false
   },
   "outputs": [
    {
     "name": "stdout",
     "output_type": "stream",
     "text": [
      "Encoders created and saved.\n",
      "Age classes: ['(0, 2)' '(15, 20)' '(25, 32)' '(38, 43)' '(4, 6)' '(48, 53)' '(60, 100)'\n",
      " '(8, 23)']\n",
      "Gender classes: ['f' 'm' 'u']\n"
     ]
    }
   ],
   "source": [
    "if os.path.exists('age_encoder.pkl') and os.path.exists('gender_encoder.pkl'):\n",
    "    age_encoder = joblib.load('age_encoder.pkl')\n",
    "    gender_encoder = joblib.load('gender_encoder.pkl')\n",
    "    print(\"Age and gender encoders loaded successfully.\")\n",
    "    \n",
    "    # Add these lines to encode train data when loading existing encoders\n",
    "    train_data['age_encoded'] = age_encoder.transform(train_data['age'])\n",
    "    train_data['gender_encoded'] = gender_encoder.transform(train_data['gender'])\n",
    "else:\n",
    "    # Remove rare classes\n",
    "    age_counts = train_data['age'].value_counts()\n",
    "    gender_counts = train_data['gender'].value_counts()\n",
    "    rare_ages = age_counts[age_counts < 5].index.tolist()\n",
    "    rare_genders = gender_counts[gender_counts < 5].index.tolist()\n",
    "    \n",
    "    # Filter data\n",
    "    train_data = train_data[~train_data['age'].isin(rare_ages) & ~train_data['gender'].isin(rare_genders)]\n",
    "    \n",
    "    # Create encoders\n",
    "    age_encoder = LabelEncoder()\n",
    "    gender_encoder = LabelEncoder()\n",
    "    train_data['age_encoded'] = age_encoder.fit_transform(train_data['age'])\n",
    "    train_data['gender_encoded'] = gender_encoder.fit_transform(train_data['gender'])\n",
    "    \n",
    "    # Save encoders\n",
    "    joblib.dump(age_encoder, 'age_encoder.pkl')\n",
    "    joblib.dump(gender_encoder, 'gender_encoder.pkl')\n",
    "    print(\"Encoders created and saved.\")\n",
    "\n",
    "# Filter validation and test data to include only seen classes\n",
    "val_data = val_data[val_data['age'].isin(age_encoder.classes_)]\n",
    "val_data = val_data[val_data['gender'].isin(gender_encoder.classes_)]\n",
    "test_data = test_data[test_data['age'].isin(age_encoder.classes_)]\n",
    "test_data = test_data[test_data['gender'].isin(gender_encoder.classes_)]\n",
    "\n",
    "# Encode the labels\n",
    "val_data['age_encoded'] = age_encoder.transform(val_data['age'])\n",
    "val_data['gender_encoded'] = gender_encoder.transform(val_data['gender'])\n",
    "test_data['age_encoded'] = age_encoder.transform(test_data['age'])\n",
    "test_data['gender_encoded'] = gender_encoder.transform(test_data['gender'])\n",
    "\n",
    "num_age_classes = len(age_encoder.classes_)\n",
    "num_gender_classes = len(gender_encoder.classes_)\n",
    "print(f\"Age classes: {age_encoder.classes_}\")\n",
    "print(f\"Gender classes: {gender_encoder.classes_}\")\n"
   ]
  },
  {
   "cell_type": "markdown",
   "id": "8cecdcb3587e4c4e",
   "metadata": {
    "collapsed": false
   },
   "source": [
    "### Define function that process features in batches and store them to avoid recomputation"
   ]
  },
  {
   "cell_type": "code",
   "execution_count": 23,
   "id": "90586309f2d64cbc",
   "metadata": {
    "ExecuteTime": {
     "end_time": "2025-03-03T17:09:12.345494200Z",
     "start_time": "2025-03-03T17:09:11.512299Z"
    },
    "collapsed": false
   },
   "outputs": [],
   "source": [
    "def preprocess_and_save_features(image_paths, output_file, batch_size=64):\n",
    "    if os.path.exists(output_file):\n",
    "        print(f\"Loading pre-processed features from {output_file}\")\n",
    "        return np.load(output_file)\n",
    "\n",
    "    print(f\"Processing {len(image_paths)} images and saving to {output_file}\")\n",
    "    all_features = []\n",
    "\n",
    "    for i in range(0, len(image_paths), batch_size):\n",
    "        batch_paths = image_paths[i:i + batch_size]\n",
    "        print(f\"Processing batch {i // batch_size + 1}/{math.ceil(len(image_paths) / batch_size)}\")\n",
    "        batch_features = rgb2emb(batch_paths)\n",
    "        all_features.append(batch_features)\n",
    "\n",
    "    all_features = np.vstack(all_features)\n",
    "    np.save(output_file, all_features)\n",
    "    return all_features"
   ]
  },
  {
   "cell_type": "markdown",
   "id": "19fb1050e83c5ca5",
   "metadata": {
    "collapsed": false
   },
   "source": [
    "### Process and save features"
   ]
  },
  {
   "cell_type": "code",
   "execution_count": 24,
   "id": "e5c19e461885d96",
   "metadata": {
    "ExecuteTime": {
     "end_time": "2025-03-03T17:36:36.937790300Z",
     "start_time": "2025-03-03T17:09:11.528075500Z"
    },
    "collapsed": false
   },
   "outputs": [
    {
     "name": "stdout",
     "output_type": "stream",
     "text": [
      "Processing 11856 images and saving to train_features.npy\n",
      "Processing batch 1/186\n",
      "WARNING:tensorflow:5 out of the last 239 calls to <function TensorFlowTrainer.make_predict_function.<locals>.one_step_on_data_distributed at 0x00000208D59292D0> triggered tf.function retracing. Tracing is expensive and the excessive number of tracings could be due to (1) creating @tf.function repeatedly in a loop, (2) passing tensors with different shapes, (3) passing Python objects instead of tensors. For (1), please define your @tf.function outside of the loop. For (2), @tf.function has reduce_retracing=True option that can avoid unnecessary retracing. For (3), please refer to https://www.tensorflow.org/guide/function#controlling_retracing and https://www.tensorflow.org/api_docs/python/tf/function for  more details.\n"
     ]
    },
    {
     "name": "stderr",
     "output_type": "stream",
     "text": [
      "WARNING:tensorflow:5 out of the last 239 calls to <function TensorFlowTrainer.make_predict_function.<locals>.one_step_on_data_distributed at 0x00000208D59292D0> triggered tf.function retracing. Tracing is expensive and the excessive number of tracings could be due to (1) creating @tf.function repeatedly in a loop, (2) passing tensors with different shapes, (3) passing Python objects instead of tensors. For (1), please define your @tf.function outside of the loop. For (2), @tf.function has reduce_retracing=True option that can avoid unnecessary retracing. For (3), please refer to https://www.tensorflow.org/guide/function#controlling_retracing and https://www.tensorflow.org/api_docs/python/tf/function for  more details.\n"
     ]
    },
    {
     "name": "stdout",
     "output_type": "stream",
     "text": [
      "Processing batch 2/186\n",
      "Processing batch 3/186\n",
      "Processing batch 4/186\n",
      "Processing batch 5/186\n",
      "Processing batch 6/186\n",
      "Processing batch 7/186\n",
      "Processing batch 8/186\n",
      "Processing batch 9/186\n",
      "Processing batch 10/186\n",
      "Processing batch 11/186\n",
      "Processing batch 12/186\n",
      "Processing batch 13/186\n",
      "Processing batch 14/186\n",
      "Processing batch 15/186\n",
      "Processing batch 16/186\n",
      "Processing batch 17/186\n",
      "Processing batch 18/186\n",
      "Processing batch 19/186\n",
      "Processing batch 20/186\n",
      "Processing batch 21/186\n",
      "Processing batch 22/186\n",
      "Processing batch 23/186\n",
      "Processing batch 24/186\n",
      "Processing batch 25/186\n",
      "Processing batch 26/186\n",
      "Processing batch 27/186\n",
      "Processing batch 28/186\n",
      "Processing batch 29/186\n",
      "Processing batch 30/186\n",
      "Processing batch 31/186\n",
      "Processing batch 32/186\n",
      "Processing batch 33/186\n",
      "Processing batch 34/186\n",
      "Processing batch 35/186\n",
      "Processing batch 36/186\n",
      "Processing batch 37/186\n",
      "Processing batch 38/186\n",
      "Processing batch 39/186\n",
      "Processing batch 40/186\n",
      "Processing batch 41/186\n",
      "Processing batch 42/186\n",
      "Processing batch 43/186\n",
      "Processing batch 44/186\n",
      "Processing batch 45/186\n",
      "Processing batch 46/186\n",
      "Processing batch 47/186\n",
      "Processing batch 48/186\n",
      "Processing batch 49/186\n",
      "Processing batch 50/186\n",
      "Processing batch 51/186\n",
      "Processing batch 52/186\n",
      "Processing batch 53/186\n",
      "Processing batch 54/186\n",
      "Processing batch 55/186\n",
      "Processing batch 56/186\n",
      "Processing batch 57/186\n",
      "Processing batch 58/186\n",
      "Processing batch 59/186\n",
      "Processing batch 60/186\n",
      "Processing batch 61/186\n",
      "Processing batch 62/186\n",
      "Processing batch 63/186\n",
      "Processing batch 64/186\n",
      "Processing batch 65/186\n",
      "Processing batch 66/186\n",
      "Processing batch 67/186\n",
      "Processing batch 68/186\n",
      "Processing batch 69/186\n",
      "Processing batch 70/186\n",
      "Processing batch 71/186\n",
      "Processing batch 72/186\n",
      "Processing batch 73/186\n",
      "Processing batch 74/186\n",
      "Processing batch 75/186\n",
      "Processing batch 76/186\n",
      "Processing batch 77/186\n",
      "Processing batch 78/186\n",
      "Processing batch 79/186\n",
      "Processing batch 80/186\n",
      "Processing batch 81/186\n",
      "Processing batch 82/186\n",
      "Processing batch 83/186\n",
      "Processing batch 84/186\n",
      "Processing batch 85/186\n",
      "Processing batch 86/186\n",
      "Processing batch 87/186\n",
      "Processing batch 88/186\n",
      "Processing batch 89/186\n",
      "Processing batch 90/186\n",
      "Processing batch 91/186\n",
      "Processing batch 92/186\n",
      "Processing batch 93/186\n",
      "Processing batch 94/186\n",
      "Processing batch 95/186\n",
      "Processing batch 96/186\n",
      "Processing batch 97/186\n",
      "Processing batch 98/186\n",
      "Processing batch 99/186\n",
      "Processing batch 100/186\n",
      "Processing batch 101/186\n",
      "Processing batch 102/186\n",
      "Processing batch 103/186\n",
      "Processing batch 104/186\n",
      "Processing batch 105/186\n",
      "Processing batch 106/186\n",
      "Processing batch 107/186\n",
      "Processing batch 108/186\n",
      "Processing batch 109/186\n",
      "Processing batch 110/186\n",
      "Processing batch 111/186\n",
      "Processing batch 112/186\n",
      "Processing batch 113/186\n",
      "Processing batch 114/186\n",
      "Processing batch 115/186\n",
      "Processing batch 116/186\n",
      "Processing batch 117/186\n",
      "Processing batch 118/186\n",
      "Processing batch 119/186\n",
      "Processing batch 120/186\n",
      "Processing batch 121/186\n",
      "Processing batch 122/186\n",
      "Processing batch 123/186\n",
      "Processing batch 124/186\n",
      "Processing batch 125/186\n",
      "Processing batch 126/186\n",
      "Processing batch 127/186\n",
      "Processing batch 128/186\n",
      "Processing batch 129/186\n",
      "Processing batch 130/186\n",
      "Processing batch 131/186\n",
      "Processing batch 132/186\n",
      "Processing batch 133/186\n",
      "Processing batch 134/186\n",
      "Processing batch 135/186\n",
      "Processing batch 136/186\n",
      "Processing batch 137/186\n",
      "Processing batch 138/186\n",
      "Processing batch 139/186\n",
      "Processing batch 140/186\n",
      "Processing batch 141/186\n",
      "Processing batch 142/186\n",
      "Processing batch 143/186\n",
      "Processing batch 144/186\n",
      "Processing batch 145/186\n",
      "Processing batch 146/186\n",
      "Processing batch 147/186\n",
      "Processing batch 148/186\n",
      "Processing batch 149/186\n",
      "Processing batch 150/186\n",
      "Processing batch 151/186\n",
      "Processing batch 152/186\n",
      "Processing batch 153/186\n",
      "Processing batch 154/186\n",
      "Processing batch 155/186\n",
      "Processing batch 156/186\n",
      "Processing batch 157/186\n",
      "Processing batch 158/186\n",
      "Processing batch 159/186\n",
      "Processing batch 160/186\n",
      "Processing batch 161/186\n",
      "Processing batch 162/186\n",
      "Processing batch 163/186\n",
      "Processing batch 164/186\n",
      "Processing batch 165/186\n",
      "Processing batch 166/186\n",
      "Processing batch 167/186\n",
      "Processing batch 168/186\n",
      "Processing batch 169/186\n",
      "Processing batch 170/186\n",
      "Processing batch 171/186\n",
      "Processing batch 172/186\n",
      "Processing batch 173/186\n",
      "Processing batch 174/186\n",
      "Processing batch 175/186\n",
      "Processing batch 176/186\n",
      "Processing batch 177/186\n",
      "Processing batch 178/186\n",
      "Processing batch 179/186\n",
      "Processing batch 180/186\n",
      "Processing batch 181/186\n",
      "Processing batch 182/186\n",
      "Processing batch 183/186\n",
      "Processing batch 184/186\n",
      "Processing batch 185/186\n",
      "Processing batch 186/186\n",
      "Processing 2964 images and saving to val_features.npy\n",
      "Processing batch 1/47\n",
      "Processing batch 2/47\n",
      "Processing batch 3/47\n",
      "Processing batch 4/47\n",
      "Processing batch 5/47\n",
      "Processing batch 6/47\n",
      "Processing batch 7/47\n",
      "Processing batch 8/47\n",
      "Processing batch 9/47\n",
      "Processing batch 10/47\n",
      "Processing batch 11/47\n",
      "Processing batch 12/47\n",
      "Processing batch 13/47\n",
      "Processing batch 14/47\n",
      "Processing batch 15/47\n",
      "Processing batch 16/47\n",
      "Processing batch 17/47\n",
      "Processing batch 18/47\n",
      "Processing batch 19/47\n",
      "Processing batch 20/47\n",
      "Processing batch 21/47\n",
      "Processing batch 22/47\n",
      "Processing batch 23/47\n",
      "Processing batch 24/47\n",
      "Processing batch 25/47\n",
      "Processing batch 26/47\n",
      "Processing batch 27/47\n",
      "Processing batch 28/47\n",
      "Processing batch 29/47\n",
      "Processing batch 30/47\n",
      "Processing batch 31/47\n",
      "Processing batch 32/47\n",
      "Processing batch 33/47\n",
      "Processing batch 34/47\n",
      "Processing batch 35/47\n",
      "Processing batch 36/47\n",
      "Processing batch 37/47\n",
      "Processing batch 38/47\n",
      "Processing batch 39/47\n",
      "Processing batch 40/47\n",
      "Processing batch 41/47\n",
      "Processing batch 42/47\n",
      "Processing batch 43/47\n",
      "Processing batch 44/47\n",
      "Processing batch 45/47\n",
      "Processing batch 46/47\n",
      "Processing batch 47/47\n",
      "Processing 3731 images and saving to test_features.npy\n",
      "Processing batch 1/59\n",
      "Processing batch 2/59\n",
      "Processing batch 3/59\n",
      "Processing batch 4/59\n",
      "Processing batch 5/59\n",
      "Processing batch 6/59\n",
      "Processing batch 7/59\n",
      "Processing batch 8/59\n",
      "Processing batch 9/59\n",
      "Processing batch 10/59\n",
      "Processing batch 11/59\n",
      "Processing batch 12/59\n",
      "Processing batch 13/59\n",
      "Processing batch 14/59\n",
      "Processing batch 15/59\n",
      "Processing batch 16/59\n",
      "Processing batch 17/59\n",
      "Processing batch 18/59\n",
      "Processing batch 19/59\n",
      "Processing batch 20/59\n",
      "Processing batch 21/59\n",
      "Processing batch 22/59\n",
      "Processing batch 23/59\n",
      "Processing batch 24/59\n",
      "Processing batch 25/59\n",
      "Processing batch 26/59\n",
      "Processing batch 27/59\n",
      "Processing batch 28/59\n",
      "Processing batch 29/59\n",
      "Processing batch 30/59\n",
      "Processing batch 31/59\n",
      "Processing batch 32/59\n",
      "Processing batch 33/59\n",
      "Processing batch 34/59\n",
      "Processing batch 35/59\n",
      "Processing batch 36/59\n",
      "Processing batch 37/59\n",
      "Processing batch 38/59\n",
      "Processing batch 39/59\n",
      "Processing batch 40/59\n",
      "Processing batch 41/59\n",
      "Processing batch 42/59\n",
      "Processing batch 43/59\n",
      "Processing batch 44/59\n",
      "Processing batch 45/59\n",
      "Processing batch 46/59\n",
      "Processing batch 47/59\n",
      "Processing batch 48/59\n",
      "Processing batch 49/59\n",
      "Processing batch 50/59\n",
      "Processing batch 51/59\n",
      "Processing batch 52/59\n",
      "Processing batch 53/59\n",
      "Processing batch 54/59\n",
      "Processing batch 55/59\n",
      "Processing batch 56/59\n",
      "Processing batch 57/59\n",
      "Processing batch 58/59\n",
      "Processing batch 59/59\n"
     ]
    }
   ],
   "source": [
    "if not os.path.exists('train_features.npy'):\n",
    "    train_features = preprocess_and_save_features(train_data['img_path'].tolist(), 'train_features.npy')\n",
    "    val_features = preprocess_and_save_features(val_data['img_path'].tolist(), 'val_features.npy')\n",
    "    test_features = preprocess_and_save_features(test_data['img_path'].tolist(), 'test_features.npy')\n",
    "else:\n",
    "    train_features = np.load('train_features.npy')\n",
    "    val_features = np.load('val_features.npy')\n",
    "    test_features = np.load('test_features.npy')\n"
   ]
  },
  {
   "cell_type": "markdown",
   "id": "8f097c15ac742e31",
   "metadata": {
    "collapsed": false
   },
   "source": [
    "### Standardize features"
   ]
  },
  {
   "cell_type": "code",
   "execution_count": 25,
   "id": "4c13fa3d73ec5249",
   "metadata": {
    "ExecuteTime": {
     "end_time": "2025-03-03T17:36:37.753707700Z",
     "start_time": "2025-03-03T17:36:36.961198100Z"
    },
    "collapsed": false
   },
   "outputs": [
    {
     "name": "stdout",
     "output_type": "stream",
     "text": [
      "Feature scaler created and saved.\n"
     ]
    }
   ],
   "source": [
    "if os.path.exists('feature_scaler.pkl'):\n",
    "    scaler = joblib.load('feature_scaler.pkl')\n",
    "    print(\"Feature scaler loaded successfully.\")\n",
    "else:\n",
    "    scaler = StandardScaler()\n",
    "    scaler.fit(train_features)\n",
    "    joblib.dump(scaler, 'feature_scaler.pkl')\n",
    "    print(\"Feature scaler created and saved.\")\n",
    "\n",
    "train_features_scaled = scaler.transform(train_features)\n",
    "val_features_scaled = scaler.transform(val_features)\n",
    "test_features_scaled = scaler.transform(test_features)"
   ]
  },
  {
   "cell_type": "markdown",
   "id": "f378cfe916b60a65",
   "metadata": {
    "collapsed": false
   },
   "source": [
    "### Define model"
   ]
  },
  {
   "cell_type": "code",
   "execution_count": 26,
   "id": "39bad3f597041f7d",
   "metadata": {
    "ExecuteTime": {
     "end_time": "2025-03-03T17:36:37.957420100Z",
     "start_time": "2025-03-03T17:36:37.753707700Z"
    },
    "collapsed": false
   },
   "outputs": [],
   "source": [
    "def create_age_model(input_dim, num_age_classes):\n",
    "    input_layer = Input(shape=(input_dim,))\n",
    "    \n",
    "    x = Dense(256, activation='relu')(input_layer)\n",
    "    x = Dropout(0.5)(x)\n",
    "    x = BatchNormalization()(x)\n",
    "    x = Dense(128, activation='relu')(x)\n",
    "    x = Dropout(0.5)(x)\n",
    "    x = BatchNormalization()(x)\n",
    "    \n",
    "    age_output = Dense(num_age_classes, activation='softmax')(x)\n",
    "    \n",
    "    model = Model(inputs=input_layer, outputs=age_output)\n",
    "    model.compile(\n",
    "        optimizer=Adam(learning_rate=0.001),\n",
    "        loss='sparse_categorical_crossentropy',\n",
    "        metrics=['accuracy']\n",
    "    )\n",
    "    \n",
    "    return model\n",
    "\n",
    "# Gender prediction model\n",
    "def create_gender_model(input_dim, num_gender_classes):\n",
    "    input_layer = Input(shape=(input_dim,))\n",
    "    \n",
    "    x = Dense(256, activation='relu')(input_layer)\n",
    "    x = Dropout(0.5)(x)\n",
    "    x = BatchNormalization()(x)\n",
    "    x = Dense(128, activation='relu')(x)\n",
    "    x = Dropout(0.5)(x)\n",
    "    x = BatchNormalization()(x)\n",
    "    \n",
    "    gender_output = Dense(num_gender_classes, activation='softmax')(x)\n",
    "    \n",
    "    model = Model(inputs=input_layer, outputs=gender_output)\n",
    "    model.compile(\n",
    "        optimizer=Adam(learning_rate=0.001),\n",
    "        loss='sparse_categorical_crossentropy',\n",
    "        metrics=['accuracy']\n",
    "    )\n",
    "    \n",
    "    return model\n",
    "\n",
    "# Create models\n",
    "age_model = create_age_model(train_features.shape[1], num_age_classes)\n",
    "gender_model = create_gender_model(train_features.shape[1], num_gender_classes)\n",
    "\n",
    "# Define callbacks for age model\n",
    "age_callbacks = [\n",
    "    EarlyStopping(\n",
    "        monitor='val_loss',\n",
    "        patience=5,\n",
    "        restore_best_weights=True\n",
    "    ),\n",
    "    ModelCheckpoint(\n",
    "        'best_age_model.h5',\n",
    "        monitor='val_loss',\n",
    "        save_best_only=True,\n",
    "        verbose=1\n",
    "    )\n",
    "]\n",
    "\n",
    "# Define callbacks for gender model\n",
    "gender_callbacks = [\n",
    "    EarlyStopping(\n",
    "        monitor='val_loss',\n",
    "        patience=5,\n",
    "        restore_best_weights=True\n",
    "    ),\n",
    "    ModelCheckpoint(\n",
    "        'best_gender_model.h5',\n",
    "        monitor='val_loss',\n",
    "        save_best_only=True,\n",
    "        verbose=1\n",
    "    )\n",
    "]"
   ]
  },
  {
   "cell_type": "markdown",
   "id": "cc9e755b16629e16",
   "metadata": {
    "collapsed": false
   },
   "source": [
    "### Compute class weights and get labels"
   ]
  },
  {
   "cell_type": "code",
   "execution_count": 27,
   "id": "a37019d71f0b507",
   "metadata": {
    "ExecuteTime": {
     "end_time": "2025-03-03T17:36:38.021837500Z",
     "start_time": "2025-03-03T17:36:37.966424400Z"
    },
    "collapsed": false
   },
   "outputs": [],
   "source": [
    "train_age_labels = train_data['age_encoded'].values\n",
    "train_gender_labels = train_data['gender_encoded'].values\n",
    "val_age_labels = val_data['age_encoded'].values\n",
    "val_gender_labels = val_data['gender_encoded'].values\n",
    "\n",
    "age_weights = compute_class_weight('balanced', classes=np.unique(train_data['age_encoded']), \n",
    "                                  y=train_data['age_encoded'])\n",
    "gender_weights = compute_class_weight('balanced', classes=np.unique(train_data['gender_encoded']), \n",
    "                                     y=train_data['gender_encoded'])"
   ]
  },
  {
   "cell_type": "markdown",
   "id": "cf0668a7f2bb1325",
   "metadata": {
    "collapsed": false
   },
   "source": [
    "### Train models"
   ]
  },
  {
   "cell_type": "code",
   "execution_count": 28,
   "id": "d093df98d2aa6651",
   "metadata": {
    "ExecuteTime": {
     "end_time": "2025-03-03T17:38:49.070348400Z",
     "start_time": "2025-03-03T17:36:38.001784400Z"
    },
    "collapsed": false
   },
   "outputs": [
    {
     "name": "stdout",
     "output_type": "stream",
     "text": [
      "Training the age model...\n",
      "Epoch 1/30\n",
      "\u001b[1m183/186\u001b[0m \u001b[32m━━━━━━━━━━━━━━━━━━━\u001b[0m\u001b[37m━\u001b[0m \u001b[1m0s\u001b[0m 9ms/step - accuracy: 0.2620 - loss: 2.0862\n",
      "Epoch 1: val_loss improved from inf to 1.30937, saving model to best_age_model.h5\n"
     ]
    },
    {
     "name": "stderr",
     "output_type": "stream",
     "text": [
      "WARNING:absl:You are saving your model as an HDF5 file via `model.save()` or `keras.saving.save_model(model)`. This file format is considered legacy. We recommend using instead the native Keras format, e.g. `model.save('my_model.keras')` or `keras.saving.save_model(model, 'my_model.keras')`. \n"
     ]
    },
    {
     "name": "stdout",
     "output_type": "stream",
     "text": [
      "\u001b[1m186/186\u001b[0m \u001b[32m━━━━━━━━━━━━━━━━━━━━\u001b[0m\u001b[37m\u001b[0m \u001b[1m6s\u001b[0m 14ms/step - accuracy: 0.2633 - loss: 2.0807 - val_accuracy: 0.4747 - val_loss: 1.3094\n",
      "Epoch 2/30\n",
      "\u001b[1m182/186\u001b[0m \u001b[32m━━━━━━━━━━━━━━━━━━━\u001b[0m\u001b[37m━\u001b[0m \u001b[1m0s\u001b[0m 13ms/step - accuracy: 0.4072 - loss: 1.4482\n",
      "Epoch 2: val_loss improved from 1.30937 to 1.17014, saving model to best_age_model.h5\n"
     ]
    },
    {
     "name": "stderr",
     "output_type": "stream",
     "text": [
      "WARNING:absl:You are saving your model as an HDF5 file via `model.save()` or `keras.saving.save_model(model)`. This file format is considered legacy. We recommend using instead the native Keras format, e.g. `model.save('my_model.keras')` or `keras.saving.save_model(model, 'my_model.keras')`. \n"
     ]
    },
    {
     "name": "stdout",
     "output_type": "stream",
     "text": [
      "\u001b[1m186/186\u001b[0m \u001b[32m━━━━━━━━━━━━━━━━━━━━\u001b[0m\u001b[37m\u001b[0m \u001b[1m3s\u001b[0m 16ms/step - accuracy: 0.4077 - loss: 1.4469 - val_accuracy: 0.5466 - val_loss: 1.1701\n",
      "Epoch 3/30\n",
      "\u001b[1m186/186\u001b[0m \u001b[32m━━━━━━━━━━━━━━━━━━━━\u001b[0m\u001b[37m\u001b[0m \u001b[1m0s\u001b[0m 11ms/step - accuracy: 0.4807 - loss: 1.2465\n",
      "Epoch 3: val_loss improved from 1.17014 to 1.11215, saving model to best_age_model.h5\n"
     ]
    },
    {
     "name": "stderr",
     "output_type": "stream",
     "text": [
      "WARNING:absl:You are saving your model as an HDF5 file via `model.save()` or `keras.saving.save_model(model)`. This file format is considered legacy. We recommend using instead the native Keras format, e.g. `model.save('my_model.keras')` or `keras.saving.save_model(model, 'my_model.keras')`. \n"
     ]
    },
    {
     "name": "stdout",
     "output_type": "stream",
     "text": [
      "\u001b[1m186/186\u001b[0m \u001b[32m━━━━━━━━━━━━━━━━━━━━\u001b[0m\u001b[37m\u001b[0m \u001b[1m3s\u001b[0m 14ms/step - accuracy: 0.4807 - loss: 1.2464 - val_accuracy: 0.5634 - val_loss: 1.1122\n",
      "Epoch 4/30\n",
      "\u001b[1m184/186\u001b[0m \u001b[32m━━━━━━━━━━━━━━━━━━━\u001b[0m\u001b[37m━\u001b[0m \u001b[1m0s\u001b[0m 16ms/step - accuracy: 0.5262 - loss: 1.1189\n",
      "Epoch 4: val_loss improved from 1.11215 to 1.05784, saving model to best_age_model.h5\n"
     ]
    },
    {
     "name": "stderr",
     "output_type": "stream",
     "text": [
      "WARNING:absl:You are saving your model as an HDF5 file via `model.save()` or `keras.saving.save_model(model)`. This file format is considered legacy. We recommend using instead the native Keras format, e.g. `model.save('my_model.keras')` or `keras.saving.save_model(model, 'my_model.keras')`. \n"
     ]
    },
    {
     "name": "stdout",
     "output_type": "stream",
     "text": [
      "\u001b[1m186/186\u001b[0m \u001b[32m━━━━━━━━━━━━━━━━━━━━\u001b[0m\u001b[37m\u001b[0m \u001b[1m3s\u001b[0m 18ms/step - accuracy: 0.5261 - loss: 1.1191 - val_accuracy: 0.5874 - val_loss: 1.0578\n",
      "Epoch 5/30\n",
      "\u001b[1m186/186\u001b[0m \u001b[32m━━━━━━━━━━━━━━━━━━━━\u001b[0m\u001b[37m\u001b[0m \u001b[1m0s\u001b[0m 11ms/step - accuracy: 0.5529 - loss: 1.0549\n",
      "Epoch 5: val_loss improved from 1.05784 to 1.03856, saving model to best_age_model.h5\n"
     ]
    },
    {
     "name": "stderr",
     "output_type": "stream",
     "text": [
      "WARNING:absl:You are saving your model as an HDF5 file via `model.save()` or `keras.saving.save_model(model)`. This file format is considered legacy. We recommend using instead the native Keras format, e.g. `model.save('my_model.keras')` or `keras.saving.save_model(model, 'my_model.keras')`. \n"
     ]
    },
    {
     "name": "stdout",
     "output_type": "stream",
     "text": [
      "\u001b[1m186/186\u001b[0m \u001b[32m━━━━━━━━━━━━━━━━━━━━\u001b[0m\u001b[37m\u001b[0m \u001b[1m3s\u001b[0m 13ms/step - accuracy: 0.5528 - loss: 1.0549 - val_accuracy: 0.5911 - val_loss: 1.0386\n",
      "Epoch 6/30\n",
      "\u001b[1m184/186\u001b[0m \u001b[32m━━━━━━━━━━━━━━━━━━━\u001b[0m\u001b[37m━\u001b[0m \u001b[1m0s\u001b[0m 12ms/step - accuracy: 0.5792 - loss: 0.9797\n",
      "Epoch 6: val_loss improved from 1.03856 to 1.00961, saving model to best_age_model.h5\n"
     ]
    },
    {
     "name": "stderr",
     "output_type": "stream",
     "text": [
      "WARNING:absl:You are saving your model as an HDF5 file via `model.save()` or `keras.saving.save_model(model)`. This file format is considered legacy. We recommend using instead the native Keras format, e.g. `model.save('my_model.keras')` or `keras.saving.save_model(model, 'my_model.keras')`. \n"
     ]
    },
    {
     "name": "stdout",
     "output_type": "stream",
     "text": [
      "\u001b[1m186/186\u001b[0m \u001b[32m━━━━━━━━━━━━━━━━━━━━\u001b[0m\u001b[37m\u001b[0m \u001b[1m3s\u001b[0m 15ms/step - accuracy: 0.5792 - loss: 0.9799 - val_accuracy: 0.6096 - val_loss: 1.0096\n",
      "Epoch 7/30\n",
      "\u001b[1m184/186\u001b[0m \u001b[32m━━━━━━━━━━━━━━━━━━━\u001b[0m\u001b[37m━\u001b[0m \u001b[1m0s\u001b[0m 13ms/step - accuracy: 0.6012 - loss: 0.9302\n",
      "Epoch 7: val_loss improved from 1.00961 to 0.97881, saving model to best_age_model.h5\n"
     ]
    },
    {
     "name": "stderr",
     "output_type": "stream",
     "text": [
      "WARNING:absl:You are saving your model as an HDF5 file via `model.save()` or `keras.saving.save_model(model)`. This file format is considered legacy. We recommend using instead the native Keras format, e.g. `model.save('my_model.keras')` or `keras.saving.save_model(model, 'my_model.keras')`. \n"
     ]
    },
    {
     "name": "stdout",
     "output_type": "stream",
     "text": [
      "\u001b[1m186/186\u001b[0m \u001b[32m━━━━━━━━━━━━━━━━━━━━\u001b[0m\u001b[37m\u001b[0m \u001b[1m3s\u001b[0m 15ms/step - accuracy: 0.6011 - loss: 0.9304 - val_accuracy: 0.6184 - val_loss: 0.9788\n",
      "Epoch 8/30\n",
      "\u001b[1m184/186\u001b[0m \u001b[32m━━━━━━━━━━━━━━━━━━━\u001b[0m\u001b[37m━\u001b[0m \u001b[1m0s\u001b[0m 19ms/step - accuracy: 0.6065 - loss: 0.8918\n",
      "Epoch 8: val_loss did not improve from 0.97881\n",
      "\u001b[1m186/186\u001b[0m \u001b[32m━━━━━━━━━━━━━━━━━━━━\u001b[0m\u001b[37m\u001b[0m \u001b[1m4s\u001b[0m 21ms/step - accuracy: 0.6064 - loss: 0.8921 - val_accuracy: 0.6164 - val_loss: 0.9834\n",
      "Epoch 9/30\n",
      "\u001b[1m182/186\u001b[0m \u001b[32m━━━━━━━━━━━━━━━━━━━\u001b[0m\u001b[37m━\u001b[0m \u001b[1m0s\u001b[0m 12ms/step - accuracy: 0.6294 - loss: 0.8045\n",
      "Epoch 9: val_loss improved from 0.97881 to 0.93665, saving model to best_age_model.h5\n"
     ]
    },
    {
     "name": "stderr",
     "output_type": "stream",
     "text": [
      "WARNING:absl:You are saving your model as an HDF5 file via `model.save()` or `keras.saving.save_model(model)`. This file format is considered legacy. We recommend using instead the native Keras format, e.g. `model.save('my_model.keras')` or `keras.saving.save_model(model, 'my_model.keras')`. \n"
     ]
    },
    {
     "name": "stdout",
     "output_type": "stream",
     "text": [
      "\u001b[1m186/186\u001b[0m \u001b[32m━━━━━━━━━━━━━━━━━━━━\u001b[0m\u001b[37m\u001b[0m \u001b[1m3s\u001b[0m 14ms/step - accuracy: 0.6292 - loss: 0.8050 - val_accuracy: 0.6404 - val_loss: 0.9367\n",
      "Epoch 10/30\n",
      "\u001b[1m181/186\u001b[0m \u001b[32m━━━━━━━━━━━━━━━━━━━\u001b[0m\u001b[37m━\u001b[0m \u001b[1m0s\u001b[0m 10ms/step - accuracy: 0.6524 - loss: 0.7716\n",
      "Epoch 10: val_loss improved from 0.93665 to 0.91910, saving model to best_age_model.h5\n"
     ]
    },
    {
     "name": "stderr",
     "output_type": "stream",
     "text": [
      "WARNING:absl:You are saving your model as an HDF5 file via `model.save()` or `keras.saving.save_model(model)`. This file format is considered legacy. We recommend using instead the native Keras format, e.g. `model.save('my_model.keras')` or `keras.saving.save_model(model, 'my_model.keras')`. \n"
     ]
    },
    {
     "name": "stdout",
     "output_type": "stream",
     "text": [
      "\u001b[1m186/186\u001b[0m \u001b[32m━━━━━━━━━━━━━━━━━━━━\u001b[0m\u001b[37m\u001b[0m \u001b[1m2s\u001b[0m 12ms/step - accuracy: 0.6521 - loss: 0.7722 - val_accuracy: 0.6555 - val_loss: 0.9191\n",
      "Epoch 11/30\n",
      "\u001b[1m182/186\u001b[0m \u001b[32m━━━━━━━━━━━━━━━━━━━\u001b[0m\u001b[37m━\u001b[0m \u001b[1m0s\u001b[0m 14ms/step - accuracy: 0.6647 - loss: 0.7468\n",
      "Epoch 11: val_loss improved from 0.91910 to 0.91712, saving model to best_age_model.h5\n"
     ]
    },
    {
     "name": "stderr",
     "output_type": "stream",
     "text": [
      "WARNING:absl:You are saving your model as an HDF5 file via `model.save()` or `keras.saving.save_model(model)`. This file format is considered legacy. We recommend using instead the native Keras format, e.g. `model.save('my_model.keras')` or `keras.saving.save_model(model, 'my_model.keras')`. \n"
     ]
    },
    {
     "name": "stdout",
     "output_type": "stream",
     "text": [
      "\u001b[1m186/186\u001b[0m \u001b[32m━━━━━━━━━━━━━━━━━━━━\u001b[0m\u001b[37m\u001b[0m \u001b[1m4s\u001b[0m 21ms/step - accuracy: 0.6645 - loss: 0.7470 - val_accuracy: 0.6518 - val_loss: 0.9171\n",
      "Epoch 12/30\n",
      "\u001b[1m183/186\u001b[0m \u001b[32m━━━━━━━━━━━━━━━━━━━\u001b[0m\u001b[37m━\u001b[0m \u001b[1m0s\u001b[0m 13ms/step - accuracy: 0.6734 - loss: 0.7030\n",
      "Epoch 12: val_loss did not improve from 0.91712\n",
      "\u001b[1m186/186\u001b[0m \u001b[32m━━━━━━━━━━━━━━━━━━━━\u001b[0m\u001b[37m\u001b[0m \u001b[1m3s\u001b[0m 15ms/step - accuracy: 0.6733 - loss: 0.7034 - val_accuracy: 0.6346 - val_loss: 0.9385\n",
      "Epoch 13/30\n",
      "\u001b[1m184/186\u001b[0m \u001b[32m━━━━━━━━━━━━━━━━━━━\u001b[0m\u001b[37m━\u001b[0m \u001b[1m0s\u001b[0m 14ms/step - accuracy: 0.6903 - loss: 0.6661\n",
      "Epoch 13: val_loss improved from 0.91712 to 0.91712, saving model to best_age_model.h5\n"
     ]
    },
    {
     "name": "stderr",
     "output_type": "stream",
     "text": [
      "WARNING:absl:You are saving your model as an HDF5 file via `model.save()` or `keras.saving.save_model(model)`. This file format is considered legacy. We recommend using instead the native Keras format, e.g. `model.save('my_model.keras')` or `keras.saving.save_model(model, 'my_model.keras')`. \n"
     ]
    },
    {
     "name": "stdout",
     "output_type": "stream",
     "text": [
      "\u001b[1m186/186\u001b[0m \u001b[32m━━━━━━━━━━━━━━━━━━━━\u001b[0m\u001b[37m\u001b[0m \u001b[1m3s\u001b[0m 16ms/step - accuracy: 0.6903 - loss: 0.6662 - val_accuracy: 0.6488 - val_loss: 0.9171\n",
      "Epoch 14/30\n",
      "\u001b[1m185/186\u001b[0m \u001b[32m━━━━━━━━━━━━━━━━━━━\u001b[0m\u001b[37m━\u001b[0m \u001b[1m0s\u001b[0m 11ms/step - accuracy: 0.7025 - loss: 0.6277\n",
      "Epoch 14: val_loss improved from 0.91712 to 0.91489, saving model to best_age_model.h5\n"
     ]
    },
    {
     "name": "stderr",
     "output_type": "stream",
     "text": [
      "WARNING:absl:You are saving your model as an HDF5 file via `model.save()` or `keras.saving.save_model(model)`. This file format is considered legacy. We recommend using instead the native Keras format, e.g. `model.save('my_model.keras')` or `keras.saving.save_model(model, 'my_model.keras')`. \n"
     ]
    },
    {
     "name": "stdout",
     "output_type": "stream",
     "text": [
      "\u001b[1m186/186\u001b[0m \u001b[32m━━━━━━━━━━━━━━━━━━━━\u001b[0m\u001b[37m\u001b[0m \u001b[1m3s\u001b[0m 13ms/step - accuracy: 0.7025 - loss: 0.6278 - val_accuracy: 0.6545 - val_loss: 0.9149\n",
      "Epoch 15/30\n",
      "\u001b[1m186/186\u001b[0m \u001b[32m━━━━━━━━━━━━━━━━━━━━\u001b[0m\u001b[37m\u001b[0m \u001b[1m0s\u001b[0m 14ms/step - accuracy: 0.7153 - loss: 0.6083\n",
      "Epoch 15: val_loss improved from 0.91489 to 0.91436, saving model to best_age_model.h5\n"
     ]
    },
    {
     "name": "stderr",
     "output_type": "stream",
     "text": [
      "WARNING:absl:You are saving your model as an HDF5 file via `model.save()` or `keras.saving.save_model(model)`. This file format is considered legacy. We recommend using instead the native Keras format, e.g. `model.save('my_model.keras')` or `keras.saving.save_model(model, 'my_model.keras')`. \n"
     ]
    },
    {
     "name": "stdout",
     "output_type": "stream",
     "text": [
      "\u001b[1m186/186\u001b[0m \u001b[32m━━━━━━━━━━━━━━━━━━━━\u001b[0m\u001b[37m\u001b[0m \u001b[1m3s\u001b[0m 18ms/step - accuracy: 0.7153 - loss: 0.6083 - val_accuracy: 0.6535 - val_loss: 0.9144\n",
      "Epoch 16/30\n",
      "\u001b[1m184/186\u001b[0m \u001b[32m━━━━━━━━━━━━━━━━━━━\u001b[0m\u001b[37m━\u001b[0m \u001b[1m0s\u001b[0m 9ms/step - accuracy: 0.7123 - loss: 0.5894\n",
      "Epoch 16: val_loss improved from 0.91436 to 0.90150, saving model to best_age_model.h5\n"
     ]
    },
    {
     "name": "stderr",
     "output_type": "stream",
     "text": [
      "WARNING:absl:You are saving your model as an HDF5 file via `model.save()` or `keras.saving.save_model(model)`. This file format is considered legacy. We recommend using instead the native Keras format, e.g. `model.save('my_model.keras')` or `keras.saving.save_model(model, 'my_model.keras')`. \n"
     ]
    },
    {
     "name": "stdout",
     "output_type": "stream",
     "text": [
      "\u001b[1m186/186\u001b[0m \u001b[32m━━━━━━━━━━━━━━━━━━━━\u001b[0m\u001b[37m\u001b[0m \u001b[1m2s\u001b[0m 12ms/step - accuracy: 0.7124 - loss: 0.5894 - val_accuracy: 0.6484 - val_loss: 0.9015\n",
      "Epoch 17/30\n",
      "\u001b[1m184/186\u001b[0m \u001b[32m━━━━━━━━━━━━━━━━━━━\u001b[0m\u001b[37m━\u001b[0m \u001b[1m0s\u001b[0m 12ms/step - accuracy: 0.7212 - loss: 0.5664\n",
      "Epoch 17: val_loss improved from 0.90150 to 0.89628, saving model to best_age_model.h5\n"
     ]
    },
    {
     "name": "stderr",
     "output_type": "stream",
     "text": [
      "WARNING:absl:You are saving your model as an HDF5 file via `model.save()` or `keras.saving.save_model(model)`. This file format is considered legacy. We recommend using instead the native Keras format, e.g. `model.save('my_model.keras')` or `keras.saving.save_model(model, 'my_model.keras')`. \n"
     ]
    },
    {
     "name": "stdout",
     "output_type": "stream",
     "text": [
      "\u001b[1m186/186\u001b[0m \u001b[32m━━━━━━━━━━━━━━━━━━━━\u001b[0m\u001b[37m\u001b[0m \u001b[1m3s\u001b[0m 16ms/step - accuracy: 0.7213 - loss: 0.5664 - val_accuracy: 0.6650 - val_loss: 0.8963\n",
      "Epoch 18/30\n",
      "\u001b[1m186/186\u001b[0m \u001b[32m━━━━━━━━━━━━━━━━━━━━\u001b[0m\u001b[37m\u001b[0m \u001b[1m0s\u001b[0m 16ms/step - accuracy: 0.7451 - loss: 0.5255\n",
      "Epoch 18: val_loss improved from 0.89628 to 0.88430, saving model to best_age_model.h5\n"
     ]
    },
    {
     "name": "stderr",
     "output_type": "stream",
     "text": [
      "WARNING:absl:You are saving your model as an HDF5 file via `model.save()` or `keras.saving.save_model(model)`. This file format is considered legacy. We recommend using instead the native Keras format, e.g. `model.save('my_model.keras')` or `keras.saving.save_model(model, 'my_model.keras')`. \n"
     ]
    },
    {
     "name": "stdout",
     "output_type": "stream",
     "text": [
      "\u001b[1m186/186\u001b[0m \u001b[32m━━━━━━━━━━━━━━━━━━━━\u001b[0m\u001b[37m\u001b[0m \u001b[1m4s\u001b[0m 20ms/step - accuracy: 0.7451 - loss: 0.5256 - val_accuracy: 0.6657 - val_loss: 0.8843\n",
      "Epoch 19/30\n",
      "\u001b[1m184/186\u001b[0m \u001b[32m━━━━━━━━━━━━━━━━━━━\u001b[0m\u001b[37m━\u001b[0m \u001b[1m0s\u001b[0m 18ms/step - accuracy: 0.7473 - loss: 0.5120\n",
      "Epoch 19: val_loss did not improve from 0.88430\n",
      "\u001b[1m186/186\u001b[0m \u001b[32m━━━━━━━━━━━━━━━━━━━━\u001b[0m\u001b[37m\u001b[0m \u001b[1m4s\u001b[0m 19ms/step - accuracy: 0.7473 - loss: 0.5122 - val_accuracy: 0.6707 - val_loss: 0.8880\n",
      "Epoch 20/30\n",
      "\u001b[1m186/186\u001b[0m \u001b[32m━━━━━━━━━━━━━━━━━━━━\u001b[0m\u001b[37m\u001b[0m \u001b[1m0s\u001b[0m 11ms/step - accuracy: 0.7619 - loss: 0.4784\n",
      "Epoch 20: val_loss improved from 0.88430 to 0.87869, saving model to best_age_model.h5\n"
     ]
    },
    {
     "name": "stderr",
     "output_type": "stream",
     "text": [
      "WARNING:absl:You are saving your model as an HDF5 file via `model.save()` or `keras.saving.save_model(model)`. This file format is considered legacy. We recommend using instead the native Keras format, e.g. `model.save('my_model.keras')` or `keras.saving.save_model(model, 'my_model.keras')`. \n"
     ]
    },
    {
     "name": "stdout",
     "output_type": "stream",
     "text": [
      "\u001b[1m186/186\u001b[0m \u001b[32m━━━━━━━━━━━━━━━━━━━━\u001b[0m\u001b[37m\u001b[0m \u001b[1m3s\u001b[0m 13ms/step - accuracy: 0.7619 - loss: 0.4784 - val_accuracy: 0.6835 - val_loss: 0.8787\n",
      "Epoch 21/30\n",
      "\u001b[1m184/186\u001b[0m \u001b[32m━━━━━━━━━━━━━━━━━━━\u001b[0m\u001b[37m━\u001b[0m \u001b[1m0s\u001b[0m 15ms/step - accuracy: 0.7657 - loss: 0.4800\n",
      "Epoch 21: val_loss did not improve from 0.87869\n",
      "\u001b[1m186/186\u001b[0m \u001b[32m━━━━━━━━━━━━━━━━━━━━\u001b[0m\u001b[37m\u001b[0m \u001b[1m3s\u001b[0m 17ms/step - accuracy: 0.7657 - loss: 0.4802 - val_accuracy: 0.6711 - val_loss: 0.8971\n",
      "Epoch 22/30\n",
      "\u001b[1m185/186\u001b[0m \u001b[32m━━━━━━━━━━━━━━━━━━━\u001b[0m\u001b[37m━\u001b[0m \u001b[1m0s\u001b[0m 15ms/step - accuracy: 0.7797 - loss: 0.4509\n",
      "Epoch 22: val_loss did not improve from 0.87869\n",
      "\u001b[1m186/186\u001b[0m \u001b[32m━━━━━━━━━━━━━━━━━━━━\u001b[0m\u001b[37m\u001b[0m \u001b[1m3s\u001b[0m 18ms/step - accuracy: 0.7796 - loss: 0.4510 - val_accuracy: 0.6657 - val_loss: 0.9165\n",
      "Epoch 23/30\n",
      "\u001b[1m184/186\u001b[0m \u001b[32m━━━━━━━━━━━━━━━━━━━\u001b[0m\u001b[37m━\u001b[0m \u001b[1m0s\u001b[0m 18ms/step - accuracy: 0.7879 - loss: 0.4281\n",
      "Epoch 23: val_loss did not improve from 0.87869\n",
      "\u001b[1m186/186\u001b[0m \u001b[32m━━━━━━━━━━━━━━━━━━━━\u001b[0m\u001b[37m\u001b[0m \u001b[1m4s\u001b[0m 20ms/step - accuracy: 0.7879 - loss: 0.4283 - val_accuracy: 0.6738 - val_loss: 0.9113\n",
      "Epoch 24/30\n",
      "\u001b[1m184/186\u001b[0m \u001b[32m━━━━━━━━━━━━━━━━━━━\u001b[0m\u001b[37m━\u001b[0m \u001b[1m0s\u001b[0m 11ms/step - accuracy: 0.7968 - loss: 0.4033\n",
      "Epoch 24: val_loss did not improve from 0.87869\n",
      "\u001b[1m186/186\u001b[0m \u001b[32m━━━━━━━━━━━━━━━━━━━━\u001b[0m\u001b[37m\u001b[0m \u001b[1m2s\u001b[0m 13ms/step - accuracy: 0.7966 - loss: 0.4037 - val_accuracy: 0.6748 - val_loss: 0.9260\n",
      "Epoch 25/30\n",
      "\u001b[1m186/186\u001b[0m \u001b[32m━━━━━━━━━━━━━━━━━━━━\u001b[0m\u001b[37m\u001b[0m \u001b[1m0s\u001b[0m 11ms/step - accuracy: 0.7967 - loss: 0.4112\n",
      "Epoch 25: val_loss did not improve from 0.87869\n",
      "\u001b[1m186/186\u001b[0m \u001b[32m━━━━━━━━━━━━━━━━━━━━\u001b[0m\u001b[37m\u001b[0m \u001b[1m2s\u001b[0m 13ms/step - accuracy: 0.7968 - loss: 0.4112 - val_accuracy: 0.6791 - val_loss: 0.9120\n",
      "Training the gender model...\n",
      "Epoch 1/30\n",
      "\u001b[1m185/186\u001b[0m \u001b[32m━━━━━━━━━━━━━━━━━━━\u001b[0m\u001b[37m━\u001b[0m \u001b[1m0s\u001b[0m 10ms/step - accuracy: 0.6064 - loss: 0.8652\n",
      "Epoch 1: val_loss improved from inf to 0.52879, saving model to best_gender_model.h5\n"
     ]
    },
    {
     "name": "stderr",
     "output_type": "stream",
     "text": [
      "WARNING:absl:You are saving your model as an HDF5 file via `model.save()` or `keras.saving.save_model(model)`. This file format is considered legacy. We recommend using instead the native Keras format, e.g. `model.save('my_model.keras')` or `keras.saving.save_model(model, 'my_model.keras')`. \n"
     ]
    },
    {
     "name": "stdout",
     "output_type": "stream",
     "text": [
      "\u001b[1m186/186\u001b[0m \u001b[32m━━━━━━━━━━━━━━━━━━━━\u001b[0m\u001b[37m\u001b[0m \u001b[1m6s\u001b[0m 13ms/step - accuracy: 0.6073 - loss: 0.8634 - val_accuracy: 0.8053 - val_loss: 0.5288\n",
      "Epoch 2/30\n",
      "\u001b[1m182/186\u001b[0m \u001b[32m━━━━━━━━━━━━━━━━━━━\u001b[0m\u001b[37m━\u001b[0m \u001b[1m0s\u001b[0m 10ms/step - accuracy: 0.7867 - loss: 0.4558\n",
      "Epoch 2: val_loss improved from 0.52879 to 0.42043, saving model to best_gender_model.h5\n"
     ]
    },
    {
     "name": "stderr",
     "output_type": "stream",
     "text": [
      "WARNING:absl:You are saving your model as an HDF5 file via `model.save()` or `keras.saving.save_model(model)`. This file format is considered legacy. We recommend using instead the native Keras format, e.g. `model.save('my_model.keras')` or `keras.saving.save_model(model, 'my_model.keras')`. \n"
     ]
    },
    {
     "name": "stdout",
     "output_type": "stream",
     "text": [
      "\u001b[1m186/186\u001b[0m \u001b[32m━━━━━━━━━━━━━━━━━━━━\u001b[0m\u001b[37m\u001b[0m \u001b[1m2s\u001b[0m 12ms/step - accuracy: 0.7869 - loss: 0.4557 - val_accuracy: 0.8347 - val_loss: 0.4204\n",
      "Epoch 3/30\n",
      "\u001b[1m182/186\u001b[0m \u001b[32m━━━━━━━━━━━━━━━━━━━\u001b[0m\u001b[37m━\u001b[0m \u001b[1m0s\u001b[0m 10ms/step - accuracy: 0.8200 - loss: 0.4005\n",
      "Epoch 3: val_loss improved from 0.42043 to 0.38336, saving model to best_gender_model.h5\n"
     ]
    },
    {
     "name": "stderr",
     "output_type": "stream",
     "text": [
      "WARNING:absl:You are saving your model as an HDF5 file via `model.save()` or `keras.saving.save_model(model)`. This file format is considered legacy. We recommend using instead the native Keras format, e.g. `model.save('my_model.keras')` or `keras.saving.save_model(model, 'my_model.keras')`. \n"
     ]
    },
    {
     "name": "stdout",
     "output_type": "stream",
     "text": [
      "\u001b[1m186/186\u001b[0m \u001b[32m━━━━━━━━━━━━━━━━━━━━\u001b[0m\u001b[37m\u001b[0m \u001b[1m3s\u001b[0m 14ms/step - accuracy: 0.8201 - loss: 0.4001 - val_accuracy: 0.8512 - val_loss: 0.3834\n",
      "Epoch 4/30\n",
      "\u001b[1m180/186\u001b[0m \u001b[32m━━━━━━━━━━━━━━━━━━━\u001b[0m\u001b[37m━\u001b[0m \u001b[1m0s\u001b[0m 12ms/step - accuracy: 0.8459 - loss: 0.3244\n",
      "Epoch 4: val_loss improved from 0.38336 to 0.33113, saving model to best_gender_model.h5\n"
     ]
    },
    {
     "name": "stderr",
     "output_type": "stream",
     "text": [
      "WARNING:absl:You are saving your model as an HDF5 file via `model.save()` or `keras.saving.save_model(model)`. This file format is considered legacy. We recommend using instead the native Keras format, e.g. `model.save('my_model.keras')` or `keras.saving.save_model(model, 'my_model.keras')`. \n"
     ]
    },
    {
     "name": "stdout",
     "output_type": "stream",
     "text": [
      "\u001b[1m186/186\u001b[0m \u001b[32m━━━━━━━━━━━━━━━━━━━━\u001b[0m\u001b[37m\u001b[0m \u001b[1m3s\u001b[0m 15ms/step - accuracy: 0.8460 - loss: 0.3245 - val_accuracy: 0.8661 - val_loss: 0.3311\n",
      "Epoch 5/30\n",
      "\u001b[1m184/186\u001b[0m \u001b[32m━━━━━━━━━━━━━━━━━━━\u001b[0m\u001b[37m━\u001b[0m \u001b[1m0s\u001b[0m 17ms/step - accuracy: 0.8681 - loss: 0.2953\n",
      "Epoch 5: val_loss did not improve from 0.33113\n",
      "\u001b[1m186/186\u001b[0m \u001b[32m━━━━━━━━━━━━━━━━━━━━\u001b[0m\u001b[37m\u001b[0m \u001b[1m4s\u001b[0m 20ms/step - accuracy: 0.8681 - loss: 0.2954 - val_accuracy: 0.8650 - val_loss: 0.3406\n",
      "Epoch 6/30\n",
      "\u001b[1m186/186\u001b[0m \u001b[32m━━━━━━━━━━━━━━━━━━━━\u001b[0m\u001b[37m\u001b[0m \u001b[1m0s\u001b[0m 15ms/step - accuracy: 0.8740 - loss: 0.2875\n",
      "Epoch 6: val_loss improved from 0.33113 to 0.30336, saving model to best_gender_model.h5\n"
     ]
    },
    {
     "name": "stderr",
     "output_type": "stream",
     "text": [
      "WARNING:absl:You are saving your model as an HDF5 file via `model.save()` or `keras.saving.save_model(model)`. This file format is considered legacy. We recommend using instead the native Keras format, e.g. `model.save('my_model.keras')` or `keras.saving.save_model(model, 'my_model.keras')`. \n"
     ]
    },
    {
     "name": "stdout",
     "output_type": "stream",
     "text": [
      "\u001b[1m186/186\u001b[0m \u001b[32m━━━━━━━━━━━━━━━━━━━━\u001b[0m\u001b[37m\u001b[0m \u001b[1m3s\u001b[0m 17ms/step - accuracy: 0.8740 - loss: 0.2875 - val_accuracy: 0.8748 - val_loss: 0.3034\n",
      "Epoch 7/30\n",
      "\u001b[1m186/186\u001b[0m \u001b[32m━━━━━━━━━━━━━━━━━━━━\u001b[0m\u001b[37m\u001b[0m \u001b[1m0s\u001b[0m 10ms/step - accuracy: 0.8948 - loss: 0.2318\n",
      "Epoch 7: val_loss did not improve from 0.30336\n",
      "\u001b[1m186/186\u001b[0m \u001b[32m━━━━━━━━━━━━━━━━━━━━\u001b[0m\u001b[37m\u001b[0m \u001b[1m3s\u001b[0m 13ms/step - accuracy: 0.8947 - loss: 0.2319 - val_accuracy: 0.8836 - val_loss: 0.3074\n",
      "Epoch 8/30\n",
      "\u001b[1m186/186\u001b[0m \u001b[32m━━━━━━━━━━━━━━━━━━━━\u001b[0m\u001b[37m\u001b[0m \u001b[1m0s\u001b[0m 13ms/step - accuracy: 0.9003 - loss: 0.2128\n",
      "Epoch 8: val_loss did not improve from 0.30336\n",
      "\u001b[1m186/186\u001b[0m \u001b[32m━━━━━━━━━━━━━━━━━━━━\u001b[0m\u001b[37m\u001b[0m \u001b[1m3s\u001b[0m 16ms/step - accuracy: 0.9003 - loss: 0.2129 - val_accuracy: 0.8860 - val_loss: 0.3094\n",
      "Epoch 9/30\n",
      "\u001b[1m182/186\u001b[0m \u001b[32m━━━━━━━━━━━━━━━━━━━\u001b[0m\u001b[37m━\u001b[0m \u001b[1m0s\u001b[0m 14ms/step - accuracy: 0.9039 - loss: 0.2073\n",
      "Epoch 9: val_loss improved from 0.30336 to 0.29210, saving model to best_gender_model.h5\n"
     ]
    },
    {
     "name": "stderr",
     "output_type": "stream",
     "text": [
      "WARNING:absl:You are saving your model as an HDF5 file via `model.save()` or `keras.saving.save_model(model)`. This file format is considered legacy. We recommend using instead the native Keras format, e.g. `model.save('my_model.keras')` or `keras.saving.save_model(model, 'my_model.keras')`. \n"
     ]
    },
    {
     "name": "stdout",
     "output_type": "stream",
     "text": [
      "\u001b[1m186/186\u001b[0m \u001b[32m━━━━━━━━━━━━━━━━━━━━\u001b[0m\u001b[37m\u001b[0m \u001b[1m3s\u001b[0m 17ms/step - accuracy: 0.9039 - loss: 0.2075 - val_accuracy: 0.8866 - val_loss: 0.2921\n",
      "Epoch 10/30\n",
      "\u001b[1m183/186\u001b[0m \u001b[32m━━━━━━━━━━━━━━━━━━━\u001b[0m\u001b[37m━\u001b[0m \u001b[1m0s\u001b[0m 14ms/step - accuracy: 0.9117 - loss: 0.1858\n",
      "Epoch 10: val_loss improved from 0.29210 to 0.27065, saving model to best_gender_model.h5\n"
     ]
    },
    {
     "name": "stderr",
     "output_type": "stream",
     "text": [
      "WARNING:absl:You are saving your model as an HDF5 file via `model.save()` or `keras.saving.save_model(model)`. This file format is considered legacy. We recommend using instead the native Keras format, e.g. `model.save('my_model.keras')` or `keras.saving.save_model(model, 'my_model.keras')`. \n"
     ]
    },
    {
     "name": "stdout",
     "output_type": "stream",
     "text": [
      "\u001b[1m186/186\u001b[0m \u001b[32m━━━━━━━━━━━━━━━━━━━━\u001b[0m\u001b[37m\u001b[0m \u001b[1m3s\u001b[0m 17ms/step - accuracy: 0.9117 - loss: 0.1860 - val_accuracy: 0.8988 - val_loss: 0.2707\n",
      "Epoch 11/30\n",
      "\u001b[1m185/186\u001b[0m \u001b[32m━━━━━━━━━━━━━━━━━━━\u001b[0m\u001b[37m━\u001b[0m \u001b[1m0s\u001b[0m 20ms/step - accuracy: 0.9156 - loss: 0.1852\n",
      "Epoch 11: val_loss did not improve from 0.27065\n",
      "\u001b[1m186/186\u001b[0m \u001b[32m━━━━━━━━━━━━━━━━━━━━\u001b[0m\u001b[37m\u001b[0m \u001b[1m4s\u001b[0m 23ms/step - accuracy: 0.9155 - loss: 0.1852 - val_accuracy: 0.8941 - val_loss: 0.2896\n",
      "Epoch 12/30\n",
      "\u001b[1m185/186\u001b[0m \u001b[32m━━━━━━━━━━━━━━━━━━━\u001b[0m\u001b[37m━\u001b[0m \u001b[1m0s\u001b[0m 13ms/step - accuracy: 0.9204 - loss: 0.1758\n",
      "Epoch 12: val_loss did not improve from 0.27065\n",
      "\u001b[1m186/186\u001b[0m \u001b[32m━━━━━━━━━━━━━━━━━━━━\u001b[0m\u001b[37m\u001b[0m \u001b[1m3s\u001b[0m 15ms/step - accuracy: 0.9204 - loss: 0.1759 - val_accuracy: 0.8900 - val_loss: 0.3038\n",
      "Epoch 13/30\n",
      "\u001b[1m182/186\u001b[0m \u001b[32m━━━━━━━━━━━━━━━━━━━\u001b[0m\u001b[37m━\u001b[0m \u001b[1m0s\u001b[0m 12ms/step - accuracy: 0.9311 - loss: 0.1600\n",
      "Epoch 13: val_loss did not improve from 0.27065\n",
      "\u001b[1m186/186\u001b[0m \u001b[32m━━━━━━━━━━━━━━━━━━━━\u001b[0m\u001b[37m\u001b[0m \u001b[1m3s\u001b[0m 14ms/step - accuracy: 0.9310 - loss: 0.1601 - val_accuracy: 0.8930 - val_loss: 0.3075\n",
      "Epoch 14/30\n",
      "\u001b[1m185/186\u001b[0m \u001b[32m━━━━━━━━━━━━━━━━━━━\u001b[0m\u001b[37m━\u001b[0m \u001b[1m0s\u001b[0m 16ms/step - accuracy: 0.9330 - loss: 0.1499\n",
      "Epoch 14: val_loss did not improve from 0.27065\n",
      "\u001b[1m186/186\u001b[0m \u001b[32m━━━━━━━━━━━━━━━━━━━━\u001b[0m\u001b[37m\u001b[0m \u001b[1m4s\u001b[0m 19ms/step - accuracy: 0.9330 - loss: 0.1500 - val_accuracy: 0.8954 - val_loss: 0.2890\n",
      "Epoch 15/30\n",
      "\u001b[1m182/186\u001b[0m \u001b[32m━━━━━━━━━━━━━━━━━━━\u001b[0m\u001b[37m━\u001b[0m \u001b[1m0s\u001b[0m 24ms/step - accuracy: 0.9325 - loss: 0.1418\n",
      "Epoch 15: val_loss did not improve from 0.27065\n",
      "\u001b[1m186/186\u001b[0m \u001b[32m━━━━━━━━━━━━━━━━━━━━\u001b[0m\u001b[37m\u001b[0m \u001b[1m5s\u001b[0m 26ms/step - accuracy: 0.9324 - loss: 0.1421 - val_accuracy: 0.9025 - val_loss: 0.2856\n"
     ]
    }
   ],
   "source": [
    "print(\"Training the age model...\")\n",
    "age_history = age_model.fit(\n",
    "    train_features_scaled,\n",
    "    train_age_labels,\n",
    "    validation_data=(val_features_scaled, val_age_labels),\n",
    "    epochs=30,\n",
    "    batch_size=64,\n",
    "    callbacks=age_callbacks,\n",
    "    class_weight=dict(enumerate(age_weights))\n",
    ")\n",
    "\n",
    "# Train gender model\n",
    "print(\"Training the gender model...\")\n",
    "gender_history = gender_model.fit(\n",
    "    train_features_scaled,\n",
    "    train_gender_labels,\n",
    "    validation_data=(val_features_scaled, val_gender_labels),\n",
    "    epochs=30,\n",
    "    batch_size=64,\n",
    "    callbacks=gender_callbacks,\n",
    "    class_weight=dict(enumerate(gender_weights))\n",
    ")"
   ]
  },
  {
   "cell_type": "markdown",
   "id": "7415edad69f4a29c",
   "metadata": {
    "collapsed": false
   },
   "source": [
    "### Save the model"
   ]
  },
  {
   "cell_type": "code",
   "execution_count": 29,
   "id": "a08d214ac3f586d1",
   "metadata": {
    "ExecuteTime": {
     "end_time": "2025-03-03T17:38:49.336155800Z",
     "start_time": "2025-03-03T17:38:49.081209300Z"
    },
    "collapsed": false
   },
   "outputs": [
    {
     "name": "stderr",
     "output_type": "stream",
     "text": [
      "WARNING:absl:You are saving your model as an HDF5 file via `model.save()` or `keras.saving.save_model(model)`. This file format is considered legacy. We recommend using instead the native Keras format, e.g. `model.save('my_model.keras')` or `keras.saving.save_model(model, 'my_model.keras')`. \n",
      "WARNING:absl:You are saving your model as an HDF5 file via `model.save()` or `keras.saving.save_model(model)`. This file format is considered legacy. We recommend using instead the native Keras format, e.g. `model.save('my_model.keras')` or `keras.saving.save_model(model, 'my_model.keras')`. \n"
     ]
    },
    {
     "name": "stdout",
     "output_type": "stream",
     "text": [
      "Models saved successfully.\n"
     ]
    }
   ],
   "source": [
    "age_model.save('age_model.h5')\n",
    "gender_model.save('gender_model.h5')\n",
    "print(\"Models saved successfully.\")"
   ]
  },
  {
   "cell_type": "markdown",
   "id": "38d3a9b52ffe5524",
   "metadata": {
    "collapsed": false
   },
   "source": [
    "### Evaluate the model"
   ]
  },
  {
   "cell_type": "code",
   "execution_count": 30,
   "id": "a037d8829d66df1c",
   "metadata": {
    "ExecuteTime": {
     "end_time": "2025-03-03T17:38:51.322487100Z",
     "start_time": "2025-03-03T17:38:49.264201200Z"
    },
    "collapsed": false
   },
   "outputs": [
    {
     "name": "stdout",
     "output_type": "stream",
     "text": [
      "Evaluating models together...\n",
      "\u001b[1m117/117\u001b[0m \u001b[32m━━━━━━━━━━━━━━━━━━━━\u001b[0m\u001b[37m\u001b[0m \u001b[1m1s\u001b[0m 6ms/step\n",
      "\u001b[1m117/117\u001b[0m \u001b[32m━━━━━━━━━━━━━━━━━━━━\u001b[0m\u001b[37m\u001b[0m \u001b[1m1s\u001b[0m 5ms/step\n",
      "Age Accuracy: 0.3876\n",
      "Gender Accuracy: 0.8143\n",
      "Combined Accuracy (both correct): 0.3149\n"
     ]
    }
   ],
   "source": [
    "# After training the separate models, we can evaluate them together:\n",
    "print(\"Evaluating models together...\")\n",
    "\n",
    "# Make predictions with both models\n",
    "age_predictions = np.argmax(age_model.predict(test_features_scaled), axis=1)\n",
    "gender_predictions = np.argmax(gender_model.predict(test_features_scaled), axis=1)\n",
    "\n",
    "# Calculate individual accuracies\n",
    "age_accuracy = np.mean(age_predictions == test_data['age_encoded'].values)\n",
    "gender_accuracy = np.mean(gender_predictions == test_data['gender_encoded'].values)\n",
    "\n",
    "# Calculate combined accuracy (both predictions correct)\n",
    "correct_both = np.logical_and(\n",
    "    age_predictions == test_data['age_encoded'].values,\n",
    "    gender_predictions == test_data['gender_encoded'].values\n",
    ")\n",
    "combined_accuracy = np.mean(correct_both)\n",
    "\n",
    "print(f\"Age Accuracy: {age_accuracy:.4f}\")\n",
    "print(f\"Gender Accuracy: {gender_accuracy:.4f}\")\n",
    "print(f\"Combined Accuracy (both correct): {combined_accuracy:.4f}\")"
   ]
  },
  {
   "cell_type": "markdown",
   "id": "ed34bbfaece4c75",
   "metadata": {
    "collapsed": false
   },
   "source": [
    "### Make predictions"
   ]
  },
  {
   "cell_type": "code",
   "execution_count": 31,
   "id": "1de4ad82b9be1981",
   "metadata": {
    "ExecuteTime": {
     "end_time": "2025-03-03T17:38:52.925271100Z",
     "start_time": "2025-03-03T17:38:51.319486600Z"
    },
    "collapsed": false
   },
   "outputs": [
    {
     "name": "stdout",
     "output_type": "stream",
     "text": [
      "Making predictions...\n",
      "\u001b[1m117/117\u001b[0m \u001b[32m━━━━━━━━━━━━━━━━━━━━\u001b[0m\u001b[37m\u001b[0m \u001b[1m1s\u001b[0m 5ms/step\n",
      "\u001b[1m117/117\u001b[0m \u001b[32m━━━━━━━━━━━━━━━━━━━━\u001b[0m\u001b[37m\u001b[0m \u001b[1m1s\u001b[0m 5ms/step\n"
     ]
    }
   ],
   "source": [
    "print(\"Making predictions...\")\n",
    "age_predictions = np.argmax(age_model.predict(test_features_scaled), axis=1)\n",
    "gender_predictions = np.argmax(gender_model.predict(test_features_scaled), axis=1)"
   ]
  },
  {
   "cell_type": "markdown",
   "id": "c42aa770b10634ab",
   "metadata": {
    "collapsed": false
   },
   "source": [
    "### Generate classification reports "
   ]
  },
  {
   "cell_type": "code",
   "execution_count": 32,
   "id": "5014711069e13b30",
   "metadata": {
    "ExecuteTime": {
     "end_time": "2025-03-03T17:38:53.002179800Z",
     "start_time": "2025-03-03T17:38:52.930299400Z"
    },
    "collapsed": false
   },
   "outputs": [
    {
     "name": "stdout",
     "output_type": "stream",
     "text": [
      "\n",
      "Age Classification Report:\n",
      "              precision    recall  f1-score   support\n",
      "\n",
      "      (0, 2)       0.73      0.73      0.73       483\n",
      "    (15, 20)       0.14      0.21      0.17       227\n",
      "    (25, 32)       0.49      0.44      0.46      1036\n",
      "    (38, 43)       0.25      0.29      0.27       543\n",
      "      (4, 6)       0.50      0.35      0.41       570\n",
      "    (48, 53)       0.19      0.17      0.18       258\n",
      "   (60, 100)       0.45      0.35      0.40       274\n",
      "     (8, 23)       0.19      0.29      0.23       340\n",
      "\n",
      "    accuracy                           0.39      3731\n",
      "   macro avg       0.37      0.35      0.35      3731\n",
      "weighted avg       0.42      0.39      0.40      3731\n",
      "\n",
      "\n",
      "Gender Classification Report:\n",
      "              precision    recall  f1-score   support\n",
      "\n",
      "           f       0.85      0.82      0.83      1848\n",
      "           m       0.79      0.83      0.81      1597\n",
      "           u       0.73      0.70      0.72       286\n",
      "\n",
      "    accuracy                           0.81      3731\n",
      "   macro avg       0.79      0.78      0.79      3731\n",
      "weighted avg       0.82      0.81      0.81      3731\n"
     ]
    }
   ],
   "source": [
    "print(\"\\nAge Classification Report:\")\n",
    "print(classification_report(test_data['age_encoded'].values, age_predictions, \n",
    "                          target_names=age_encoder.classes_))\n",
    "print(\"\\nGender Classification Report:\")\n",
    "print(classification_report(test_data['gender_encoded'].values, gender_predictions, \n",
    "                          target_names=gender_encoder.classes_))"
   ]
  },
  {
   "cell_type": "markdown",
   "id": "51cb1407beabd1f2",
   "metadata": {
    "collapsed": false
   },
   "source": [
    "### visualize training history"
   ]
  },
  {
   "cell_type": "code",
   "execution_count": 33,
   "id": "e4361a46f571ccd8",
   "metadata": {
    "ExecuteTime": {
     "end_time": "2025-03-03T17:38:55.264440300Z",
     "start_time": "2025-03-03T17:38:52.999390300Z"
    },
    "collapsed": false
   },
   "outputs": [
    {
     "data": {
      "image/png": "[encoded data removed]",
      "text/plain": [
       "<Figure size 1200x500 with 2 Axes>"
      ]
     },
     "metadata": {},
     "output_type": "display_data"
    },
    {
     "data": {
      "image/png": "[encoded data removed]",
      "text/plain": [
       "<Figure size 1200x500 with 2 Axes>"
      ]
     },
     "metadata": {},
     "output_type": "display_data"
    }
   ],
   "source": [
    "plt.figure(figsize=(12, 5))\n",
    "\n",
    "# Age accuracy\n",
    "plt.subplot(1, 2, 1)\n",
    "plt.plot(age_history.history['accuracy'], label='Train Age Accuracy')\n",
    "plt.plot(age_history.history['val_accuracy'], label='Validation Age Accuracy')\n",
    "plt.title('Age Accuracy')\n",
    "plt.legend()\n",
    "\n",
    "# Age loss\n",
    "plt.subplot(1, 2, 2)\n",
    "plt.plot(age_history.history['loss'], label='Train Age Loss')\n",
    "plt.plot(age_history.history['val_loss'], label='Validation Age Loss')\n",
    "plt.title('Age Loss')\n",
    "plt.legend()\n",
    "\n",
    "plt.tight_layout()\n",
    "plt.savefig('age_training_history.png')\n",
    "plt.show()\n",
    "\n",
    "# Visualize training history for gender model\n",
    "plt.figure(figsize=(12, 5))\n",
    "\n",
    "# Gender accuracy\n",
    "plt.subplot(1, 2, 1)\n",
    "plt.plot(gender_history.history['accuracy'], label='Train Gender Accuracy')\n",
    "plt.plot(gender_history.history['val_accuracy'], label='Validation Gender Accuracy')\n",
    "plt.title('Gender Accuracy')\n",
    "plt.legend()\n",
    "\n",
    "# Gender loss\n",
    "plt.subplot(1, 2, 2)\n",
    "plt.plot(gender_history.history['loss'], label='Train Gender Loss')\n",
    "plt.plot(gender_history.history['val_loss'], label='Validation Gender Loss')\n",
    "plt.title('Gender Loss')\n",
    "plt.legend()\n",
    "\n",
    "plt.tight_layout()\n",
    "plt.savefig('gender_training_history.png')\n",
    "plt.show()"
   ]
  },
  {
   "cell_type": "markdown",
   "id": "b47e04bfacceaa68",
   "metadata": {
    "collapsed": false
   },
   "source": [
    "### Example of how to load the model and use it for prediction"
   ]
  },
  {
   "cell_type": "code",
   "execution_count": 34,
   "id": "9213d6843c6a1a52",
   "metadata": {
    "ExecuteTime": {
     "end_time": "2025-03-03T17:38:56.561887300Z",
     "start_time": "2025-03-03T17:38:55.204733100Z"
    },
    "collapsed": false
   },
   "outputs": [
    {
     "name": "stderr",
     "output_type": "stream",
     "text": [
      "WARNING:absl:Compiled the loaded model, but the compiled metrics have yet to be built. `model.compile_metrics` will be empty until you train or evaluate the model.\n",
      "WARNING:absl:Compiled the loaded model, but the compiled metrics have yet to be built. `model.compile_metrics` will be empty until you train or evaluate the model.\n"
     ]
    },
    {
     "name": "stdout",
     "output_type": "stream",
     "text": [
      "\u001b[1m1/1\u001b[0m \u001b[32m━━━━━━━━━━━━━━━━━━━━\u001b[0m\u001b[37m\u001b[0m \u001b[1m0s\u001b[0m 142ms/step\n",
      "\u001b[1m1/1\u001b[0m \u001b[32m━━━━━━━━━━━━━━━━━━━━\u001b[0m\u001b[37m\u001b[0m \u001b[1m0s\u001b[0m 148ms/step\n",
      "Predicted Age Range: (25, 32)\n",
      "Predicted Gender: m\n"
     ]
    }
   ],
   "source": [
    "def predict_age_and_gender(image_path):\n",
    "    \"\"\"\n",
    "    Load pre-trained models and predict age and gender from an image.\n",
    "    \n",
    "    Args:\n",
    "        image_path (str): Path to the image file\n",
    "    \n",
    "    Returns:\n",
    "        tuple: (age_range, gender) as strings\n",
    "    \"\"\"\n",
    "    import numpy as np\n",
    "    import os\n",
    "    import joblib\n",
    "    from tensorflow.keras.models import load_model\n",
    "    from img2vec import rgb2emb  # Your feature extraction function\n",
    "    \n",
    "    # Check if the image exists\n",
    "    if not os.path.exists(image_path):\n",
    "        return \"Error: Image not found\"\n",
    "    \n",
    "    # Load the models\n",
    "    try:\n",
    "        age_model = load_model('age_model.h5')\n",
    "        gender_model = load_model('gender_model.h5')\n",
    "    except Exception as e:\n",
    "        return f\"Error loading models: {str(e)}\"\n",
    "    \n",
    "    # Load the encoders\n",
    "    try:\n",
    "        age_encoder = joblib.load('age_encoder.pkl')\n",
    "        gender_encoder = joblib.load('gender_encoder.pkl')\n",
    "        scaler = joblib.load('feature_scaler.pkl')\n",
    "    except Exception as e:\n",
    "        return f\"Error loading encoders: {str(e)}\"\n",
    "    \n",
    "    # Extract features from the image\n",
    "    try:\n",
    "        # Convert to batch format (list with single image)\n",
    "        features = rgb2emb([image_path])\n",
    "        \n",
    "        # Scale features\n",
    "        features_scaled = scaler.transform(features)\n",
    "        \n",
    "        # Make predictions\n",
    "        age_pred = np.argmax(age_model.predict(features_scaled), axis=1)[0]\n",
    "        gender_pred = np.argmax(gender_model.predict(features_scaled), axis=1)[0]\n",
    "        \n",
    "        # Convert numerical predictions to original labels\n",
    "        age_range = age_encoder.inverse_transform([age_pred])[0]\n",
    "        gender = gender_encoder.inverse_transform([gender_pred])[0]\n",
    "        \n",
    "        return (age_range, gender)\n",
    "    \n",
    "    except Exception as e:\n",
    "        return f\"Error during prediction: {str(e)}\"\n",
    "\n",
    "# Example usage:\n",
    "age_range, gender = predict_age_and_gender(\"../../img.jpg\")\n",
    "print(f\"Predicted Age Range: {age_range}\")\n",
    "print(f\"Predicted Gender: {gender}\")"
   ]
  },
  {
   "cell_type": "code",
   "execution_count": 34,
   "id": "f3587beeed8a0380",
   "metadata": {
    "ExecuteTime": {
     "end_time": "2025-03-03T17:38:56.585462900Z",
     "start_time": "2025-03-03T17:38:56.563893800Z"
    },
    "collapsed": false
   },
   "outputs": [],
   "source": []
  }
 ],
 "metadata": {
  "kernelspec": {
   "display_name": "Python 3",
   "language": "python",
   "name": "python3"
  },
  "language_info": {
   "codemirror_mode": {
    "name": "ipython",
    "version": 2
   },
   "file_extension": ".py",
   "mimetype": "text/x-python",
   "name": "python",
   "nbconvert_exporter": "python",
   "pygments_lexer": "ipython2",
   "version": "2.7.6"
  }
 },
 "nbformat": 4,
 "nbformat_minor": 5
}