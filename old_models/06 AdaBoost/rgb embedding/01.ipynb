{
 "cells": [
  {
   "cell_type": "code",
   "execution_count": 4,
   "id": "initial_id",
   "metadata": {
    "collapsed": true,
    "ExecuteTime": {
     "end_time": "2025-03-03T11:05:58.114127Z",
     "start_time": "2025-03-03T10:56:53.355397Z"
    }
   },
   "outputs": [],
   "source": [
    "import numpy as np\n",
    "from sklearn.preprocessing import LabelEncoder, StandardScaler\n",
    "from sklearn.ensemble import  AdaBoostClassifier\n",
    "from sklearn.calibration import CalibratedClassifierCV\n",
    "from sklearn.metrics import classification_report, confusion_matrix\n",
    "import matplotlib.pyplot as plt\n",
    "import seaborn as sns\n",
    "import math\n",
    "import os\n",
    "import pandas as pd\n",
    "import pickle\n",
    "from sklearn.model_selection import GridSearchCV\n",
    "from sklearn.pipeline import Pipeline\n",
    "from joblib import dump, load\n",
    "\n",
    "# Define the batch size for data processing\n",
    "batch_size = 64"
   ]
  },
  {
   "cell_type": "markdown",
   "source": [
    "### read the data"
   ],
   "metadata": {
    "collapsed": false
   },
   "id": "3326293bd4a1cbd2"
  },
  {
   "cell_type": "code",
   "outputs": [],
   "source": [
    "train_data = pd.read_csv(os.path.join('..', '..', 'data', 'train.csv'))\n",
    "val_data = pd.read_csv(os.path.join('..', '..', 'data', 'val.csv'))\n",
    "test_data = pd.read_csv(os.path.join('..', '..', 'data', 'test.csv'))"
   ],
   "metadata": {
    "collapsed": false,
    "ExecuteTime": {
     "end_time": "2025-03-03T11:05:58.235928Z",
     "start_time": "2025-03-03T11:05:58.113862Z"
    }
   },
   "id": "d0d81905ab77e1f7",
   "execution_count": 5
  },
  {
   "cell_type": "markdown",
   "source": [
    "### add the path of the images"
   ],
   "metadata": {
    "collapsed": false
   },
   "id": "cf4fcd31e9e79df7"
  },
  {
   "cell_type": "code",
   "outputs": [
    {
     "data": {
      "text/plain": "         user_id  face_id                original_image        age gender  \\\n0    9855553@N08     1581  11658657103_4485e3f5ac_o.jpg  (60, 100)      m   \n1  114841417@N06      502  12059583524_606ca96139_o.jpg   (15, 20)      m   \n2   66870968@N06     1227  11326189206_e08bdf6dfd_o.jpg   (25, 32)      m   \n3    8187011@N06      988  11133041085_e2ee5e12cb_o.jpg     (0, 2)      u   \n4  114841417@N06      485  12059753735_7141b5443c_o.jpg   (15, 20)      f   \n\n                                            img_path  \n0  ../../data/faces/9855553@N08/coarse_tilt_align...  \n1  ../../data/faces/114841417@N06/coarse_tilt_ali...  \n2  ../../data/faces/66870968@N06/coarse_tilt_alig...  \n3  ../../data/faces/8187011@N06/coarse_tilt_align...  \n4  ../../data/faces/114841417@N06/coarse_tilt_ali...  ",
      "text/html": "<div>\n<style scoped>\n    .dataframe tbody tr th:only-of-type {\n        vertical-align: middle;\n    }\n\n    .dataframe tbody tr th {\n        vertical-align: top;\n    }\n\n    .dataframe thead th {\n        text-align: right;\n    }\n</style>\n<table border=\"1\" class=\"dataframe\">\n  <thead>\n    <tr style=\"text-align: right;\">\n      <th></th>\n      <th>user_id</th>\n      <th>face_id</th>\n      <th>original_image</th>\n      <th>age</th>\n      <th>gender</th>\n      <th>img_path</th>\n    </tr>\n  </thead>\n  <tbody>\n    <tr>\n      <th>0</th>\n      <td>9855553@N08</td>\n      <td>1581</td>\n      <td>11658657103_4485e3f5ac_o.jpg</td>\n      <td>(60, 100)</td>\n      <td>m</td>\n      <td>../../data/faces/9855553@N08/coarse_tilt_align...</td>\n    </tr>\n    <tr>\n      <th>1</th>\n      <td>114841417@N06</td>\n      <td>502</td>\n      <td>12059583524_606ca96139_o.jpg</td>\n      <td>(15, 20)</td>\n      <td>m</td>\n      <td>../../data/faces/114841417@N06/coarse_tilt_ali...</td>\n    </tr>\n    <tr>\n      <th>2</th>\n      <td>66870968@N06</td>\n      <td>1227</td>\n      <td>11326189206_e08bdf6dfd_o.jpg</td>\n      <td>(25, 32)</td>\n      <td>m</td>\n      <td>../../data/faces/66870968@N06/coarse_tilt_alig...</td>\n    </tr>\n    <tr>\n      <th>3</th>\n      <td>8187011@N06</td>\n      <td>988</td>\n      <td>11133041085_e2ee5e12cb_o.jpg</td>\n      <td>(0, 2)</td>\n      <td>u</td>\n      <td>../../data/faces/8187011@N06/coarse_tilt_align...</td>\n    </tr>\n    <tr>\n      <th>4</th>\n      <td>114841417@N06</td>\n      <td>485</td>\n      <td>12059753735_7141b5443c_o.jpg</td>\n      <td>(15, 20)</td>\n      <td>f</td>\n      <td>../../data/faces/114841417@N06/coarse_tilt_ali...</td>\n    </tr>\n  </tbody>\n</table>\n</div>"
     },
     "execution_count": 6,
     "metadata": {},
     "output_type": "execute_result"
    }
   ],
   "source": [
    "def construct_img_path(row):\n",
    "    return os.path.join(\"..\", \"..\", \"data\", \"faces\", row['user_id'],\n",
    "                        \"coarse_tilt_aligned_face.\" + str(row['face_id']) + \".\" + row['original_image'])\n",
    "\n",
    "\n",
    "train_data['img_path'] = train_data.apply(construct_img_path, axis=1)\n",
    "val_data['img_path'] = val_data.apply(construct_img_path, axis=1)\n",
    "test_data['img_path'] = test_data.apply(construct_img_path, axis=1)\n",
    "train_data.head(5)"
   ],
   "metadata": {
    "collapsed": false,
    "ExecuteTime": {
     "end_time": "2025-03-03T11:05:59.110738Z",
     "start_time": "2025-03-03T11:05:58.182660Z"
    }
   },
   "id": "de62b097644a1724",
   "execution_count": 6
  },
  {
   "cell_type": "markdown",
   "source": [
    "#### add column for check if the image exists\n",
    "it will help us to detect if there is any missing image, or if there is any bug in the path construction"
   ],
   "metadata": {
    "collapsed": false
   },
   "id": "bad02e3a4543f60f"
  },
  {
   "cell_type": "code",
   "outputs": [
    {
     "data": {
      "text/plain": "         user_id  face_id                original_image        age gender  \\\n0    9855553@N08     1581  11658657103_4485e3f5ac_o.jpg  (60, 100)      m   \n1  114841417@N06      502  12059583524_606ca96139_o.jpg   (15, 20)      m   \n2   66870968@N06     1227  11326189206_e08bdf6dfd_o.jpg   (25, 32)      m   \n3    8187011@N06      988  11133041085_e2ee5e12cb_o.jpg     (0, 2)      u   \n4  114841417@N06      485  12059753735_7141b5443c_o.jpg   (15, 20)      f   \n\n                                            img_path  img_exists  \n0  ../../data/faces/9855553@N08/coarse_tilt_align...        True  \n1  ../../data/faces/114841417@N06/coarse_tilt_ali...        True  \n2  ../../data/faces/66870968@N06/coarse_tilt_alig...        True  \n3  ../../data/faces/8187011@N06/coarse_tilt_align...        True  \n4  ../../data/faces/114841417@N06/coarse_tilt_ali...        True  ",
      "text/html": "<div>\n<style scoped>\n    .dataframe tbody tr th:only-of-type {\n        vertical-align: middle;\n    }\n\n    .dataframe tbody tr th {\n        vertical-align: top;\n    }\n\n    .dataframe thead th {\n        text-align: right;\n    }\n</style>\n<table border=\"1\" class=\"dataframe\">\n  <thead>\n    <tr style=\"text-align: right;\">\n      <th></th>\n      <th>user_id</th>\n      <th>face_id</th>\n      <th>original_image</th>\n      <th>age</th>\n      <th>gender</th>\n      <th>img_path</th>\n      <th>img_exists</th>\n    </tr>\n  </thead>\n  <tbody>\n    <tr>\n      <th>0</th>\n      <td>9855553@N08</td>\n      <td>1581</td>\n      <td>11658657103_4485e3f5ac_o.jpg</td>\n      <td>(60, 100)</td>\n      <td>m</td>\n      <td>../../data/faces/9855553@N08/coarse_tilt_align...</td>\n      <td>True</td>\n    </tr>\n    <tr>\n      <th>1</th>\n      <td>114841417@N06</td>\n      <td>502</td>\n      <td>12059583524_606ca96139_o.jpg</td>\n      <td>(15, 20)</td>\n      <td>m</td>\n      <td>../../data/faces/114841417@N06/coarse_tilt_ali...</td>\n      <td>True</td>\n    </tr>\n    <tr>\n      <th>2</th>\n      <td>66870968@N06</td>\n      <td>1227</td>\n      <td>11326189206_e08bdf6dfd_o.jpg</td>\n      <td>(25, 32)</td>\n      <td>m</td>\n      <td>../../data/faces/66870968@N06/coarse_tilt_alig...</td>\n      <td>True</td>\n    </tr>\n    <tr>\n      <th>3</th>\n      <td>8187011@N06</td>\n      <td>988</td>\n      <td>11133041085_e2ee5e12cb_o.jpg</td>\n      <td>(0, 2)</td>\n      <td>u</td>\n      <td>../../data/faces/8187011@N06/coarse_tilt_align...</td>\n      <td>True</td>\n    </tr>\n    <tr>\n      <th>4</th>\n      <td>114841417@N06</td>\n      <td>485</td>\n      <td>12059753735_7141b5443c_o.jpg</td>\n      <td>(15, 20)</td>\n      <td>f</td>\n      <td>../../data/faces/114841417@N06/coarse_tilt_ali...</td>\n      <td>True</td>\n    </tr>\n  </tbody>\n</table>\n</div>"
     },
     "execution_count": 7,
     "metadata": {},
     "output_type": "execute_result"
    }
   ],
   "source": [
    "train_data['img_exists'] = train_data['img_path'].apply(os.path.exists)\n",
    "val_data['img_exists'] = val_data['img_path'].apply(os.path.exists)\n",
    "test_data['img_exists'] = test_data['img_path'].apply(os.path.exists)\n",
    "\n",
    "train_data.head(5)"
   ],
   "metadata": {
    "collapsed": false,
    "ExecuteTime": {
     "end_time": "2025-03-03T11:05:59.970703Z",
     "start_time": "2025-03-03T11:05:59.113953Z"
    }
   },
   "id": "bf23436227ba33b9",
   "execution_count": 7
  },
  {
   "cell_type": "code",
   "outputs": [
    {
     "name": "stdout",
     "output_type": "stream",
     "text": [
      "gender_age classes: ['f_(0, 2)' 'f_(15, 20)' 'f_(25, 32)' 'f_(38, 43)' 'f_(4, 6)' 'f_(48, 53)'\n",
      " 'f_(60, 100)' 'f_(8, 23)' 'm_(0, 2)' 'm_(15, 20)' 'm_(25, 32)'\n",
      " 'm_(38, 43)' 'm_(4, 6)' 'm_(48, 53)' 'm_(60, 100)' 'm_(8, 23)' 'u_(0, 2)'\n",
      " 'u_(25, 32)' 'u_(60, 100)' 'u_(8, 23)']\n"
     ]
    },
    {
     "data": {
      "text/plain": "         user_id  face_id                original_image        age gender  \\\n0    9855553@N08     1581  11658657103_4485e3f5ac_o.jpg  (60, 100)      m   \n1  114841417@N06      502  12059583524_606ca96139_o.jpg   (15, 20)      m   \n2   66870968@N06     1227  11326189206_e08bdf6dfd_o.jpg   (25, 32)      m   \n3    8187011@N06      988  11133041085_e2ee5e12cb_o.jpg     (0, 2)      u   \n4  114841417@N06      485  12059753735_7141b5443c_o.jpg   (15, 20)      f   \n\n                                            img_path  img_exists  \\\n0  ../../data/faces/9855553@N08/coarse_tilt_align...        True   \n1  ../../data/faces/114841417@N06/coarse_tilt_ali...        True   \n2  ../../data/faces/66870968@N06/coarse_tilt_alig...        True   \n3  ../../data/faces/8187011@N06/coarse_tilt_align...        True   \n4  ../../data/faces/114841417@N06/coarse_tilt_ali...        True   \n\n   gender_age_label  \n0                14  \n1                 9  \n2                10  \n3                16  \n4                 1  ",
      "text/html": "<div>\n<style scoped>\n    .dataframe tbody tr th:only-of-type {\n        vertical-align: middle;\n    }\n\n    .dataframe tbody tr th {\n        vertical-align: top;\n    }\n\n    .dataframe thead th {\n        text-align: right;\n    }\n</style>\n<table border=\"1\" class=\"dataframe\">\n  <thead>\n    <tr style=\"text-align: right;\">\n      <th></th>\n      <th>user_id</th>\n      <th>face_id</th>\n      <th>original_image</th>\n      <th>age</th>\n      <th>gender</th>\n      <th>img_path</th>\n      <th>img_exists</th>\n      <th>gender_age_label</th>\n    </tr>\n  </thead>\n  <tbody>\n    <tr>\n      <th>0</th>\n      <td>9855553@N08</td>\n      <td>1581</td>\n      <td>11658657103_4485e3f5ac_o.jpg</td>\n      <td>(60, 100)</td>\n      <td>m</td>\n      <td>../../data/faces/9855553@N08/coarse_tilt_align...</td>\n      <td>True</td>\n      <td>14</td>\n    </tr>\n    <tr>\n      <th>1</th>\n      <td>114841417@N06</td>\n      <td>502</td>\n      <td>12059583524_606ca96139_o.jpg</td>\n      <td>(15, 20)</td>\n      <td>m</td>\n      <td>../../data/faces/114841417@N06/coarse_tilt_ali...</td>\n      <td>True</td>\n      <td>9</td>\n    </tr>\n    <tr>\n      <th>2</th>\n      <td>66870968@N06</td>\n      <td>1227</td>\n      <td>11326189206_e08bdf6dfd_o.jpg</td>\n      <td>(25, 32)</td>\n      <td>m</td>\n      <td>../../data/faces/66870968@N06/coarse_tilt_alig...</td>\n      <td>True</td>\n      <td>10</td>\n    </tr>\n    <tr>\n      <th>3</th>\n      <td>8187011@N06</td>\n      <td>988</td>\n      <td>11133041085_e2ee5e12cb_o.jpg</td>\n      <td>(0, 2)</td>\n      <td>u</td>\n      <td>../../data/faces/8187011@N06/coarse_tilt_align...</td>\n      <td>True</td>\n      <td>16</td>\n    </tr>\n    <tr>\n      <th>4</th>\n      <td>114841417@N06</td>\n      <td>485</td>\n      <td>12059753735_7141b5443c_o.jpg</td>\n      <td>(15, 20)</td>\n      <td>f</td>\n      <td>../../data/faces/114841417@N06/coarse_tilt_ali...</td>\n      <td>True</td>\n      <td>1</td>\n    </tr>\n  </tbody>\n</table>\n</div>"
     },
     "execution_count": 8,
     "metadata": {},
     "output_type": "execute_result"
    }
   ],
   "source": [
    "def encode_gender_age(train_data, val_data, test_data):\n",
    "    \"\"\"Encodes gender and age combinations into a single label, handling unseen labels.\"\"\"\n",
    "\n",
    "    train_data['gender_age_combined'] = train_data['gender'].astype(str) + '_' + train_data['age'].astype(str)\n",
    "    val_data['gender_age_combined'] = val_data['gender'].astype(str) + '_' + val_data['age'].astype(str)\n",
    "    test_data['gender_age_combined'] = test_data['gender'].astype(str) + '_' + test_data['age'].astype(str)\n",
    "\n",
    "    gender_age_encoder = LabelEncoder()\n",
    "    train_data['gender_age_label'] = gender_age_encoder.fit_transform(train_data['gender_age_combined'])\n",
    "\n",
    "    # Function to handle unseen labels\n",
    "    def transform_with_unknown(data, encoder):\n",
    "        known_classes = set(encoder.classes_)\n",
    "        data['gender_age_label'] = data['gender_age_combined'].apply(\n",
    "            lambda x: encoder.transform([x])[0] if x in known_classes else -1\n",
    "        ) # assign -1 to unseen label.\n",
    "        return data\n",
    "\n",
    "    val_data = transform_with_unknown(val_data, gender_age_encoder)\n",
    "    test_data = transform_with_unknown(test_data, gender_age_encoder)\n",
    "\n",
    "    num_classes = len(gender_age_encoder.classes_)\n",
    "\n",
    "    train_data.drop('gender_age_combined', axis=1, inplace=True)\n",
    "    val_data.drop('gender_age_combined', axis=1, inplace=True)\n",
    "    test_data.drop('gender_age_combined', axis=1, inplace=True)\n",
    "\n",
    "    return train_data, val_data, test_data, num_classes, gender_age_encoder\n",
    "\n",
    "train_data, val_data, test_data, num_classes, gender_age_encoder = encode_gender_age(train_data, val_data, test_data)\n",
    "\n",
    "num_classes = len(gender_age_encoder.classes_)\n",
    "print(\"gender_age classes:\", gender_age_encoder.classes_)\n",
    "train_data.head(5)"
   ],
   "metadata": {
    "collapsed": false,
    "ExecuteTime": {
     "end_time": "2025-03-03T11:06:00.206254Z",
     "start_time": "2025-03-03T11:05:59.899275Z"
    }
   },
   "id": "5d74d828ac8c3a43",
   "execution_count": 8
  },
  {
   "cell_type": "markdown",
   "source": [
    "### Filter out any rows where the image doesn't exist"
   ],
   "metadata": {
    "collapsed": false
   },
   "id": "dea71869e360c30c"
  },
  {
   "cell_type": "code",
   "outputs": [],
   "source": [
    "train_data_filtered = train_data[train_data['img_exists'] == True]\n",
    "val_data_filtered = val_data[val_data['img_exists'] == True]\n",
    "test_data_filtered = test_data[test_data['img_exists'] == True]"
   ],
   "metadata": {
    "collapsed": false,
    "ExecuteTime": {
     "end_time": "2025-03-03T11:06:00.208758Z",
     "start_time": "2025-03-03T11:06:00.182308Z"
    }
   },
   "id": "dd6b5110b58a8319",
   "execution_count": 9
  },
  {
   "cell_type": "markdown",
   "source": [
    "### Define a generator function to process images in batches"
   ],
   "metadata": {
    "collapsed": false
   },
   "id": "4605ff36d747fd3"
  },
  {
   "cell_type": "code",
   "outputs": [],
   "source": [
    "from img2vec import rgb2emb\n",
    "\n",
    "\n",
    "def image_batch_generator(image_paths, labels, batch_size):\n",
    "    num_samples = len(image_paths)\n",
    "    num_batches = math.ceil(num_samples / batch_size)\n",
    "\n",
    "    for i in range(num_batches):\n",
    "        start_idx = i * batch_size\n",
    "        end_idx = min((i + 1) * batch_size, num_samples)\n",
    "\n",
    "        batch_paths = image_paths[start_idx:end_idx]\n",
    "        batch_features = rgb2emb(batch_paths) / 255.0  # Normalize to [0,1]\n",
    "        batch_labels = labels[start_idx:end_idx]\n",
    "\n",
    "        yield batch_features, batch_labels"
   ],
   "metadata": {
    "collapsed": false,
    "ExecuteTime": {
     "end_time": "2025-03-03T11:51:08.365641Z",
     "start_time": "2025-03-03T11:06:00.188311Z"
    }
   },
   "id": "ec3da65ed6ff6adf",
   "execution_count": 10
  },
  {
   "cell_type": "markdown",
   "source": [
    "### Extract image paths and labels"
   ],
   "metadata": {
    "collapsed": false
   },
   "id": "1ff5d1de024e4967"
  },
  {
   "cell_type": "code",
   "outputs": [],
   "source": [
    "train_image_paths = train_data_filtered['img_path'].tolist()\n",
    "train_labels = train_data_filtered['gender_age_label'].values\n",
    "\n",
    "val_image_paths = val_data_filtered['img_path'].tolist()\n",
    "val_labels = val_data_filtered['gender_age_label'].values\n",
    "\n",
    "test_image_paths = test_data_filtered['img_path'].tolist()\n",
    "test_labels = test_data_filtered['gender_age_label'].values"
   ],
   "metadata": {
    "collapsed": false,
    "ExecuteTime": {
     "end_time": "2025-03-03T11:51:08.396278Z",
     "start_time": "2025-03-03T11:51:08.382929Z"
    }
   },
   "id": "78999299bc493ed7",
   "execution_count": 11
  },
  {
   "cell_type": "markdown",
   "source": [
    "### Print dataset sizes"
   ],
   "metadata": {
    "collapsed": false
   },
   "id": "2cf20d8c5b2d294"
  },
  {
   "cell_type": "code",
   "outputs": [
    {
     "name": "stdout",
     "output_type": "stream",
     "text": [
      "Training samples: 11856\n",
      "Validation samples: 2964\n",
      "Test samples: 3731\n",
      "Number of classes: 20\n"
     ]
    }
   ],
   "source": [
    "print(f\"Training samples: {len(train_image_paths)}\")\n",
    "print(f\"Validation samples: {len(val_image_paths)}\")\n",
    "print(f\"Test samples: {len(test_image_paths)}\")\n",
    "print(f\"Number of classes: {num_classes}\")"
   ],
   "metadata": {
    "collapsed": false,
    "ExecuteTime": {
     "end_time": "2025-03-03T11:51:08.398029Z",
     "start_time": "2025-03-03T11:51:08.390560Z"
    }
   },
   "id": "d82d0c61ea41e8c5",
   "execution_count": 12
  },
  {
   "cell_type": "markdown",
   "source": [
    "### Extract features for training and validation"
   ],
   "metadata": {
    "collapsed": false
   },
   "id": "a630e6b3c712d705"
  },
  {
   "cell_type": "code",
   "outputs": [
    {
     "name": "stdout",
     "output_type": "stream",
     "text": [
      "Extracting features for training data...\n",
      "Processing all 11856 training samples\n"
     ]
    }
   ],
   "source": [
    "print(\"Extracting features for training data...\")\n",
    "print(f\"Processing all {len(train_image_paths)} training samples\")"
   ],
   "metadata": {
    "collapsed": false,
    "ExecuteTime": {
     "end_time": "2025-03-03T11:51:08.490641Z",
     "start_time": "2025-03-03T11:51:08.401595Z"
    }
   },
   "id": "66a0392374a7049e",
   "execution_count": 13
  },
  {
   "cell_type": "markdown",
   "source": [
    "### Define a function to extract features in batches"
   ],
   "metadata": {
    "collapsed": false
   },
   "id": "f8a194383d9155d5"
  },
  {
   "cell_type": "code",
   "outputs": [],
   "source": [
    "def extract_features_in_batches(image_paths, batch_size=64):\n",
    "    \"\"\"Extract features from images in batches to manage memory.\"\"\"\n",
    "    num_samples = len(image_paths)\n",
    "    num_batches = math.ceil(num_samples / batch_size)\n",
    "    all_features = []\n",
    "\n",
    "    for i in range(num_batches):\n",
    "        start_idx = i * batch_size\n",
    "        end_idx = min((i + 1) * batch_size, num_samples)\n",
    "        print(f\"\\rProcessing batch {i+1}/{num_batches}\", end=\"\")\n",
    "        batch_paths = image_paths[start_idx:end_idx]\n",
    "        batch_features = rgb2emb(batch_paths)\n",
    "\n",
    "        # Debugging output\n",
    "        print(f\"Batch features shape: {batch_features.shape}\")\n",
    "\n",
    "        # Ensure batch_features has correct shape (batch_size, 2048)\n",
    "        if batch_features.ndim != 2 or batch_features.shape[1] != 2048:\n",
    "            raise ValueError(f\"Unexpected feature shape: {batch_features.shape}\")\n",
    "        \n",
    "        all_features.append(batch_features)\n",
    "        \n",
    "    print(\"\\nFeature extraction complete.\")\n",
    "    return np.vstack(all_features)"
   ],
   "metadata": {
    "collapsed": false,
    "ExecuteTime": {
     "end_time": "2025-03-03T11:51:08.491509Z",
     "start_time": "2025-03-03T11:51:08.409382Z"
    }
   },
   "id": "26f8dc290bafd07a",
   "execution_count": 14
  },
  {
   "cell_type": "code",
   "outputs": [
    {
     "name": "stdout",
     "output_type": "stream",
     "text": [
      "Processing batch 1/186Batch features shape: (64, 2048)\n",
      "Processing batch 2/186Batch features shape: (64, 2048)\n",
      "Processing batch 3/186Batch features shape: (64, 2048)\n",
      "Processing batch 4/186Batch features shape: (64, 2048)\n",
      "Processing batch 5/186Batch features shape: (64, 2048)\n",
      "Processing batch 6/186Batch features shape: (64, 2048)\n",
      "Processing batch 7/186Batch features shape: (64, 2048)\n",
      "Processing batch 8/186Batch features shape: (64, 2048)\n",
      "Processing batch 9/186Batch features shape: (64, 2048)\n",
      "Processing batch 10/186Batch features shape: (64, 2048)\n",
      "Processing batch 11/186Batch features shape: (64, 2048)\n",
      "Processing batch 12/186Batch features shape: (64, 2048)\n",
      "Processing batch 13/186Batch features shape: (64, 2048)\n",
      "Processing batch 14/186Batch features shape: (64, 2048)\n",
      "Processing batch 15/186Batch features shape: (64, 2048)\n",
      "Processing batch 16/186Batch features shape: (64, 2048)\n",
      "Processing batch 17/186Batch features shape: (64, 2048)\n",
      "Processing batch 18/186Batch features shape: (64, 2048)\n",
      "Processing batch 19/186Batch features shape: (64, 2048)\n",
      "Processing batch 20/186Batch features shape: (64, 2048)\n",
      "Processing batch 21/186Batch features shape: (64, 2048)\n",
      "Processing batch 22/186Batch features shape: (64, 2048)\n",
      "Processing batch 23/186Batch features shape: (64, 2048)\n",
      "Processing batch 24/186Batch features shape: (64, 2048)\n",
      "Processing batch 25/186Batch features shape: (64, 2048)\n",
      "Processing batch 26/186Batch features shape: (64, 2048)\n",
      "Processing batch 27/186Batch features shape: (64, 2048)\n",
      "Processing batch 28/186Batch features shape: (64, 2048)\n",
      "Processing batch 29/186Batch features shape: (64, 2048)\n",
      "Processing batch 30/186Batch features shape: (64, 2048)\n",
      "Processing batch 31/186Batch features shape: (64, 2048)\n",
      "Processing batch 32/186Batch features shape: (64, 2048)\n",
      "Processing batch 33/186Batch features shape: (64, 2048)\n",
      "Processing batch 34/186Batch features shape: (64, 2048)\n",
      "Processing batch 35/186Batch features shape: (64, 2048)\n",
      "Processing batch 36/186Batch features shape: (64, 2048)\n",
      "Processing batch 37/186Batch features shape: (64, 2048)\n",
      "Processing batch 38/186Batch features shape: (64, 2048)\n",
      "Processing batch 39/186Batch features shape: (64, 2048)\n",
      "Processing batch 40/186Batch features shape: (64, 2048)\n",
      "Processing batch 41/186Batch features shape: (64, 2048)\n",
      "Processing batch 42/186Batch features shape: (64, 2048)\n",
      "Processing batch 43/186Batch features shape: (64, 2048)\n",
      "Processing batch 44/186Batch features shape: (64, 2048)\n",
      "Processing batch 45/186Error processing image ../../data/faces/11008464@N06/coarse_tilt_aligned_face.978.9666600809_6ec2ff5b79_o.jpg: [Errno 60] Operation timed out\n",
      "Error processing image ../../data/faces/20254529@N04/coarse_tilt_aligned_face.18.9404682034_1045946a18_o.jpg: [Errno 60] Operation timed out\n",
      "Error processing image ../../data/faces/62282816@N03/coarse_tilt_aligned_face.1474.11768218035_ae5fc18d20_o.jpg: [Errno 60] Operation timed out\n",
      "Error processing image ../../data/faces/11008464@N06/coarse_tilt_aligned_face.970.9199199749_4e314c3b22_o.jpg: [Errno 60] Operation timed out\n",
      "Error processing image ../../data/faces/114841417@N06/coarse_tilt_aligned_face.492.12076985243_f1a977c408_o.jpg: [Errno 60] Operation timed out\n",
      "Error processing image ../../data/faces/50739822@N00/coarse_tilt_aligned_face.1364.8256030487_9e18b5e076_o.jpg: [Errno 60] Operation timed out\n",
      "Error processing image ../../data/faces/43999398@N00/coarse_tilt_aligned_face.1304.11698157295_d5ed26e23f_o.jpg: [Errno 60] Operation timed out\n",
      "Error processing image ../../data/faces/20254529@N04/coarse_tilt_aligned_face.14.9401891777_6d229ef5ff_o.jpg: [Errno 60] Operation timed out\n",
      "Error processing image ../../data/faces/20254529@N04/coarse_tilt_aligned_face.17.9402960411_73629caa6c_o.jpg: [Errno 60] Operation timed out\n",
      "Error processing image ../../data/faces/62501130@N02/coarse_tilt_aligned_face.99.11399337806_9fc22c2d8b_o.jpg: [Errno 60] Operation timed out\n",
      "Error processing image ../../data/faces/7648211@N03/coarse_tilt_aligned_face.456.11561369323_abddb8345a_o.jpg: [Errno 60] Operation timed out\n",
      "Error processing image ../../data/faces/113525713@N07/coarse_tilt_aligned_face.1016.11784206424_ae5e8df475_o.jpg: [Errno 60] Operation timed out\n",
      "Error processing image ../../data/faces/113846810@N03/coarse_tilt_aligned_face.1495.11842696563_a445bce46d_o.jpg: [Errno 60] Operation timed out\n",
      "Error processing image ../../data/faces/9965452@N08/coarse_tilt_aligned_face.979.9712213887_049f62bc1e_o.jpg: [Errno 60] Operation timed out\n",
      "Error processing image ../../data/faces/62501130@N02/coarse_tilt_aligned_face.97.11285950836_d07f635a16_o.jpg: [Errno 60] Operation timed out\n",
      "Error processing image ../../data/faces/30872264@N00/coarse_tilt_aligned_face.605.9575271747_854ff60054_o.jpg: [Errno 60] Operation timed out\n",
      "Error processing image ../../data/faces/8187011@N06/coarse_tilt_aligned_face.989.9491949808_1daa96ea4c_o.jpg: [Errno 60] Operation timed out\n",
      "Error processing image ../../data/faces/62282816@N03/coarse_tilt_aligned_face.1470.11770059846_012d6d8b54_o.jpg: [Errno 60] Operation timed out\n",
      "Error processing image ../../data/faces/10044155@N06/coarse_tilt_aligned_face.140.11345511145_a8439af1b1_o.jpg: [Errno 60] Operation timed out\n",
      "Error processing image ../../data/faces/20632896@N03/coarse_tilt_aligned_face.557.9830115816_a1eb293484_o.jpg: [Errno 60] Operation timed out\n",
      "Error processing image ../../data/faces/114776843@N02/coarse_tilt_aligned_face.1601.12012706846_e20feefca1_o.jpg: [Errno 60] Operation timed out\n",
      "Batch features shape: (64, 2048)\n",
      "Processing batch 46/186Error processing image ../../data/faces/114841417@N06/coarse_tilt_aligned_face.489.12060015323_35d9a3f4ac_o.jpg: [Errno 60] Operation timed out\n",
      "Error processing image ../../data/faces/113525713@N07/coarse_tilt_aligned_face.1010.11784204314_a6133bf909_o.jpg: [Errno 60] Operation timed out\n",
      "Error processing image ../../data/faces/31885615@N05/coarse_tilt_aligned_face.1633.11067820904_3126691a2b_o.jpg: [Errno 60] Operation timed out\n",
      "Error processing image ../../data/faces/10044155@N06/coarse_tilt_aligned_face.132.11344036584_5ba4b6d6a0_o.jpg: [Errno 60] Operation timed out\n",
      "Error processing image ../../data/faces/113650443@N02/coarse_tilt_aligned_face.1435.11811364134_b76ab19c28_o.jpg: [Errno 60] Operation timed out\n",
      "Error processing image ../../data/faces/113650443@N02/coarse_tilt_aligned_face.1434.11807627735_cbb7106c4a_o.jpg: [Errno 60] Operation timed out\n",
      "Error processing image ../../data/faces/11008464@N06/coarse_tilt_aligned_face.970.9566499874_eacf943088_o.jpg: [Errno 60] Operation timed out\n",
      "Error processing image ../../data/faces/10611527@N03/coarse_tilt_aligned_face.867.8403975240_68fe102b41_o.jpg: [Errno 60] Operation timed out\n",
      "Error processing image ../../data/faces/7464014@N04/coarse_tilt_aligned_face.964.10218595686_47c501311c_o.jpg: [Errno 60] Operation timed out\n",
      "Error processing image ../../data/faces/10406201@N05/coarse_tilt_aligned_face.268.11160770346_80c181b74b_o.jpg: [Errno 60] Operation timed out\n",
      "Error processing image ../../data/faces/68825596@N05/coarse_tilt_aligned_face.290.11593774505_d10e66a61e_o.jpg: [Errno 60] Operation timed out\n",
      "Error processing image ../../data/faces/11008464@N06/coarse_tilt_aligned_face.970.9495789038_20f3d2d898_o.jpg: [Errno 60] Operation timed out\n",
      "Error processing image ../../data/faces/37303189@N08/coarse_tilt_aligned_face.84.8777810838_125b1c3de3_o.jpg: [Errno 60] Operation timed out\n",
      "Error processing image ../../data/faces/64504106@N06/coarse_tilt_aligned_face.912.11840658045_692e157766_o.jpg: [Errno 60] Operation timed out\n",
      "Error processing image ../../data/faces/114918674@N02/coarse_tilt_aligned_face.1530.12039396063_c0a770ea54_o.jpg: [Errno 60] Operation timed out\n",
      "Error processing image ../../data/faces/64504106@N06/coarse_tilt_aligned_face.911.11817564513_ed90afa460_o.jpg: [Errno 60] Operation timed out\n",
      "Error processing image ../../data/faces/18142498@N06/coarse_tilt_aligned_face.801.11179584436_167e8a5bc3_o.jpg: [Errno 60] Operation timed out\n",
      "Error processing image ../../data/faces/68825596@N05/coarse_tilt_aligned_face.306.11594521506_76b9550a00_o.jpg: [Errno 60] Operation timed out\n",
      "Error processing image ../../data/faces/10406201@N05/coarse_tilt_aligned_face.263.8509939635_dfde3baf05_o.jpg: [Errno 60] Operation timed out\n",
      "Error processing image ../../data/faces/112599447@N03/coarse_tilt_aligned_face.1200.11576480156_10a3178cf6_o.jpg: [Errno 60] Operation timed out\n",
      "Error processing image ../../data/faces/114841417@N06/coarse_tilt_aligned_face.490.12101038944_0067fec07b_o.jpg: [Errno 60] Operation timed out\n",
      "Error processing image ../../data/faces/114918674@N02/coarse_tilt_aligned_face.1526.12039067383_5c0bb26f48_o.jpg: [Errno 60] Operation timed out\n",
      "Error processing image ../../data/faces/8187011@N06/coarse_tilt_aligned_face.989.11133094105_f3ef2935bb_o.jpg: [Errno 60] Operation timed out\n",
      "Error processing image ../../data/faces/113417044@N07/coarse_tilt_aligned_face.1235.11756711206_8b2b2b26b5_o.jpg: [Errno 60] Operation timed out\n",
      "Error processing image ../../data/faces/29671106@N00/coarse_tilt_aligned_face.186.11458972615_fbcd8824cb_o.jpg: [Errno 60] Operation timed out\n",
      "Error processing image ../../data/faces/10129575@N03/coarse_tilt_aligned_face.817.9409499229_047ec5bf29_o.jpg: [Errno 60] Operation timed out\n",
      "Error processing image ../../data/faces/39347094@N04/coarse_tilt_aligned_face.1224.10907526393_1823cff9cd_o.jpg: [Errno 60] Operation timed out\n",
      "Batch features shape: (64, 2048)\n",
      "Processing batch 47/186Batch features shape: (64, 2048)\n",
      "Processing batch 48/186Batch features shape: (64, 2048)\n",
      "Processing batch 49/186Batch features shape: (64, 2048)\n",
      "Processing batch 50/186Batch features shape: (64, 2048)\n",
      "Processing batch 51/186Batch features shape: (64, 2048)\n",
      "Processing batch 52/186Batch features shape: (64, 2048)\n",
      "Processing batch 53/186Batch features shape: (64, 2048)\n",
      "Processing batch 54/186Batch features shape: (64, 2048)\n",
      "Processing batch 55/186Batch features shape: (64, 2048)\n",
      "Processing batch 56/186Error processing image ../../data/faces/39411334@N02/coarse_tilt_aligned_face.413.11042819835_91f4cbe282_o.jpg: [Errno 89] Operation canceled\n",
      "Error processing image ../../data/faces/114841417@N06/coarse_tilt_aligned_face.498.12059583524_606ca96139_o.jpg: [Errno 89] Operation canceled\n",
      "Batch features shape: (64, 2048)\n",
      "Processing batch 57/186Batch features shape: (64, 2048)\n",
      "Processing batch 58/186Batch features shape: (64, 2048)\n",
      "Processing batch 59/186Batch features shape: (64, 2048)\n",
      "Processing batch 60/186Batch features shape: (64, 2048)\n",
      "Processing batch 61/186Batch features shape: (64, 2048)\n",
      "Processing batch 62/186Batch features shape: (64, 2048)\n",
      "Processing batch 63/186Batch features shape: (64, 2048)\n",
      "Processing batch 64/186Error processing image ../../data/faces/20632896@N03/coarse_tilt_aligned_face.555.9830393505_d7e38e86f9_o.jpg: [Errno 60] Operation timed out\n",
      "Batch features shape: (64, 2048)\n",
      "Processing batch 65/186Batch features shape: (64, 2048)\n",
      "Processing batch 66/186Batch features shape: (64, 2048)\n",
      "Processing batch 67/186Batch features shape: (64, 2048)\n",
      "Processing batch 68/186Batch features shape: (64, 2048)\n",
      "Processing batch 69/186Batch features shape: (64, 2048)\n",
      "Processing batch 70/186Batch features shape: (64, 2048)\n",
      "Processing batch 71/186Batch features shape: (64, 2048)\n",
      "Processing batch 72/186Batch features shape: (64, 2048)\n",
      "Processing batch 73/186Batch features shape: (64, 2048)\n",
      "Processing batch 74/186Batch features shape: (64, 2048)\n",
      "Processing batch 75/186Batch features shape: (64, 2048)\n",
      "Processing batch 76/186Batch features shape: (64, 2048)\n",
      "Processing batch 77/186Batch features shape: (64, 2048)\n",
      "Processing batch 78/186Batch features shape: (64, 2048)\n",
      "Processing batch 79/186Batch features shape: (64, 2048)\n",
      "Processing batch 80/186Batch features shape: (64, 2048)\n",
      "Processing batch 81/186Batch features shape: (64, 2048)\n",
      "Processing batch 82/186Batch features shape: (64, 2048)\n",
      "Processing batch 83/186Batch features shape: (64, 2048)\n",
      "Processing batch 84/186Batch features shape: (64, 2048)\n",
      "Processing batch 85/186Batch features shape: (64, 2048)\n",
      "Processing batch 86/186Batch features shape: (64, 2048)\n",
      "Processing batch 87/186Batch features shape: (64, 2048)\n",
      "Processing batch 88/186Batch features shape: (64, 2048)\n",
      "Processing batch 89/186Batch features shape: (64, 2048)\n",
      "Processing batch 90/186Batch features shape: (64, 2048)\n",
      "Processing batch 91/186Batch features shape: (64, 2048)\n",
      "Processing batch 92/186Batch features shape: (64, 2048)\n",
      "Processing batch 93/186Batch features shape: (64, 2048)\n",
      "Processing batch 94/186Batch features shape: (64, 2048)\n",
      "Processing batch 95/186Batch features shape: (64, 2048)\n",
      "Processing batch 96/186Batch features shape: (64, 2048)\n",
      "Processing batch 97/186Batch features shape: (64, 2048)\n",
      "Processing batch 98/186Batch features shape: (64, 2048)\n",
      "Processing batch 99/186Batch features shape: (64, 2048)\n",
      "Processing batch 100/186Batch features shape: (64, 2048)\n",
      "Processing batch 101/186Batch features shape: (64, 2048)\n",
      "Processing batch 102/186Batch features shape: (64, 2048)\n",
      "Processing batch 103/186Batch features shape: (64, 2048)\n",
      "Processing batch 104/186Batch features shape: (64, 2048)\n",
      "Processing batch 105/186Batch features shape: (64, 2048)\n",
      "Processing batch 106/186Batch features shape: (64, 2048)\n",
      "Processing batch 107/186Batch features shape: (64, 2048)\n",
      "Processing batch 108/186Batch features shape: (64, 2048)\n",
      "Processing batch 109/186Batch features shape: (64, 2048)\n",
      "Processing batch 110/186Batch features shape: (64, 2048)\n",
      "Processing batch 111/186Batch features shape: (64, 2048)\n",
      "Processing batch 112/186Batch features shape: (64, 2048)\n",
      "Processing batch 113/186Batch features shape: (64, 2048)\n",
      "Processing batch 114/186Batch features shape: (64, 2048)\n",
      "Processing batch 115/186Batch features shape: (64, 2048)\n",
      "Processing batch 116/186Batch features shape: (64, 2048)\n",
      "Processing batch 117/186Batch features shape: (64, 2048)\n",
      "Processing batch 118/186Batch features shape: (64, 2048)\n",
      "Processing batch 119/186Batch features shape: (64, 2048)\n",
      "Processing batch 120/186Batch features shape: (64, 2048)\n",
      "Processing batch 121/186Batch features shape: (64, 2048)\n",
      "Processing batch 122/186Batch features shape: (64, 2048)\n",
      "Processing batch 123/186Batch features shape: (64, 2048)\n",
      "Processing batch 124/186Batch features shape: (64, 2048)\n",
      "Processing batch 125/186Batch features shape: (64, 2048)\n",
      "Processing batch 126/186Batch features shape: (64, 2048)\n",
      "Processing batch 127/186Batch features shape: (64, 2048)\n",
      "Processing batch 128/186Batch features shape: (64, 2048)\n",
      "Processing batch 129/186Batch features shape: (64, 2048)\n",
      "Processing batch 130/186Batch features shape: (64, 2048)\n",
      "Processing batch 131/186Batch features shape: (64, 2048)\n",
      "Processing batch 132/186Batch features shape: (64, 2048)\n",
      "Processing batch 133/186Batch features shape: (64, 2048)\n",
      "Processing batch 134/186Batch features shape: (64, 2048)\n",
      "Processing batch 135/186Batch features shape: (64, 2048)\n",
      "Processing batch 136/186Batch features shape: (64, 2048)\n",
      "Processing batch 137/186Batch features shape: (64, 2048)\n",
      "Processing batch 138/186Batch features shape: (64, 2048)\n",
      "Processing batch 139/186Batch features shape: (64, 2048)\n",
      "Processing batch 140/186Batch features shape: (64, 2048)\n",
      "Processing batch 141/186Batch features shape: (64, 2048)\n",
      "Processing batch 142/186Batch features shape: (64, 2048)\n",
      "Processing batch 143/186Batch features shape: (64, 2048)\n",
      "Processing batch 144/186Batch features shape: (64, 2048)\n",
      "Processing batch 145/186Batch features shape: (64, 2048)\n",
      "Processing batch 146/186Batch features shape: (64, 2048)\n",
      "Processing batch 147/186Batch features shape: (64, 2048)\n",
      "Processing batch 148/186Batch features shape: (64, 2048)\n",
      "Processing batch 149/186Batch features shape: (64, 2048)\n",
      "Processing batch 150/186Batch features shape: (64, 2048)\n",
      "Processing batch 151/186Batch features shape: (64, 2048)\n",
      "Processing batch 152/186Batch features shape: (64, 2048)\n",
      "Processing batch 153/186Batch features shape: (64, 2048)\n",
      "Processing batch 154/186Batch features shape: (64, 2048)\n",
      "Processing batch 155/186Batch features shape: (64, 2048)\n",
      "Processing batch 156/186Batch features shape: (64, 2048)\n",
      "Processing batch 157/186Batch features shape: (64, 2048)\n",
      "Processing batch 158/186Batch features shape: (64, 2048)\n",
      "Processing batch 159/186Batch features shape: (64, 2048)\n",
      "Processing batch 160/186Batch features shape: (64, 2048)\n",
      "Processing batch 161/186Batch features shape: (64, 2048)\n",
      "Processing batch 162/186Batch features shape: (64, 2048)\n",
      "Processing batch 163/186Batch features shape: (64, 2048)\n",
      "Processing batch 164/186Batch features shape: (64, 2048)\n",
      "Processing batch 165/186Batch features shape: (64, 2048)\n",
      "Processing batch 166/186Batch features shape: (64, 2048)\n",
      "Processing batch 167/186Batch features shape: (64, 2048)\n",
      "Processing batch 168/186Batch features shape: (64, 2048)\n",
      "Processing batch 169/186Batch features shape: (64, 2048)\n",
      "Processing batch 170/186Batch features shape: (64, 2048)\n",
      "Processing batch 171/186Batch features shape: (64, 2048)\n",
      "Processing batch 172/186Batch features shape: (64, 2048)\n",
      "Processing batch 173/186Batch features shape: (64, 2048)\n",
      "Processing batch 174/186Batch features shape: (64, 2048)\n",
      "Processing batch 175/186Batch features shape: (64, 2048)\n",
      "Processing batch 176/186Batch features shape: (64, 2048)\n",
      "Processing batch 177/186Batch features shape: (64, 2048)\n",
      "Processing batch 178/186Batch features shape: (64, 2048)\n",
      "Processing batch 179/186Batch features shape: (64, 2048)\n",
      "Processing batch 180/186Batch features shape: (64, 2048)\n",
      "Processing batch 181/186Batch features shape: (64, 2048)\n",
      "Processing batch 182/186Batch features shape: (64, 2048)\n",
      "Processing batch 183/186Batch features shape: (64, 2048)\n",
      "Processing batch 184/186Batch features shape: (64, 2048)\n",
      "Processing batch 185/186Batch features shape: (64, 2048)\n",
      "Processing batch 186/186Batch features shape: (16, 2048)\n",
      "\n",
      "Feature extraction complete.\n",
      "Extracting features for validation data...\n",
      "Processing all 2964 validation samples\n",
      "Processing batch 1/47Batch features shape: (64, 2048)\n",
      "Processing batch 2/47Batch features shape: (64, 2048)\n",
      "Processing batch 3/47Batch features shape: (64, 2048)\n",
      "Processing batch 4/47Batch features shape: (64, 2048)\n",
      "Processing batch 5/47Batch features shape: (64, 2048)\n",
      "Processing batch 6/47Batch features shape: (64, 2048)\n",
      "Processing batch 7/47Batch features shape: (64, 2048)\n",
      "Processing batch 8/47Batch features shape: (64, 2048)\n",
      "Processing batch 9/47Batch features shape: (64, 2048)\n",
      "Processing batch 10/47Batch features shape: (64, 2048)\n",
      "Processing batch 11/47Batch features shape: (64, 2048)\n",
      "Processing batch 12/47Batch features shape: (64, 2048)\n",
      "Processing batch 13/47Batch features shape: (64, 2048)\n",
      "Processing batch 14/47Batch features shape: (64, 2048)\n",
      "Processing batch 15/47Batch features shape: (64, 2048)\n",
      "Processing batch 16/47Batch features shape: (64, 2048)\n",
      "Processing batch 17/47Batch features shape: (64, 2048)\n",
      "Processing batch 18/47Batch features shape: (64, 2048)\n",
      "Processing batch 19/47Batch features shape: (64, 2048)\n",
      "Processing batch 20/47Batch features shape: (64, 2048)\n",
      "Processing batch 21/47Batch features shape: (64, 2048)\n",
      "Processing batch 22/47Batch features shape: (64, 2048)\n",
      "Processing batch 23/47Batch features shape: (64, 2048)\n",
      "Processing batch 24/47Batch features shape: (64, 2048)\n",
      "Processing batch 25/47Batch features shape: (64, 2048)\n",
      "Processing batch 26/47Batch features shape: (64, 2048)\n",
      "Processing batch 27/47Batch features shape: (64, 2048)\n",
      "Processing batch 28/47Batch features shape: (64, 2048)\n",
      "Processing batch 29/47Batch features shape: (64, 2048)\n",
      "Processing batch 30/47Batch features shape: (64, 2048)\n",
      "Processing batch 31/47Batch features shape: (64, 2048)\n",
      "Processing batch 32/47Batch features shape: (64, 2048)\n",
      "Processing batch 33/47Batch features shape: (64, 2048)\n",
      "Processing batch 34/47Batch features shape: (64, 2048)\n",
      "Processing batch 35/47Batch features shape: (64, 2048)\n",
      "Processing batch 36/47Batch features shape: (64, 2048)\n",
      "Processing batch 37/47Batch features shape: (64, 2048)\n",
      "Processing batch 38/47Batch features shape: (64, 2048)\n",
      "Processing batch 39/47Batch features shape: (64, 2048)\n",
      "Processing batch 40/47Batch features shape: (64, 2048)\n",
      "Processing batch 41/47Batch features shape: (64, 2048)\n",
      "Processing batch 42/47Batch features shape: (64, 2048)\n",
      "Processing batch 43/47Batch features shape: (64, 2048)\n",
      "Processing batch 44/47Batch features shape: (64, 2048)\n",
      "Processing batch 45/47Batch features shape: (64, 2048)\n",
      "Processing batch 46/47Batch features shape: (64, 2048)\n",
      "Processing batch 47/47Batch features shape: (20, 2048)\n",
      "\n",
      "Feature extraction complete.\n",
      "Creating and training AdaBoostClassifier model...\n"
     ]
    }
   ],
   "source": [
    "X_train = extract_features_in_batches(train_image_paths, batch_size=batch_size)\n",
    "y_train = train_labels\n",
    "\n",
    "print(\"Extracting features for validation data...\")\n",
    "print(f\"Processing all {len(val_image_paths)} validation samples\")\n",
    "\n",
    "X_val = extract_features_in_batches(val_image_paths, batch_size=batch_size)\n",
    "y_val = val_labels\n",
    "\n",
    "\n",
    "print(\"Creating and training AdaBoostClassifier model...\")"
   ],
   "metadata": {
    "collapsed": false,
    "ExecuteTime": {
     "end_time": "2025-03-03T15:36:57.380631Z",
     "start_time": "2025-03-03T11:51:08.549260Z"
    }
   },
   "id": "10bc23a5da762424",
   "execution_count": 15
  },
  {
   "cell_type": "markdown",
   "source": [
    "### Create a pipeline with scaling and adaboost\n",
    "This is much more memory efficient for large datasets\n",
    "Create a pipeline that scales data  and then trains a adaboostClassifier"
   ],
   "metadata": {
    "collapsed": false
   },
   "id": "81d1f05300557148"
  },
  {
   "cell_type": "code",
   "outputs": [],
   "source": [
    "\n",
    "pipeline = Pipeline([\n",
    "    ('scaler', StandardScaler()),  # Scaling can be useful even though RF doesn't strictly require it\n",
    "    ('AB', AdaBoostClassifier(\n",
    "        n_estimators=100          \n",
    "                        \n",
    "    ))\n",
    "])"
   ],
   "metadata": {
    "collapsed": false,
    "ExecuteTime": {
     "end_time": "2025-03-03T15:36:57.437751Z",
     "start_time": "2025-03-03T15:36:57.384915Z"
    }
   },
   "id": "859a555a97f9cf98",
   "execution_count": 16
  },
  {
   "cell_type": "markdown",
   "source": [
    "### define the model and train it"
   ],
   "metadata": {
    "collapsed": false
   },
   "id": "b1ce29d3cf0bf5dc"
  },
  {
   "cell_type": "code",
   "outputs": [
    {
     "data": {
      "text/plain": "Pipeline(steps=[('scaler', StandardScaler()),\n                ('AB', AdaBoostClassifier(n_estimators=100))])",
      "text/html": "<style>#sk-container-id-1 {\n  /* Definition of color scheme common for light and dark mode */\n  --sklearn-color-text: #000;\n  --sklearn-color-text-muted: #666;\n  --sklearn-color-line: gray;\n  /* Definition of color scheme for unfitted estimators */\n  --sklearn-color-unfitted-level-0: #fff5e6;\n  --sklearn-color-unfitted-level-1: #f6e4d2;\n  --sklearn-color-unfitted-level-2: #ffe0b3;\n  --sklearn-color-unfitted-level-3: chocolate;\n  /* Definition of color scheme for fitted estimators */\n  --sklearn-color-fitted-level-0: #f0f8ff;\n  --sklearn-color-fitted-level-1: #d4ebff;\n  --sklearn-color-fitted-level-2: #b3dbfd;\n  --sklearn-color-fitted-level-3: cornflowerblue;\n\n  /* Specific color for light theme */\n  --sklearn-color-text-on-default-background: var(--sg-text-color, var(--theme-code-foreground, var(--jp-content-font-color1, black)));\n  --sklearn-color-background: var(--sg-background-color, var(--theme-background, var(--jp-layout-color0, white)));\n  --sklearn-color-border-box: var(--sg-text-color, var(--theme-code-foreground, var(--jp-content-font-color1, black)));\n  --sklearn-color-icon: #696969;\n\n  @media (prefers-color-scheme: dark) {\n    /* Redefinition of color scheme for dark theme */\n    --sklearn-color-text-on-default-background: var(--sg-text-color, var(--theme-code-foreground, var(--jp-content-font-color1, white)));\n    --sklearn-color-background: var(--sg-background-color, var(--theme-background, var(--jp-layout-color0, #111)));\n    --sklearn-color-border-box: var(--sg-text-color, var(--theme-code-foreground, var(--jp-content-font-color1, white)));\n    --sklearn-color-icon: #878787;\n  }\n}\n\n#sk-container-id-1 {\n  color: var(--sklearn-color-text);\n}\n\n#sk-container-id-1 pre {\n  padding: 0;\n}\n\n#sk-container-id-1 input.sk-hidden--visually {\n  border: 0;\n  clip: rect(1px 1px 1px 1px);\n  clip: rect(1px, 1px, 1px, 1px);\n  height: 1px;\n  margin: -1px;\n  overflow: hidden;\n  padding: 0;\n  position: absolute;\n  width: 1px;\n}\n\n#sk-container-id-1 div.sk-dashed-wrapped {\n  border: 1px dashed var(--sklearn-color-line);\n  margin: 0 0.4em 0.5em 0.4em;\n  box-sizing: border-box;\n  padding-bottom: 0.4em;\n  background-color: var(--sklearn-color-background);\n}\n\n#sk-container-id-1 div.sk-container {\n  /* jupyter's `normalize.less` sets `[hidden] { display: none; }`\n     but bootstrap.min.css set `[hidden] { display: none !important; }`\n     so we also need the `!important` here to be able to override the\n     default hidden behavior on the sphinx rendered scikit-learn.org.\n     See: https://github.com/scikit-learn/scikit-learn/issues/21755 */\n  display: inline-block !important;\n  position: relative;\n}\n\n#sk-container-id-1 div.sk-text-repr-fallback {\n  display: none;\n}\n\ndiv.sk-parallel-item,\ndiv.sk-serial,\ndiv.sk-item {\n  /* draw centered vertical line to link estimators */\n  background-image: linear-gradient(var(--sklearn-color-text-on-default-background), var(--sklearn-color-text-on-default-background));\n  background-size: 2px 100%;\n  background-repeat: no-repeat;\n  background-position: center center;\n}\n\n/* Parallel-specific style estimator block */\n\n#sk-container-id-1 div.sk-parallel-item::after {\n  content: \"\";\n  width: 100%;\n  border-bottom: 2px solid var(--sklearn-color-text-on-default-background);\n  flex-grow: 1;\n}\n\n#sk-container-id-1 div.sk-parallel {\n  display: flex;\n  align-items: stretch;\n  justify-content: center;\n  background-color: var(--sklearn-color-background);\n  position: relative;\n}\n\n#sk-container-id-1 div.sk-parallel-item {\n  display: flex;\n  flex-direction: column;\n}\n\n#sk-container-id-1 div.sk-parallel-item:first-child::after {\n  align-self: flex-end;\n  width: 50%;\n}\n\n#sk-container-id-1 div.sk-parallel-item:last-child::after {\n  align-self: flex-start;\n  width: 50%;\n}\n\n#sk-container-id-1 div.sk-parallel-item:only-child::after {\n  width: 0;\n}\n\n/* Serial-specific style estimator block */\n\n#sk-container-id-1 div.sk-serial {\n  display: flex;\n  flex-direction: column;\n  align-items: center;\n  background-color: var(--sklearn-color-background);\n  padding-right: 1em;\n  padding-left: 1em;\n}\n\n\n/* Toggleable style: style used for estimator/Pipeline/ColumnTransformer box that is\nclickable and can be expanded/collapsed.\n- Pipeline and ColumnTransformer use this feature and define the default style\n- Estimators will overwrite some part of the style using the `sk-estimator` class\n*/\n\n/* Pipeline and ColumnTransformer style (default) */\n\n#sk-container-id-1 div.sk-toggleable {\n  /* Default theme specific background. It is overwritten whether we have a\n  specific estimator or a Pipeline/ColumnTransformer */\n  background-color: var(--sklearn-color-background);\n}\n\n/* Toggleable label */\n#sk-container-id-1 label.sk-toggleable__label {\n  cursor: pointer;\n  display: flex;\n  width: 100%;\n  margin-bottom: 0;\n  padding: 0.5em;\n  box-sizing: border-box;\n  text-align: center;\n  align-items: start;\n  justify-content: space-between;\n  gap: 0.5em;\n}\n\n#sk-container-id-1 label.sk-toggleable__label .caption {\n  font-size: 0.6rem;\n  font-weight: lighter;\n  color: var(--sklearn-color-text-muted);\n}\n\n#sk-container-id-1 label.sk-toggleable__label-arrow:before {\n  /* Arrow on the left of the label */\n  content: \"▸\";\n  float: left;\n  margin-right: 0.25em;\n  color: var(--sklearn-color-icon);\n}\n\n#sk-container-id-1 label.sk-toggleable__label-arrow:hover:before {\n  color: var(--sklearn-color-text);\n}\n\n/* Toggleable content - dropdown */\n\n#sk-container-id-1 div.sk-toggleable__content {\n  max-height: 0;\n  max-width: 0;\n  overflow: hidden;\n  text-align: left;\n  /* unfitted */\n  background-color: var(--sklearn-color-unfitted-level-0);\n}\n\n#sk-container-id-1 div.sk-toggleable__content.fitted {\n  /* fitted */\n  background-color: var(--sklearn-color-fitted-level-0);\n}\n\n#sk-container-id-1 div.sk-toggleable__content pre {\n  margin: 0.2em;\n  border-radius: 0.25em;\n  color: var(--sklearn-color-text);\n  /* unfitted */\n  background-color: var(--sklearn-color-unfitted-level-0);\n}\n\n#sk-container-id-1 div.sk-toggleable__content.fitted pre {\n  /* unfitted */\n  background-color: var(--sklearn-color-fitted-level-0);\n}\n\n#sk-container-id-1 input.sk-toggleable__control:checked~div.sk-toggleable__content {\n  /* Expand drop-down */\n  max-height: 200px;\n  max-width: 100%;\n  overflow: auto;\n}\n\n#sk-container-id-1 input.sk-toggleable__control:checked~label.sk-toggleable__label-arrow:before {\n  content: \"▾\";\n}\n\n/* Pipeline/ColumnTransformer-specific style */\n\n#sk-container-id-1 div.sk-label input.sk-toggleable__control:checked~label.sk-toggleable__label {\n  color: var(--sklearn-color-text);\n  background-color: var(--sklearn-color-unfitted-level-2);\n}\n\n#sk-container-id-1 div.sk-label.fitted input.sk-toggleable__control:checked~label.sk-toggleable__label {\n  background-color: var(--sklearn-color-fitted-level-2);\n}\n\n/* Estimator-specific style */\n\n/* Colorize estimator box */\n#sk-container-id-1 div.sk-estimator input.sk-toggleable__control:checked~label.sk-toggleable__label {\n  /* unfitted */\n  background-color: var(--sklearn-color-unfitted-level-2);\n}\n\n#sk-container-id-1 div.sk-estimator.fitted input.sk-toggleable__control:checked~label.sk-toggleable__label {\n  /* fitted */\n  background-color: var(--sklearn-color-fitted-level-2);\n}\n\n#sk-container-id-1 div.sk-label label.sk-toggleable__label,\n#sk-container-id-1 div.sk-label label {\n  /* The background is the default theme color */\n  color: var(--sklearn-color-text-on-default-background);\n}\n\n/* On hover, darken the color of the background */\n#sk-container-id-1 div.sk-label:hover label.sk-toggleable__label {\n  color: var(--sklearn-color-text);\n  background-color: var(--sklearn-color-unfitted-level-2);\n}\n\n/* Label box, darken color on hover, fitted */\n#sk-container-id-1 div.sk-label.fitted:hover label.sk-toggleable__label.fitted {\n  color: var(--sklearn-color-text);\n  background-color: var(--sklearn-color-fitted-level-2);\n}\n\n/* Estimator label */\n\n#sk-container-id-1 div.sk-label label {\n  font-family: monospace;\n  font-weight: bold;\n  display: inline-block;\n  line-height: 1.2em;\n}\n\n#sk-container-id-1 div.sk-label-container {\n  text-align: center;\n}\n\n/* Estimator-specific */\n#sk-container-id-1 div.sk-estimator {\n  font-family: monospace;\n  border: 1px dotted var(--sklearn-color-border-box);\n  border-radius: 0.25em;\n  box-sizing: border-box;\n  margin-bottom: 0.5em;\n  /* unfitted */\n  background-color: var(--sklearn-color-unfitted-level-0);\n}\n\n#sk-container-id-1 div.sk-estimator.fitted {\n  /* fitted */\n  background-color: var(--sklearn-color-fitted-level-0);\n}\n\n/* on hover */\n#sk-container-id-1 div.sk-estimator:hover {\n  /* unfitted */\n  background-color: var(--sklearn-color-unfitted-level-2);\n}\n\n#sk-container-id-1 div.sk-estimator.fitted:hover {\n  /* fitted */\n  background-color: var(--sklearn-color-fitted-level-2);\n}\n\n/* Specification for estimator info (e.g. \"i\" and \"?\") */\n\n/* Common style for \"i\" and \"?\" */\n\n.sk-estimator-doc-link,\na:link.sk-estimator-doc-link,\na:visited.sk-estimator-doc-link {\n  float: right;\n  font-size: smaller;\n  line-height: 1em;\n  font-family: monospace;\n  background-color: var(--sklearn-color-background);\n  border-radius: 1em;\n  height: 1em;\n  width: 1em;\n  text-decoration: none !important;\n  margin-left: 0.5em;\n  text-align: center;\n  /* unfitted */\n  border: var(--sklearn-color-unfitted-level-1) 1pt solid;\n  color: var(--sklearn-color-unfitted-level-1);\n}\n\n.sk-estimator-doc-link.fitted,\na:link.sk-estimator-doc-link.fitted,\na:visited.sk-estimator-doc-link.fitted {\n  /* fitted */\n  border: var(--sklearn-color-fitted-level-1) 1pt solid;\n  color: var(--sklearn-color-fitted-level-1);\n}\n\n/* On hover */\ndiv.sk-estimator:hover .sk-estimator-doc-link:hover,\n.sk-estimator-doc-link:hover,\ndiv.sk-label-container:hover .sk-estimator-doc-link:hover,\n.sk-estimator-doc-link:hover {\n  /* unfitted */\n  background-color: var(--sklearn-color-unfitted-level-3);\n  color: var(--sklearn-color-background);\n  text-decoration: none;\n}\n\ndiv.sk-estimator.fitted:hover .sk-estimator-doc-link.fitted:hover,\n.sk-estimator-doc-link.fitted:hover,\ndiv.sk-label-container:hover .sk-estimator-doc-link.fitted:hover,\n.sk-estimator-doc-link.fitted:hover {\n  /* fitted */\n  background-color: var(--sklearn-color-fitted-level-3);\n  color: var(--sklearn-color-background);\n  text-decoration: none;\n}\n\n/* Span, style for the box shown on hovering the info icon */\n.sk-estimator-doc-link span {\n  display: none;\n  z-index: 9999;\n  position: relative;\n  font-weight: normal;\n  right: .2ex;\n  padding: .5ex;\n  margin: .5ex;\n  width: min-content;\n  min-width: 20ex;\n  max-width: 50ex;\n  color: var(--sklearn-color-text);\n  box-shadow: 2pt 2pt 4pt #999;\n  /* unfitted */\n  background: var(--sklearn-color-unfitted-level-0);\n  border: .5pt solid var(--sklearn-color-unfitted-level-3);\n}\n\n.sk-estimator-doc-link.fitted span {\n  /* fitted */\n  background: var(--sklearn-color-fitted-level-0);\n  border: var(--sklearn-color-fitted-level-3);\n}\n\n.sk-estimator-doc-link:hover span {\n  display: block;\n}\n\n/* \"?\"-specific style due to the `<a>` HTML tag */\n\n#sk-container-id-1 a.estimator_doc_link {\n  float: right;\n  font-size: 1rem;\n  line-height: 1em;\n  font-family: monospace;\n  background-color: var(--sklearn-color-background);\n  border-radius: 1rem;\n  height: 1rem;\n  width: 1rem;\n  text-decoration: none;\n  /* unfitted */\n  color: var(--sklearn-color-unfitted-level-1);\n  border: var(--sklearn-color-unfitted-level-1) 1pt solid;\n}\n\n#sk-container-id-1 a.estimator_doc_link.fitted {\n  /* fitted */\n  border: var(--sklearn-color-fitted-level-1) 1pt solid;\n  color: var(--sklearn-color-fitted-level-1);\n}\n\n/* On hover */\n#sk-container-id-1 a.estimator_doc_link:hover {\n  /* unfitted */\n  background-color: var(--sklearn-color-unfitted-level-3);\n  color: var(--sklearn-color-background);\n  text-decoration: none;\n}\n\n#sk-container-id-1 a.estimator_doc_link.fitted:hover {\n  /* fitted */\n  background-color: var(--sklearn-color-fitted-level-3);\n}\n</style><div id=\"sk-container-id-1\" class=\"sk-top-container\"><div class=\"sk-text-repr-fallback\"><pre>Pipeline(steps=[(&#x27;scaler&#x27;, StandardScaler()),\n                (&#x27;AB&#x27;, AdaBoostClassifier(n_estimators=100))])</pre><b>In a Jupyter environment, please rerun this cell to show the HTML representation or trust the notebook. <br />On GitHub, the HTML representation is unable to render, please try loading this page with nbviewer.org.</b></div><div class=\"sk-container\" hidden><div class=\"sk-item sk-dashed-wrapped\"><div class=\"sk-label-container\"><div class=\"sk-label fitted sk-toggleable\"><input class=\"sk-toggleable__control sk-hidden--visually\" id=\"sk-estimator-id-1\" type=\"checkbox\" ><label for=\"sk-estimator-id-1\" class=\"sk-toggleable__label fitted sk-toggleable__label-arrow\"><div><div>Pipeline</div></div><div><a class=\"sk-estimator-doc-link fitted\" rel=\"noreferrer\" target=\"_blank\" href=\"https://scikit-learn.org/1.6/modules/generated/sklearn.pipeline.Pipeline.html\">?<span>Documentation for Pipeline</span></a><span class=\"sk-estimator-doc-link fitted\">i<span>Fitted</span></span></div></label><div class=\"sk-toggleable__content fitted\"><pre>Pipeline(steps=[(&#x27;scaler&#x27;, StandardScaler()),\n                (&#x27;AB&#x27;, AdaBoostClassifier(n_estimators=100))])</pre></div> </div></div><div class=\"sk-serial\"><div class=\"sk-item\"><div class=\"sk-estimator fitted sk-toggleable\"><input class=\"sk-toggleable__control sk-hidden--visually\" id=\"sk-estimator-id-2\" type=\"checkbox\" ><label for=\"sk-estimator-id-2\" class=\"sk-toggleable__label fitted sk-toggleable__label-arrow\"><div><div>StandardScaler</div></div><div><a class=\"sk-estimator-doc-link fitted\" rel=\"noreferrer\" target=\"_blank\" href=\"https://scikit-learn.org/1.6/modules/generated/sklearn.preprocessing.StandardScaler.html\">?<span>Documentation for StandardScaler</span></a></div></label><div class=\"sk-toggleable__content fitted\"><pre>StandardScaler()</pre></div> </div></div><div class=\"sk-item\"><div class=\"sk-estimator fitted sk-toggleable\"><input class=\"sk-toggleable__control sk-hidden--visually\" id=\"sk-estimator-id-3\" type=\"checkbox\" ><label for=\"sk-estimator-id-3\" class=\"sk-toggleable__label fitted sk-toggleable__label-arrow\"><div><div>AdaBoostClassifier</div></div><div><a class=\"sk-estimator-doc-link fitted\" rel=\"noreferrer\" target=\"_blank\" href=\"https://scikit-learn.org/1.6/modules/generated/sklearn.ensemble.AdaBoostClassifier.html\">?<span>Documentation for AdaBoostClassifier</span></a></div></label><div class=\"sk-toggleable__content fitted\"><pre>AdaBoostClassifier(n_estimators=100)</pre></div> </div></div></div></div></div></div>"
     },
     "execution_count": 17,
     "metadata": {},
     "output_type": "execute_result"
    }
   ],
   "source": [
    "# Fit the pipeline directly\n",
    "pipeline.fit(X_train, y_train)"
   ],
   "metadata": {
    "collapsed": false,
    "ExecuteTime": {
     "end_time": "2025-03-03T15:57:02.373080Z",
     "start_time": "2025-03-03T15:36:57.386647Z"
    }
   },
   "id": "ace55f0d887d5659",
   "execution_count": 17
  },
  {
   "cell_type": "markdown",
   "source": [
    "### Evaluate the model on test data"
   ],
   "metadata": {
    "collapsed": false
   },
   "id": "dc5edb41b5a65483"
  },
  {
   "cell_type": "code",
   "outputs": [
    {
     "name": "stdout",
     "output_type": "stream",
     "text": [
      "Extracting features for test data...\n",
      "Processing all 3731 test samples\n",
      "Processing batch 1/59Batch features shape: (64, 2048)\n",
      "Processing batch 2/59Batch features shape: (64, 2048)\n",
      "Processing batch 3/59Batch features shape: (64, 2048)\n",
      "Processing batch 4/59Batch features shape: (64, 2048)\n",
      "Processing batch 5/59Batch features shape: (64, 2048)\n",
      "Processing batch 6/59Batch features shape: (64, 2048)\n",
      "Processing batch 7/59Batch features shape: (64, 2048)\n",
      "Processing batch 8/59Batch features shape: (64, 2048)\n",
      "Processing batch 9/59Batch features shape: (64, 2048)\n",
      "Processing batch 10/59Batch features shape: (64, 2048)\n",
      "Processing batch 11/59Batch features shape: (64, 2048)\n",
      "Processing batch 12/59Batch features shape: (64, 2048)\n",
      "Processing batch 13/59Batch features shape: (64, 2048)\n",
      "Processing batch 14/59Batch features shape: (64, 2048)\n",
      "Processing batch 15/59Batch features shape: (64, 2048)\n",
      "Processing batch 16/59Batch features shape: (64, 2048)\n",
      "Processing batch 17/59Batch features shape: (64, 2048)\n",
      "Processing batch 18/59Batch features shape: (64, 2048)\n",
      "Processing batch 19/59Error processing image ../../data/faces/86629393@N00/coarse_tilt_aligned_face.1833.11694281594_7b055c176b_o.jpg: [Errno 89] Operation canceled\n",
      "Batch features shape: (64, 2048)\n",
      "Processing batch 20/59Batch features shape: (64, 2048)\n",
      "Processing batch 21/59Batch features shape: (64, 2048)\n",
      "Processing batch 22/59Batch features shape: (64, 2048)\n",
      "Processing batch 23/59Batch features shape: (64, 2048)\n",
      "Processing batch 24/59Batch features shape: (64, 2048)\n",
      "Processing batch 25/59Batch features shape: (64, 2048)\n",
      "Processing batch 26/59Batch features shape: (64, 2048)\n",
      "Processing batch 27/59Batch features shape: (64, 2048)\n",
      "Processing batch 28/59Batch features shape: (64, 2048)\n",
      "Processing batch 29/59Batch features shape: (64, 2048)\n",
      "Processing batch 30/59Batch features shape: (64, 2048)\n",
      "Processing batch 31/59Batch features shape: (64, 2048)\n",
      "Processing batch 32/59Batch features shape: (64, 2048)\n",
      "Processing batch 33/59Batch features shape: (64, 2048)\n",
      "Processing batch 34/59Batch features shape: (64, 2048)\n",
      "Processing batch 35/59Batch features shape: (64, 2048)\n",
      "Processing batch 36/59Batch features shape: (64, 2048)\n",
      "Processing batch 37/59Batch features shape: (64, 2048)\n",
      "Processing batch 38/59Batch features shape: (64, 2048)\n",
      "Processing batch 39/59Batch features shape: (64, 2048)\n",
      "Processing batch 40/59Batch features shape: (64, 2048)\n",
      "Processing batch 41/59Batch features shape: (64, 2048)\n",
      "Processing batch 42/59Batch features shape: (64, 2048)\n",
      "Processing batch 43/59Batch features shape: (64, 2048)\n",
      "Processing batch 44/59Batch features shape: (64, 2048)\n",
      "Processing batch 45/59Batch features shape: (64, 2048)\n",
      "Processing batch 46/59Batch features shape: (64, 2048)\n",
      "Processing batch 47/59Batch features shape: (64, 2048)\n",
      "Processing batch 48/59Batch features shape: (64, 2048)\n",
      "Processing batch 49/59Batch features shape: (64, 2048)\n",
      "Processing batch 50/59Batch features shape: (64, 2048)\n",
      "Processing batch 51/59Batch features shape: (64, 2048)\n",
      "Processing batch 52/59Batch features shape: (64, 2048)\n",
      "Processing batch 53/59Batch features shape: (64, 2048)\n",
      "Processing batch 54/59Batch features shape: (64, 2048)\n",
      "Processing batch 55/59Batch features shape: (64, 2048)\n",
      "Processing batch 56/59Batch features shape: (64, 2048)\n",
      "Processing batch 57/59Batch features shape: (64, 2048)\n",
      "Processing batch 58/59Batch features shape: (64, 2048)\n",
      "Processing batch 59/59Batch features shape: (19, 2048)\n",
      "\n",
      "Feature extraction complete.\n",
      "Test Accuracy: 0.2726\n"
     ]
    }
   ],
   "source": [
    "from sklearn.metrics import accuracy_score\n",
    "\n",
    "# Initialize the model\n",
    "model = AdaBoostClassifier(n_estimators=100, random_state=42)\n",
    "\n",
    "# Train the model\n",
    "model.fit(X_train, y_train)\n",
    "\n",
    "\n",
    "# Extract features for test data\n",
    "print(\"Extracting features for test data...\")\n",
    "print(f\"Processing all {len(test_image_paths)} test samples\")\n",
    "\n",
    "X_test = extract_features_in_batches(test_image_paths, batch_size=batch_size)\n",
    "y_test = test_labels\n",
    "\n",
    "# Evaluate on test data\n",
    "test_preds = model.predict(X_test)  # Use X_test instead of test_data\n",
    "test_accuracy = accuracy_score(y_test, test_preds)  # Use y_test instead of test_data\n",
    "print(f\"Test Accuracy: {test_accuracy:.4f}\")"
   ],
   "metadata": {
    "collapsed": false,
    "ExecuteTime": {
     "end_time": "2025-03-03T17:05:16.397467Z",
     "start_time": "2025-03-03T15:57:02.376835Z"
    }
   },
   "id": "1a96c0b7b3dbe9c3",
   "execution_count": 18
  },
  {
   "cell_type": "markdown",
   "source": [
    "### Visualize results"
   ],
   "metadata": {
    "collapsed": false
   },
   "id": "e5cb87c2151025e6"
  },
  {
   "cell_type": "code",
   "outputs": [
    {
     "data": {
      "text/plain": "<Figure size 1200x1000 with 2 Axes>",
      "image/png": "[encoded data removed]"
     },
     "metadata": {},
     "output_type": "display_data"
    }
   ],
   "source": [
    "\n",
    "# Compute confusion matrix\n",
    "cm = confusion_matrix(y_test, test_preds)\n",
    "\n",
    "# Set up figure size\n",
    "plt.figure(figsize=(12, 10))\n",
    "\n",
    "# Create a heatmap without masking zero values for better visualization\n",
    "sns.heatmap(cm, annot=True, fmt='d', cmap='Blues', linewidths=0.5, \n",
    "            xticklabels=gender_age_encoder.classes_,\n",
    "            yticklabels=gender_age_encoder.classes_)\n",
    "\n",
    "# Labels and title\n",
    "plt.xlabel('Predicted Label', fontsize=14)\n",
    "plt.ylabel('True Label', fontsize=14)\n",
    "plt.title('Confusion Matrix', fontsize=16)\n",
    "\n",
    "# Improve layout and save figure\n",
    "plt.tight_layout()\n",
    "plt.savefig('confusion_matrix.png', dpi=300)  # Higher DPI for better quality\n",
    "plt.show()"
   ],
   "metadata": {
    "collapsed": false,
    "ExecuteTime": {
     "end_time": "2025-03-03T17:05:24.542957Z",
     "start_time": "2025-03-03T17:05:16.404276Z"
    }
   },
   "id": "c2861ae71f9d8089",
   "execution_count": 19
  },
  {
   "cell_type": "markdown",
   "source": [
    "### Classification report"
   ],
   "metadata": {
    "collapsed": false
   },
   "id": "42ccfec83308713f"
  },
  {
   "cell_type": "code",
   "outputs": [
    {
     "name": "stdout",
     "output_type": "stream",
     "text": [
      "==================================================\n",
      "Classification Report\n",
      "==================================================\n",
      "              precision    recall  f1-score   support\n",
      "\n",
      "   u_(8, 23)       0.00      0.00      0.00         2\n",
      "    f_(0, 2)       0.17      0.06      0.09       192\n",
      "  f_(15, 20)       0.15      0.04      0.06       152\n",
      "  f_(25, 32)       0.30      0.58      0.39       558\n",
      "  f_(38, 43)       0.38      0.01      0.02       297\n",
      "    f_(4, 6)       0.17      0.39      0.24       193\n",
      "  f_(48, 53)       0.00      0.00      0.00       145\n",
      " f_(60, 100)       0.00      0.00      0.00       137\n",
      "   f_(8, 23)       0.07      0.12      0.09       174\n",
      "    m_(0, 2)       0.00      0.00      0.00         7\n",
      "  m_(15, 20)       0.00      0.00      0.00        73\n",
      "  m_(25, 32)       0.29      0.58      0.39       478\n",
      "  m_(38, 43)       0.20      0.21      0.21       246\n",
      "    m_(4, 6)       0.46      0.25      0.33       377\n",
      "  m_(48, 53)       0.02      0.01      0.01       113\n",
      " m_(60, 100)       0.33      0.02      0.04       137\n",
      "   m_(8, 23)       0.17      0.06      0.09       166\n",
      "    u_(0, 2)       0.86      0.47      0.61       284\n",
      "\n",
      "    accuracy                           0.27      3731\n",
      "   macro avg       0.20      0.16      0.14      3731\n",
      "weighted avg       0.28      0.27      0.23      3731\n",
      "\n",
      "==================================================\n"
     ]
    }
   ],
   "source": [
    "\n",
    "\n",
    "# Get the unique classes in your test data\n",
    "unique_classes = np.unique(y_test)\n",
    "\n",
    "# Generate classification report using the labels parameter\n",
    "report = classification_report(\n",
    "    y_test, \n",
    "    test_preds, \n",
    "    labels=unique_classes,\n",
    "    target_names=[gender_age_encoder.classes_[i] for i in unique_classes],\n",
    "    zero_division=0  # Handles the division by zero error by setting precision and recall to 0\n",
    ")\n",
    "\n",
    "# Print the classification report with better formatting\n",
    "print(\"=\" * 50)\n",
    "print(\"Classification Report\")\n",
    "print(\"=\" * 50)\n",
    "print(report)\n",
    "print(\"=\" * 50)\n"
   ],
   "metadata": {
    "collapsed": false,
    "ExecuteTime": {
     "end_time": "2025-03-03T17:05:24.551001Z",
     "start_time": "2025-03-03T17:05:24.543665Z"
    }
   },
   "id": "7015f0fb803c74b1",
   "execution_count": 20
  },
  {
   "cell_type": "markdown",
   "source": [
    "### Save the model"
   ],
   "metadata": {
    "collapsed": false
   },
   "id": "13b0f9b73dc32e29"
  },
  {
   "cell_type": "code",
   "outputs": [
    {
     "name": "stdout",
     "output_type": "stream",
     "text": [
      "Model saved successfully.\n"
     ]
    }
   ],
   "source": [
    "dump(model, 'RF_gray_gender_age_classifier.joblib')\n",
    "dump(gender_age_encoder, 'gender_age_encoder.joblib')\n",
    "print(\"Model saved successfully.\")"
   ],
   "metadata": {
    "collapsed": false,
    "ExecuteTime": {
     "end_time": "2025-03-03T17:05:24.783780Z",
     "start_time": "2025-03-03T17:05:24.551330Z"
    }
   },
   "id": "aab2930175f6f67f",
   "execution_count": 21
  },
  {
   "cell_type": "code",
   "outputs": [
    {
     "data": {
      "text/plain": "'\\n# Load the model\\nimage_path = \"path/to/new/face/image.jpg\"\\nmodel = load(\\'linear_svc_gender_age_classifier.joblib\\')\\ngender_age_encoder = load(\\'gender_age_encoder.joblib\\')\\n\\n# Make prediction\\npred_gender_age, confidence = predict_gender_age(image_path, model, gender_age_encoder)\\nprint(f\"Predicted gender_age range: {pred_gender_age} with confidence {confidence:.2f}\")\\n'"
     },
     "execution_count": 22,
     "metadata": {},
     "output_type": "execute_result"
    }
   ],
   "source": [
    "# Function to predict gender_age range for a new image\n",
    "def predict_gender_age(image_path, model, gender_age_encoder):\n",
    "    \"\"\"Predict gender and age for a given face image.\"\"\"\n",
    "    # Extract features\n",
    "    features = rgb2emb([image_path]) / 255.0\n",
    "    \n",
    "    # Apply the same scaling used during training (if using a pipeline with StandardScaler)\n",
    "    if hasattr(model, 'named_steps') and 'scaler' in model.named_steps:\n",
    "        features = model.named_steps['scaler'].transform(features)\n",
    "    \n",
    "    # Make prediction\n",
    "    pred_class = model.predict(features)[0]\n",
    "    \n",
    "    # Get class probabilities if available\n",
    "    if hasattr(model, 'predict_proba'):\n",
    "        pred_probs = model.predict_proba(features)[0]\n",
    "        confidence = pred_probs[pred_class]\n",
    "    else:\n",
    "        # For AdaBoostClassifier without calibration, we can't get probabilities\n",
    "        # Use decision function instead as a rough proxy for confidence\n",
    "        decision_values = model.decision_function(features)\n",
    "        # Normalize to [0, 1] range roughly\n",
    "        confidence = 1 / (1 + np.exp(-np.abs(decision_values[0][pred_class])))\n",
    "    \n",
    "    # Convert to gender_age range\n",
    "    pred_gender_age_range = gender_age_encoder.classes_[pred_class]\n",
    "    \n",
    "    return pred_gender_age_range, confidence\n",
    "\n",
    "# Example usage:\n",
    "\"\"\"\n",
    "# Load the model\n",
    "image_path = \"path/to/new/face/image.jpg\"\n",
    "model = load('linear_svc_gender_age_classifier.joblib')\n",
    "gender_age_encoder = load('gender_age_encoder.joblib')\n",
    "\n",
    "# Make prediction\n",
    "pred_gender_age, confidence = predict_gender_age(image_path, model, gender_age_encoder)\n",
    "print(f\"Predicted gender_age range: {pred_gender_age} with confidence {confidence:.2f}\")\n",
    "\"\"\"\n"
   ],
   "metadata": {
    "collapsed": false,
    "ExecuteTime": {
     "end_time": "2025-03-03T17:05:24.786404Z",
     "start_time": "2025-03-03T17:05:24.593111Z"
    }
   },
   "id": "dcbd02c1666a2f95",
   "execution_count": 22
  }
 ],
 "metadata": {
  "kernelspec": {
   "display_name": "Python 3",
   "language": "python",
   "name": "python3"
  },
  "language_info": {
   "codemirror_mode": {
    "name": "ipython",
    "version": 2
   },
   "file_extension": ".py",
   "mimetype": "text/x-python",
   "name": "python",
   "nbconvert_exporter": "python",
   "pygments_lexer": "ipython2",
   "version": "2.7.6"
  }
 },
 "nbformat": 4,
 "nbformat_minor": 5
}
