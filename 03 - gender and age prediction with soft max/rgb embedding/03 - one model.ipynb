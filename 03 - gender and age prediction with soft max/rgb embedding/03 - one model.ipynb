{
 "cells": [
  {
   "cell_type": "code",
   "execution_count": 17,
   "id": "845b486670efa827",
   "metadata": {
    "ExecuteTime": {
     "end_time": "2025-03-01T21:37:54.113030Z",
     "start_time": "2025-03-01T21:37:39.893038700Z"
    },
    "collapsed": false
   },
   "outputs": [],
   "source": [
    "from sklearn.utils.class_weight import compute_class_weight\n",
    "import numpy as np\n",
    "from sklearn.preprocessing import LabelEncoder, StandardScaler\n",
    "from tensorflow.keras.models import Sequential\n",
    "from tensorflow.keras.layers import Dense, Dropout, BatchNormalization\n",
    "from tensorflow.keras.optimizers import Adam\n",
    "from sklearn.metrics import classification_report, confusion_matrix\n",
    "import matplotlib.pyplot as plt\n",
    "import seaborn as sns\n",
    "import math\n",
    "import os\n",
    "import pandas as pd\n",
    "import joblib\n",
    "import tensorflow as tf\n",
    "import sys\n",
    "\n",
    "project_root = os.path.abspath(os.path.join(os.getcwd(), \"..\", \"..\"))\n",
    "if project_root not in sys.path:\n",
    "    sys.path.append(project_root)\n",
    "    \n",
    "from img2vec import rgb2emb\n"
   ]
  },
  {
   "cell_type": "markdown",
   "id": "82306775cf3a29c1",
   "metadata": {
    "collapsed": false
   },
   "source": [
    "### check for GPU"
   ]
  },
  {
   "cell_type": "code",
   "execution_count": 18,
   "id": "206d6d9a96bd0793",
   "metadata": {
    "ExecuteTime": {
     "end_time": "2025-03-01T21:37:54.128739100Z",
     "start_time": "2025-03-01T21:37:54.113030Z"
    },
    "collapsed": false
   },
   "outputs": [
    {
     "name": "stdout",
     "output_type": "stream",
     "text": [
      "TensorFlow version: 2.18.0\n",
      "Intel GPU available: []\n"
     ]
    }
   ],
   "source": [
    "# Check TensorFlow version\n",
    "print(\"TensorFlow version:\", tf.__version__)\n",
    "\n",
    "# Check if Intel GPU is available\n",
    "print(\"Intel GPU available:\", tf.config.list_physical_devices('GPU'))\n",
    "\n",
    "# Force TensorFlow to use Intel GPU\n",
    "os.environ['TF_FORCE_GPU_ALLOW_GROWTH'] = 'true'\n",
    "os.environ['MKLDNN_VERBOSE'] = '1'  # Enable Intel MKL-DNN verbose mode\n",
    "os.environ['TF_ENABLE_ONEDNN_OPTS'] = '1'  # Enable Intel oneDNN optimizations\n",
    "# Set memory growth\n",
    "gpus = tf.config.list_physical_devices('GPU')\n",
    "if gpus:\n",
    "    try:\n",
    "        for gpu in gpus:\n",
    "            tf.config.experimental.set_memory_growth(gpu, True)\n",
    "        print(\"Memory growth enabled\")\n",
    "    except RuntimeError as e:\n",
    "        print(e)"
   ]
  },
  {
   "cell_type": "code",
   "execution_count": 19,
   "id": "initial_id",
   "metadata": {
    "ExecuteTime": {
     "end_time": "2025-03-01T21:37:54.176902500Z",
     "start_time": "2025-03-01T21:37:54.128739100Z"
    },
    "collapsed": true
   },
   "outputs": [],
   "source": [
    "# Define the batch size\n",
    "batch_size = 64"
   ]
  },
  {
   "cell_type": "markdown",
   "id": "ef0468300ae56a68",
   "metadata": {
    "collapsed": false
   },
   "source": [
    "### Read the data"
   ]
  },
  {
   "cell_type": "code",
   "execution_count": 20,
   "id": "4f0f6a844c8192c0",
   "metadata": {
    "ExecuteTime": {
     "end_time": "2025-03-01T21:37:54.246103800Z",
     "start_time": "2025-03-01T21:37:54.144644400Z"
    },
    "collapsed": false
   },
   "outputs": [],
   "source": [
    "train_data = pd.read_csv(os.path.join('..', '..', 'data', 'train.csv'))\n",
    "val_data = pd.read_csv(os.path.join('..', '..', 'data', 'val.csv'))\n",
    "test_data = pd.read_csv(os.path.join('..', '..', 'data', 'test.csv'))"
   ]
  },
  {
   "cell_type": "markdown",
   "id": "6a145eff4280fb90",
   "metadata": {
    "collapsed": false
   },
   "source": [
    "### Combine the age and gender columns"
   ]
  },
  {
   "cell_type": "code",
   "execution_count": 21,
   "id": "5b27f3de4e251180",
   "metadata": {
    "ExecuteTime": {
     "end_time": "2025-03-01T21:37:54.276615100Z",
     "start_time": "2025-03-01T21:37:54.247410200Z"
    },
    "collapsed": false
   },
   "outputs": [],
   "source": [
    "train_data['combined_label'] = train_data['age'] + '_' + train_data['gender']\n",
    "val_data['combined_label'] = val_data['age'] + '_' + val_data['gender']\n",
    "test_data['combined_label'] = test_data['age'] + '_' + test_data['gender']"
   ]
  },
  {
   "cell_type": "markdown",
   "id": "d04de1c73eef1899",
   "metadata": {
    "collapsed": false
   },
   "source": [
    "### remove records with rear combinations"
   ]
  },
  {
   "cell_type": "code",
   "execution_count": 22,
   "id": "72bb208874ee438b",
   "metadata": {
    "ExecuteTime": {
     "end_time": "2025-03-01T21:37:54.353749800Z",
     "start_time": "2025-03-01T21:37:54.275644Z"
    },
    "collapsed": false
   },
   "outputs": [
    {
     "name": "stdout",
     "output_type": "stream",
     "text": [
      "Combined encoder loaded successfully.\n",
      "Number of combined classes: 17\n",
      "Combined classes: ['(0, 2)_f' '(0, 2)_m' '(0, 2)_u' '(15, 20)_f' '(15, 20)_m' '(25, 32)_f'\n",
      " '(25, 32)_m' '(38, 43)_f' '(38, 43)_m' '(4, 6)_f' '(4, 6)_m' '(48, 53)_f'\n",
      " '(48, 53)_m' '(60, 100)_f' '(60, 100)_m' '(8, 23)_f' '(8, 23)_m']\n"
     ]
    },
    {
     "name": "stderr",
     "output_type": "stream",
     "text": [
      "C:\\Users\\shayg\\AppData\\Local\\Temp\\ipykernel_23816\\2011738974.py:12: SettingWithCopyWarning: \n",
      "A value is trying to be set on a copy of a slice from a DataFrame.\n",
      "Try using .loc[row_indexer,col_indexer] = value instead\n",
      "\n",
      "See the caveats in the documentation: https://pandas.pydata.org/pandas-docs/stable/user_guide/indexing.html#returning-a-view-versus-a-copy\n",
      "  train_data_filtered['combined_label_encoded'] = combined_encoder.transform(train_data_filtered['combined_label'])\n",
      "C:\\Users\\shayg\\AppData\\Local\\Temp\\ipykernel_23816\\2011738974.py:13: SettingWithCopyWarning: \n",
      "A value is trying to be set on a copy of a slice from a DataFrame.\n",
      "Try using .loc[row_indexer,col_indexer] = value instead\n",
      "\n",
      "See the caveats in the documentation: https://pandas.pydata.org/pandas-docs/stable/user_guide/indexing.html#returning-a-view-versus-a-copy\n",
      "  val_data_filtered['combined_label_encoded'] = combined_encoder.transform(val_data_filtered['combined_label'])\n",
      "C:\\Users\\shayg\\AppData\\Local\\Temp\\ipykernel_23816\\2011738974.py:14: SettingWithCopyWarning: \n",
      "A value is trying to be set on a copy of a slice from a DataFrame.\n",
      "Try using .loc[row_indexer,col_indexer] = value instead\n",
      "\n",
      "See the caveats in the documentation: https://pandas.pydata.org/pandas-docs/stable/user_guide/indexing.html#returning-a-view-versus-a-copy\n",
      "  test_data_filtered['combined_label_encoded'] = combined_encoder.transform(test_data_filtered['combined_label'])\n"
     ]
    }
   ],
   "source": [
    "# Check if encoder already exists\n",
    "if os.path.exists('combined_encoder.pkl'):\n",
    "    combined_encoder = joblib.load('combined_encoder.pkl')\n",
    "    print(\"Combined encoder loaded successfully.\")\n",
    "\n",
    "    # Filter data to include only classes the encoder knows\n",
    "    train_data_filtered = train_data[train_data['combined_label'].isin(combined_encoder.classes_)]\n",
    "    val_data_filtered = val_data[val_data['combined_label'].isin(combined_encoder.classes_)]\n",
    "    test_data_filtered = test_data[test_data['combined_label'].isin(combined_encoder.classes_)]\n",
    "\n",
    "    # Transform the labels using the loaded encoder\n",
    "    train_data_filtered['combined_label_encoded'] = combined_encoder.transform(train_data_filtered['combined_label'])\n",
    "    val_data_filtered['combined_label_encoded'] = combined_encoder.transform(val_data_filtered['combined_label'])\n",
    "    test_data_filtered['combined_label_encoded'] = combined_encoder.transform(test_data_filtered['combined_label'])\n",
    "else:\n",
    "    # Count frequency of each combined label\n",
    "    label_counts = train_data['combined_label'].value_counts()\n",
    "\n",
    "    # Find rare combinations (e.g., occurring less than 5 times)\n",
    "    rare_labels = label_counts[label_counts < 5].index.tolist()\n",
    "    print(f\"Rare combinations: {rare_labels}\")\n",
    "\n",
    "    # Remove rare combinations from all datasets\n",
    "    train_data_filtered = train_data[~train_data['combined_label'].isin(rare_labels)]\n",
    "    val_data_filtered = val_data[~val_data['combined_label'].isin(rare_labels)]\n",
    "    test_data_filtered = test_data[~test_data['combined_label'].isin(rare_labels)]\n",
    "\n",
    "    # Create and fit a new encoder\n",
    "    combined_encoder = LabelEncoder()\n",
    "    train_data_filtered['combined_label_encoded'] = combined_encoder.fit_transform(\n",
    "        train_data_filtered['combined_label'])\n",
    "\n",
    "    # Ensure validation and test sets only contain classes seen during training\n",
    "    val_data_filtered = val_data_filtered[\n",
    "        val_data_filtered['combined_label'].isin(train_data_filtered['combined_label'])]\n",
    "    test_data_filtered = test_data_filtered[\n",
    "        test_data_filtered['combined_label'].isin(train_data_filtered['combined_label'])]\n",
    "\n",
    "    val_data_filtered['combined_label_encoded'] = combined_encoder.transform(val_data_filtered['combined_label'])\n",
    "    test_data_filtered['combined_label_encoded'] = combined_encoder.transform(test_data_filtered['combined_label'])\n",
    "\n",
    "    # Save the encoder\n",
    "    joblib.dump(combined_encoder, 'combined_encoder.pkl')\n",
    "    print(\"Combined encoder created and saved successfully.\")\n",
    "\n",
    "num_classes = len(combined_encoder.classes_)\n",
    "print(f\"Number of combined classes: {num_classes}\")\n",
    "print(\"Combined classes:\", combined_encoder.classes_)"
   ]
  },
  {
   "cell_type": "markdown",
   "id": "a634a085d5f03e9a",
   "metadata": {
    "collapsed": false
   },
   "source": [
    "### Add image paths"
   ]
  },
  {
   "cell_type": "code",
   "execution_count": 23,
   "id": "607148ae4bcf957e",
   "metadata": {
    "ExecuteTime": {
     "end_time": "2025-03-01T21:37:54.514777500Z",
     "start_time": "2025-03-01T21:37:54.311505Z"
    },
    "collapsed": false
   },
   "outputs": [],
   "source": [
    "def construct_img_path(row):\n",
    "    return os.path.join(\"..\", \"..\", \"data\", \"faces\", row['user_id'],\n",
    "                        \"coarse_tilt_aligned_face.\" + str(row['face_id']) + \".\" + row['original_image'])\n",
    "\n",
    "\n",
    "train_data['img_path'] = train_data.apply(construct_img_path, axis=1)\n",
    "val_data['img_path'] = val_data.apply(construct_img_path, axis=1)\n",
    "test_data['img_path'] = test_data.apply(construct_img_path, axis=1)\n"
   ]
  },
  {
   "cell_type": "markdown",
   "id": "d016a8227abffe3e",
   "metadata": {
    "collapsed": false
   },
   "source": [
    "### Check if images exist"
   ]
  },
  {
   "cell_type": "code",
   "execution_count": 24,
   "id": "41aeddb8c258903d",
   "metadata": {
    "ExecuteTime": {
     "end_time": "2025-03-01T21:37:55.339827900Z",
     "start_time": "2025-03-01T21:37:54.518069400Z"
    },
    "collapsed": false
   },
   "outputs": [],
   "source": [
    "train_data['img_exists'] = train_data['img_path'].apply(os.path.exists)\n",
    "val_data['img_exists'] = val_data['img_path'].apply(os.path.exists)\n",
    "test_data['img_exists'] = test_data['img_path'].apply(os.path.exists)"
   ]
  },
  {
   "cell_type": "markdown",
   "id": "2da31554c89bfe8f",
   "metadata": {
    "collapsed": false
   },
   "source": [
    "### Filter out any rows where the image doesn't exist"
   ]
  },
  {
   "cell_type": "code",
   "execution_count": 25,
   "id": "7ab57cead8964597",
   "metadata": {
    "ExecuteTime": {
     "end_time": "2025-03-01T21:39:05.532951700Z",
     "start_time": "2025-03-01T21:39:05.454686500Z"
    },
    "collapsed": false
   },
   "outputs": [],
   "source": [
    "train_data_filtered = train_data_filtered.merge(\n",
    "    train_data[['user_id', 'face_id', 'original_image', 'img_path', 'img_exists']], \n",
    "    on=['user_id', 'face_id', 'original_image']\n",
    ")\n",
    "\n",
    "val_data_filtered = val_data_filtered.merge(\n",
    "    val_data[['user_id', 'face_id', 'original_image', 'img_path', 'img_exists']], \n",
    "    on=['user_id', 'face_id', 'original_image']\n",
    ")\n",
    "\n",
    "test_data_filtered = test_data_filtered.merge(\n",
    "    test_data[['user_id', 'face_id', 'original_image', 'img_path', 'img_exists']], \n",
    "    on=['user_id', 'face_id', 'original_image']\n",
    ")\n",
    "\n",
    "# Now filter only those that exist\n",
    "train_data_filtered = train_data_filtered[train_data_filtered['img_exists'] == True]\n",
    "val_data_filtered = val_data_filtered[val_data_filtered['img_exists'] == True]\n",
    "test_data_filtered = test_data_filtered[test_data_filtered['img_exists'] == True]"
   ]
  },
  {
   "cell_type": "markdown",
   "id": "e407f9502900def5",
   "metadata": {
    "collapsed": false
   },
   "source": [
    "### Extract image paths and labels"
   ]
  },
  {
   "cell_type": "code",
   "execution_count": 26,
   "id": "51a490149625d986",
   "metadata": {
    "ExecuteTime": {
     "end_time": "2025-03-01T21:39:08.093820400Z",
     "start_time": "2025-03-01T21:39:08.087756800Z"
    },
    "collapsed": false
   },
   "outputs": [],
   "source": [
    "train_image_paths = train_data_filtered['img_path'].tolist()\n",
    "train_labels = train_data_filtered['combined_label_encoded'].values  # Use encoded values\n",
    "\n",
    "val_image_paths = val_data_filtered['img_path'].tolist()\n",
    "val_labels = val_data_filtered['combined_label_encoded'].values  # Use encoded values\n",
    "\n",
    "test_image_paths = test_data_filtered['img_path'].tolist()\n",
    "test_labels = test_data_filtered['combined_label_encoded'].values  # Use encoded values"
   ]
  },
  {
   "cell_type": "markdown",
   "id": "ee9693e8577e8b82",
   "metadata": {
    "collapsed": false
   },
   "source": [
    "### Define function that process features in batches and store them to avoid recomputation"
   ]
  },
  {
   "cell_type": "code",
   "execution_count": 27,
   "id": "cad2945b67e5b9c5",
   "metadata": {
    "ExecuteTime": {
     "end_time": "2025-03-01T21:39:09.179349800Z",
     "start_time": "2025-03-01T21:39:09.152241300Z"
    },
    "collapsed": false
   },
   "outputs": [],
   "source": [
    "def preprocess_and_save_features(image_paths, output_file, batch_size=64):\n",
    "    if os.path.exists(output_file):\n",
    "        print(f\"Loading pre-processed features from {output_file}\")\n",
    "        return np.load(output_file)\n",
    "\n",
    "    print(f\"Processing {len(image_paths)} images and saving to {output_file}\")\n",
    "    all_features = []\n",
    "\n",
    "    for i in range(0, len(image_paths), batch_size):\n",
    "        batch_paths = image_paths[i:i + batch_size]\n",
    "        print(f\"Processing batch {i // batch_size + 1}/{math.ceil(len(image_paths) / batch_size)}\")\n",
    "        batch_features = rgb2emb(batch_paths)\n",
    "        all_features.append(batch_features)\n",
    "\n",
    "    all_features = np.vstack(all_features)\n",
    "    np.save(output_file, all_features)\n",
    "    return all_features"
   ]
  },
  {
   "cell_type": "markdown",
   "id": "43dcace2616adc9d",
   "metadata": {
    "collapsed": false
   },
   "source": [
    "### Process and save features"
   ]
  },
  {
   "cell_type": "code",
   "execution_count": 28,
   "id": "8d609e762c70e636",
   "metadata": {
    "ExecuteTime": {
     "end_time": "2025-03-01T21:58:17.095719500Z",
     "start_time": "2025-03-01T21:39:09.248685600Z"
    },
    "collapsed": false
   },
   "outputs": [
    {
     "name": "stdout",
     "output_type": "stream",
     "text": [
      "Processing 11851 images and saving to ..\\..\\models\\ang_gen\\rgbemb\\train_features.npy\n",
      "Processing batch 1/186\n",
      "Processing batch 2/186\n",
      "Processing batch 3/186\n",
      "Processing batch 4/186\n",
      "Processing batch 5/186\n",
      "Processing batch 6/186\n",
      "Processing batch 7/186\n",
      "Processing batch 8/186\n",
      "Processing batch 9/186\n",
      "Processing batch 10/186\n",
      "Processing batch 11/186\n",
      "Processing batch 12/186\n",
      "Processing batch 13/186\n",
      "Processing batch 14/186\n",
      "Processing batch 15/186\n",
      "Processing batch 16/186\n",
      "Processing batch 17/186\n",
      "Processing batch 18/186\n",
      "Processing batch 19/186\n",
      "Processing batch 20/186\n",
      "Processing batch 21/186\n",
      "Processing batch 22/186\n",
      "Processing batch 23/186\n",
      "Processing batch 24/186\n",
      "Processing batch 25/186\n",
      "Processing batch 26/186\n",
      "Processing batch 27/186\n",
      "Processing batch 28/186\n",
      "Processing batch 29/186\n",
      "Processing batch 30/186\n",
      "Processing batch 31/186\n",
      "Processing batch 32/186\n",
      "Processing batch 33/186\n",
      "Processing batch 34/186\n",
      "Processing batch 35/186\n",
      "Processing batch 36/186\n",
      "Processing batch 37/186\n",
      "Processing batch 38/186\n",
      "Processing batch 39/186\n",
      "Processing batch 40/186\n",
      "Processing batch 41/186\n",
      "Processing batch 42/186\n",
      "Processing batch 43/186\n",
      "Processing batch 44/186\n",
      "Processing batch 45/186\n",
      "Processing batch 46/186\n",
      "Processing batch 47/186\n",
      "Processing batch 48/186\n",
      "Processing batch 49/186\n",
      "Processing batch 50/186\n",
      "Processing batch 51/186\n",
      "Processing batch 52/186\n",
      "Processing batch 53/186\n",
      "Processing batch 54/186\n",
      "Processing batch 55/186\n",
      "Processing batch 56/186\n",
      "Processing batch 57/186\n",
      "Processing batch 58/186\n",
      "Processing batch 59/186\n",
      "Processing batch 60/186\n",
      "Processing batch 61/186\n",
      "Processing batch 62/186\n",
      "Processing batch 63/186\n",
      "Processing batch 64/186\n",
      "Processing batch 65/186\n",
      "Processing batch 66/186\n",
      "Processing batch 67/186\n",
      "Processing batch 68/186\n",
      "Processing batch 69/186\n",
      "Processing batch 70/186\n",
      "Processing batch 71/186\n",
      "Processing batch 72/186\n",
      "Processing batch 73/186\n",
      "Processing batch 74/186\n",
      "Processing batch 75/186\n",
      "Processing batch 76/186\n",
      "Processing batch 77/186\n",
      "Processing batch 78/186\n",
      "Processing batch 79/186\n",
      "Processing batch 80/186\n",
      "Processing batch 81/186\n",
      "Processing batch 82/186\n",
      "Processing batch 83/186\n",
      "Processing batch 84/186\n",
      "Processing batch 85/186\n",
      "Processing batch 86/186\n",
      "Processing batch 87/186\n",
      "Processing batch 88/186\n",
      "Processing batch 89/186\n",
      "Processing batch 90/186\n",
      "Processing batch 91/186\n",
      "Processing batch 92/186\n",
      "Processing batch 93/186\n",
      "Processing batch 94/186\n",
      "Processing batch 95/186\n",
      "Processing batch 96/186\n",
      "Processing batch 97/186\n",
      "Processing batch 98/186\n",
      "Processing batch 99/186\n",
      "Processing batch 100/186\n",
      "Processing batch 101/186\n",
      "Processing batch 102/186\n",
      "Processing batch 103/186\n",
      "Processing batch 104/186\n",
      "Processing batch 105/186\n",
      "Processing batch 106/186\n",
      "Processing batch 107/186\n",
      "Processing batch 108/186\n",
      "Processing batch 109/186\n",
      "Processing batch 110/186\n",
      "Processing batch 111/186\n",
      "Processing batch 112/186\n",
      "Processing batch 113/186\n",
      "Processing batch 114/186\n",
      "Processing batch 115/186\n",
      "Processing batch 116/186\n",
      "Processing batch 117/186\n",
      "Processing batch 118/186\n",
      "Processing batch 119/186\n",
      "Processing batch 120/186\n",
      "Processing batch 121/186\n",
      "Processing batch 122/186\n",
      "Processing batch 123/186\n",
      "Processing batch 124/186\n",
      "Processing batch 125/186\n",
      "Processing batch 126/186\n",
      "Processing batch 127/186\n",
      "Processing batch 128/186\n",
      "Processing batch 129/186\n",
      "Processing batch 130/186\n",
      "Processing batch 131/186\n",
      "Processing batch 132/186\n",
      "Processing batch 133/186\n",
      "Processing batch 134/186\n",
      "Processing batch 135/186\n",
      "Processing batch 136/186\n",
      "Processing batch 137/186\n",
      "Processing batch 138/186\n",
      "Processing batch 139/186\n",
      "Processing batch 140/186\n",
      "Processing batch 141/186\n",
      "Processing batch 142/186\n",
      "Processing batch 143/186\n",
      "Processing batch 144/186\n",
      "Processing batch 145/186\n",
      "Processing batch 146/186\n",
      "Processing batch 147/186\n",
      "Processing batch 148/186\n",
      "Processing batch 149/186\n",
      "Processing batch 150/186\n",
      "Processing batch 151/186\n",
      "Processing batch 152/186\n",
      "Processing batch 153/186\n",
      "Processing batch 154/186\n",
      "Processing batch 155/186\n",
      "Processing batch 156/186\n",
      "Processing batch 157/186\n",
      "Processing batch 158/186\n",
      "Processing batch 159/186\n",
      "Processing batch 160/186\n",
      "Processing batch 161/186\n",
      "Processing batch 162/186\n",
      "Processing batch 163/186\n",
      "Processing batch 164/186\n",
      "Processing batch 165/186\n",
      "Processing batch 166/186\n",
      "Processing batch 167/186\n",
      "Processing batch 168/186\n",
      "Processing batch 169/186\n",
      "Processing batch 170/186\n",
      "Processing batch 171/186\n",
      "Processing batch 172/186\n",
      "Processing batch 173/186\n",
      "Processing batch 174/186\n",
      "Processing batch 175/186\n",
      "Processing batch 176/186\n",
      "Processing batch 177/186\n",
      "Processing batch 178/186\n",
      "Processing batch 179/186\n",
      "Processing batch 180/186\n",
      "Processing batch 181/186\n",
      "Processing batch 182/186\n",
      "Processing batch 183/186\n",
      "Processing batch 184/186\n",
      "Processing batch 185/186\n",
      "Processing batch 186/186\n",
      "Processing 2963 images and saving to ..\\..\\models\\ang_gen\\rgbemb\\val_features.npy\n",
      "Processing batch 1/47\n",
      "Processing batch 2/47\n",
      "Processing batch 3/47\n",
      "Processing batch 4/47\n",
      "Processing batch 5/47\n",
      "Processing batch 6/47\n",
      "Processing batch 7/47\n",
      "Processing batch 8/47\n",
      "Processing batch 9/47\n",
      "Processing batch 10/47\n",
      "Processing batch 11/47\n",
      "Processing batch 12/47\n",
      "Processing batch 13/47\n",
      "Processing batch 14/47\n",
      "Processing batch 15/47\n",
      "Processing batch 16/47\n",
      "Processing batch 17/47\n",
      "Processing batch 18/47\n",
      "Processing batch 19/47\n",
      "Processing batch 20/47\n",
      "Processing batch 21/47\n",
      "Processing batch 22/47\n",
      "Processing batch 23/47\n",
      "Processing batch 24/47\n",
      "Processing batch 25/47\n",
      "Processing batch 26/47\n",
      "Processing batch 27/47\n",
      "Processing batch 28/47\n",
      "Processing batch 29/47\n",
      "Processing batch 30/47\n",
      "Processing batch 31/47\n",
      "Processing batch 32/47\n",
      "Processing batch 33/47\n",
      "Processing batch 34/47\n",
      "Processing batch 35/47\n",
      "Processing batch 36/47\n",
      "Processing batch 37/47\n",
      "Processing batch 38/47\n",
      "Processing batch 39/47\n",
      "Processing batch 40/47\n",
      "Processing batch 41/47\n",
      "Processing batch 42/47\n",
      "Processing batch 43/47\n",
      "Processing batch 44/47\n",
      "Processing batch 45/47\n",
      "Processing batch 46/47\n",
      "Processing batch 47/47\n",
      "Processing 3729 images and saving to ..\\..\\models\\ang_gen\\rgbemb\\test_features.npy\n",
      "Processing batch 1/59\n",
      "Processing batch 2/59\n",
      "Processing batch 3/59\n",
      "Processing batch 4/59\n",
      "Processing batch 5/59\n",
      "Processing batch 6/59\n",
      "Processing batch 7/59\n",
      "Processing batch 8/59\n",
      "Processing batch 9/59\n",
      "Processing batch 10/59\n",
      "Processing batch 11/59\n",
      "Processing batch 12/59\n",
      "Processing batch 13/59\n",
      "Processing batch 14/59\n",
      "Processing batch 15/59\n",
      "Processing batch 16/59\n",
      "Processing batch 17/59\n",
      "Processing batch 18/59\n",
      "Processing batch 19/59\n",
      "Processing batch 20/59\n",
      "Processing batch 21/59\n",
      "Processing batch 22/59\n",
      "Processing batch 23/59\n",
      "Processing batch 24/59\n",
      "Processing batch 25/59\n",
      "Processing batch 26/59\n",
      "Processing batch 27/59\n",
      "Processing batch 28/59\n",
      "Processing batch 29/59\n",
      "Processing batch 30/59\n",
      "Processing batch 31/59\n",
      "Processing batch 32/59\n",
      "Processing batch 33/59\n",
      "Processing batch 34/59\n",
      "Processing batch 35/59\n",
      "Processing batch 36/59\n",
      "Processing batch 37/59\n",
      "Processing batch 38/59\n",
      "Processing batch 39/59\n",
      "Processing batch 40/59\n",
      "Processing batch 41/59\n",
      "Processing batch 42/59\n",
      "Processing batch 43/59\n",
      "Processing batch 44/59\n",
      "Processing batch 45/59\n",
      "Processing batch 46/59\n",
      "Processing batch 47/59\n",
      "Processing batch 48/59\n",
      "Processing batch 49/59\n",
      "Processing batch 50/59\n",
      "Processing batch 51/59\n",
      "Processing batch 52/59\n",
      "Processing batch 53/59\n",
      "Processing batch 54/59\n",
      "Processing batch 55/59\n",
      "Processing batch 56/59\n",
      "Processing batch 57/59\n",
      "Processing batch 58/59\n",
      "Processing batch 59/59\n"
     ]
    }
   ],
   "source": [
    "model_folder = os.path.join('..', '..', 'models',\"ang_gen\", \"rgbemb\")\n",
    "\n",
    "if not os.path.exists(os.path.join(model_folder, 'train_features.npy')):\n",
    "    train_features = preprocess_and_save_features(train_image_paths, os.path.join(model_folder, 'train_features.npy'))\n",
    "    val_features = preprocess_and_save_features(val_image_paths, os.path.join(model_folder, 'val_features.npy'))\n",
    "    test_features = preprocess_and_save_features(test_image_paths, os.path.join(model_folder, 'test_features.npy'))\n",
    "else:\n",
    "    train_features = np.load(os.path.join(model_folder, 'train_features.npy'))\n",
    "    val_features = np.load(os.path.join(model_folder, 'val_features.npy'))\n",
    "    test_features = np.load(os.path.join(model_folder, 'test_features.npy'))\n"
   ]
  },
  {
   "cell_type": "markdown",
   "id": "941d64c0e52e30c3",
   "metadata": {
    "collapsed": false
   },
   "source": [
    "### Standardize features"
   ]
  },
  {
   "cell_type": "code",
   "execution_count": 29,
   "id": "2e9721bdb44b96d2",
   "metadata": {
    "ExecuteTime": {
     "end_time": "2025-03-01T21:58:17.601524900Z",
     "start_time": "2025-03-01T21:58:17.104703Z"
    },
    "collapsed": false
   },
   "outputs": [
    {
     "name": "stdout",
     "output_type": "stream",
     "text": [
      "Feature scaler loaded successfully.\n"
     ]
    }
   ],
   "source": [
    "if os.path.exists('feature_scaler.pkl'):\n",
    "    # Load existing scaler\n",
    "    scaler = joblib.load('feature_scaler.pkl')\n",
    "    print(\"Feature scaler loaded successfully.\")\n",
    "\n",
    "    train_features_scaled = scaler.transform(train_features)\n",
    "    val_features_scaled = scaler.transform(val_features)\n",
    "    test_features_scaled = scaler.transform(test_features)\n",
    "else:\n",
    "    scaler = StandardScaler()\n",
    "    train_features_scaled = scaler.fit_transform(train_features)\n",
    "    val_features_scaled = scaler.transform(val_features)\n",
    "    test_features_scaled = scaler.transform(test_features)\n",
    "\n",
    "    # Save the scaler\n",
    "    joblib.dump(scaler, 'feature_scaler.pkl')\n",
    "    print(\"Feature scaler created and saved successfully.\")"
   ]
  },
  {
   "cell_type": "markdown",
   "id": "cadd81c1f5f4d2c8",
   "metadata": {
    "collapsed": false
   },
   "source": [
    "### Define a simple softmax model "
   ]
  },
  {
   "cell_type": "code",
   "execution_count": 30,
   "id": "2192cee190c91935",
   "metadata": {
    "ExecuteTime": {
     "end_time": "2025-03-01T21:58:17.936022800Z",
     "start_time": "2025-03-01T21:58:17.601524900Z"
    },
    "collapsed": false
   },
   "outputs": [
    {
     "name": "stderr",
     "output_type": "stream",
     "text": [
      "c:\\Users\\shayg\\projects\\ML\\final_project\\venv\\lib\\site-packages\\keras\\src\\layers\\core\\dense.py:87: UserWarning: Do not pass an `input_shape`/`input_dim` argument to a layer. When using Sequential models, prefer using an `Input(shape)` object as the first layer in the model instead.\n",
      "  super().__init__(activity_regularizer=activity_regularizer, **kwargs)\n"
     ]
    },
    {
     "data": {
      "text/html": [
       "<pre style=\"white-space:pre;overflow-x:auto;line-height:normal;font-family:Menlo,'DejaVu Sans Mono',consolas,'Courier New',monospace\"><span style=\"font-weight: bold\">Model: \"sequential_2\"</span>\n",
       "</pre>\n"
      ],
      "text/plain": [
       "\u001b[1mModel: \"sequential_2\"\u001b[0m\n"
      ]
     },
     "metadata": {},
     "output_type": "display_data"
    },
    {
     "data": {
      "text/html": [
       "<pre style=\"white-space:pre;overflow-x:auto;line-height:normal;font-family:Menlo,'DejaVu Sans Mono',consolas,'Courier New',monospace\">┏━━━━━━━━━━━━━━━━━━━━━━━━━━━━━━━━━┳━━━━━━━━━━━━━━━━━━━━━━━━┳━━━━━━━━━━━━━━━┓\n",
       "┃<span style=\"font-weight: bold\"> Layer (type)                    </span>┃<span style=\"font-weight: bold\"> Output Shape           </span>┃<span style=\"font-weight: bold\">       Param # </span>┃\n",
       "┡━━━━━━━━━━━━━━━━━━━━━━━━━━━━━━━━━╇━━━━━━━━━━━━━━━━━━━━━━━━╇━━━━━━━━━━━━━━━┩\n",
       "│ dense_1 (<span style=\"color: #0087ff; text-decoration-color: #0087ff\">Dense</span>)                 │ (<span style=\"color: #00d7ff; text-decoration-color: #00d7ff\">None</span>, <span style=\"color: #00af00; text-decoration-color: #00af00\">17</span>)             │        <span style=\"color: #00af00; text-decoration-color: #00af00\">34,833</span> │\n",
       "└─────────────────────────────────┴────────────────────────┴───────────────┘\n",
       "</pre>\n"
      ],
      "text/plain": [
       "┏━━━━━━━━━━━━━━━━━━━━━━━━━━━━━━━━━┳━━━━━━━━━━━━━━━━━━━━━━━━┳━━━━━━━━━━━━━━━┓\n",
       "┃\u001b[1m \u001b[0m\u001b[1mLayer (type)                   \u001b[0m\u001b[1m \u001b[0m┃\u001b[1m \u001b[0m\u001b[1mOutput Shape          \u001b[0m\u001b[1m \u001b[0m┃\u001b[1m \u001b[0m\u001b[1m      Param #\u001b[0m\u001b[1m \u001b[0m┃\n",
       "┡━━━━━━━━━━━━━━━━━━━━━━━━━━━━━━━━━╇━━━━━━━━━━━━━━━━━━━━━━━━╇━━━━━━━━━━━━━━━┩\n",
       "│ dense_1 (\u001b[38;5;33mDense\u001b[0m)                 │ (\u001b[38;5;45mNone\u001b[0m, \u001b[38;5;34m17\u001b[0m)             │        \u001b[38;5;34m34,833\u001b[0m │\n",
       "└─────────────────────────────────┴────────────────────────┴───────────────┘\n"
      ]
     },
     "metadata": {},
     "output_type": "display_data"
    },
    {
     "data": {
      "text/html": [
       "<pre style=\"white-space:pre;overflow-x:auto;line-height:normal;font-family:Menlo,'DejaVu Sans Mono',consolas,'Courier New',monospace\"><span style=\"font-weight: bold\"> Total params: </span><span style=\"color: #00af00; text-decoration-color: #00af00\">34,833</span> (136.07 KB)\n",
       "</pre>\n"
      ],
      "text/plain": [
       "\u001b[1m Total params: \u001b[0m\u001b[38;5;34m34,833\u001b[0m (136.07 KB)\n"
      ]
     },
     "metadata": {},
     "output_type": "display_data"
    },
    {
     "data": {
      "text/html": [
       "<pre style=\"white-space:pre;overflow-x:auto;line-height:normal;font-family:Menlo,'DejaVu Sans Mono',consolas,'Courier New',monospace\"><span style=\"font-weight: bold\"> Trainable params: </span><span style=\"color: #00af00; text-decoration-color: #00af00\">34,833</span> (136.07 KB)\n",
       "</pre>\n"
      ],
      "text/plain": [
       "\u001b[1m Trainable params: \u001b[0m\u001b[38;5;34m34,833\u001b[0m (136.07 KB)\n"
      ]
     },
     "metadata": {},
     "output_type": "display_data"
    },
    {
     "data": {
      "text/html": [
       "<pre style=\"white-space:pre;overflow-x:auto;line-height:normal;font-family:Menlo,'DejaVu Sans Mono',consolas,'Courier New',monospace\"><span style=\"font-weight: bold\"> Non-trainable params: </span><span style=\"color: #00af00; text-decoration-color: #00af00\">0</span> (0.00 B)\n",
       "</pre>\n"
      ],
      "text/plain": [
       "\u001b[1m Non-trainable params: \u001b[0m\u001b[38;5;34m0\u001b[0m (0.00 B)\n"
      ]
     },
     "metadata": {},
     "output_type": "display_data"
    }
   ],
   "source": [
    "model = Sequential([\n",
    "    Dense(num_classes, activation='softmax', input_shape=(train_features.shape[1],),\n",
    "          kernel_regularizer=tf.keras.regularizers.l2(0.001))\n",
    "])\n",
    "\n",
    "model.compile(\n",
    "    optimizer=Adam(learning_rate=0.001),\n",
    "    loss='sparse_categorical_crossentropy',\n",
    "    metrics=['accuracy']\n",
    ")\n",
    "\n",
    "model.summary()"
   ]
  },
  {
   "cell_type": "markdown",
   "id": "de455b483a341dd",
   "metadata": {
    "collapsed": false
   },
   "source": [
    "### Train the model"
   ]
  },
  {
   "cell_type": "code",
   "execution_count": 31,
   "id": "c73f381f4f7c8a0b",
   "metadata": {
    "ExecuteTime": {
     "end_time": "2025-03-01T21:58:17.936022800Z",
     "start_time": "2025-03-01T21:58:17.681902800Z"
    },
    "collapsed": false
   },
   "outputs": [
    {
     "name": "stdout",
     "output_type": "stream",
     "text": [
      "Train labels dtype: int64\n",
      "First few labels: [14  4  6  2  3]\n",
      "Class weight dictionary: {np.int64(0): np.float64(1.7829095832706485), np.int64(1): np.float64(1.2448529411764706), np.int64(2): np.float64(1.0841643033574238), np.int64(3): np.float64(0.9344740577196026), np.int64(4): np.float64(1.2791149487317863), np.int64(5): np.float64(0.350310375406444), np.int64(6): np.float64(0.4650551347957462), np.int64(7): np.float64(0.9307311709730621), np.int64(8): np.float64(0.7369108319860714), np.int64(9): np.float64(0.839900779588944), np.int64(10): np.float64(1.5736290001327844), np.int64(11): np.float64(2.6915739268680445), np.int64(12): np.float64(2.0624782457361643), np.int64(13): np.float64(2.9290657439446366), np.int64(14): np.float64(2.733794694348328), np.int64(15): np.float64(0.8574632805151581), np.int64(16): np.float64(1.1503591535624151)}\n"
     ]
    }
   ],
   "source": [
    "# Make sure all labels are properly encoded as integers\n",
    "print(\"Train labels dtype:\", train_labels.dtype)\n",
    "print(\"First few labels:\", train_labels[:5])\n",
    "\n",
    "# Compute class weights with the encoded integer labels\n",
    "class_weights = compute_class_weight('balanced', classes=np.unique(train_labels), y=train_labels)\n",
    "class_weight_dict = dict(zip(np.unique(train_labels), class_weights))\n",
    "\n",
    "# Check the class weight dictionary\n",
    "print(\"Class weight dictionary:\", class_weight_dict)"
   ]
  },
  {
   "cell_type": "code",
   "execution_count": 32,
   "id": "f899eb1e92f85316",
   "metadata": {
    "ExecuteTime": {
     "end_time": "2025-03-01T21:58:25.524830800Z",
     "start_time": "2025-03-01T21:58:17.698132100Z"
    },
    "collapsed": false
   },
   "outputs": [
    {
     "name": "stdout",
     "output_type": "stream",
     "text": [
      "Training the model...\n",
      "Epoch 1/30\n",
      "\u001b[1m186/186\u001b[0m \u001b[32m━━━━━━━━━━━━━━━━━━━━\u001b[0m\u001b[37m\u001b[0m \u001b[1m1s\u001b[0m 3ms/step - accuracy: 0.2743 - loss: 2.3560 - val_accuracy: 0.4732 - val_loss: 1.6461\n",
      "Epoch 2/30\n",
      "\u001b[1m186/186\u001b[0m \u001b[32m━━━━━━━━━━━━━━━━━━━━\u001b[0m\u001b[37m\u001b[0m \u001b[1m1s\u001b[0m 3ms/step - accuracy: 0.5547 - loss: 1.2272 - val_accuracy: 0.5062 - val_loss: 1.5148\n",
      "Epoch 3/30\n",
      "\u001b[1m186/186\u001b[0m \u001b[32m━━━━━━━━━━━━━━━━━━━━\u001b[0m\u001b[37m\u001b[0m \u001b[1m0s\u001b[0m 2ms/step - accuracy: 0.6373 - loss: 0.9693 - val_accuracy: 0.5609 - val_loss: 1.3898\n",
      "Epoch 4/30\n",
      "\u001b[1m186/186\u001b[0m \u001b[32m━━━━━━━━━━━━━━━━━━━━\u001b[0m\u001b[37m\u001b[0m \u001b[1m1s\u001b[0m 3ms/step - accuracy: 0.7033 - loss: 0.8107 - val_accuracy: 0.5663 - val_loss: 1.3762\n",
      "Epoch 5/30\n",
      "\u001b[1m186/186\u001b[0m \u001b[32m━━━━━━━━━━━━━━━━━━━━\u001b[0m\u001b[37m\u001b[0m \u001b[1m0s\u001b[0m 2ms/step - accuracy: 0.7517 - loss: 0.7050 - val_accuracy: 0.5876 - val_loss: 1.3477\n",
      "Epoch 6/30\n",
      "\u001b[1m186/186\u001b[0m \u001b[32m━━━━━━━━━━━━━━━━━━━━\u001b[0m\u001b[37m\u001b[0m \u001b[1m0s\u001b[0m 2ms/step - accuracy: 0.7762 - loss: 0.6286 - val_accuracy: 0.5849 - val_loss: 1.3626\n",
      "Epoch 7/30\n",
      "\u001b[1m186/186\u001b[0m \u001b[32m━━━━━━━━━━━━━━━━━━━━\u001b[0m\u001b[37m\u001b[0m \u001b[1m0s\u001b[0m 2ms/step - accuracy: 0.8011 - loss: 0.5759 - val_accuracy: 0.5984 - val_loss: 1.3312\n",
      "Epoch 8/30\n",
      "\u001b[1m186/186\u001b[0m \u001b[32m━━━━━━━━━━━━━━━━━━━━\u001b[0m\u001b[37m\u001b[0m \u001b[1m0s\u001b[0m 2ms/step - accuracy: 0.8261 - loss: 0.5298 - val_accuracy: 0.5974 - val_loss: 1.3297\n",
      "Epoch 9/30\n",
      "\u001b[1m186/186\u001b[0m \u001b[32m━━━━━━━━━━━━━━━━━━━━\u001b[0m\u001b[37m\u001b[0m \u001b[1m1s\u001b[0m 3ms/step - accuracy: 0.8392 - loss: 0.5018 - val_accuracy: 0.5930 - val_loss: 1.3704\n",
      "Epoch 10/30\n",
      "\u001b[1m186/186\u001b[0m \u001b[32m━━━━━━━━━━━━━━━━━━━━\u001b[0m\u001b[37m\u001b[0m \u001b[1m0s\u001b[0m 2ms/step - accuracy: 0.8531 - loss: 0.4725 - val_accuracy: 0.6085 - val_loss: 1.3393\n",
      "Epoch 11/30\n",
      "\u001b[1m186/186\u001b[0m \u001b[32m━━━━━━━━━━━━━━━━━━━━\u001b[0m\u001b[37m\u001b[0m \u001b[1m0s\u001b[0m 2ms/step - accuracy: 0.8599 - loss: 0.4516 - val_accuracy: 0.6011 - val_loss: 1.3598\n",
      "Epoch 12/30\n",
      "\u001b[1m186/186\u001b[0m \u001b[32m━━━━━━━━━━━━━━━━━━━━\u001b[0m\u001b[37m\u001b[0m \u001b[1m0s\u001b[0m 2ms/step - accuracy: 0.8711 - loss: 0.4373 - val_accuracy: 0.6112 - val_loss: 1.3529\n",
      "Epoch 13/30\n",
      "\u001b[1m186/186\u001b[0m \u001b[32m━━━━━━━━━━━━━━━━━━━━\u001b[0m\u001b[37m\u001b[0m \u001b[1m1s\u001b[0m 3ms/step - accuracy: 0.8754 - loss: 0.4315 - val_accuracy: 0.6207 - val_loss: 1.3680\n"
     ]
    }
   ],
   "source": [
    "print(\"Training the model...\")\n",
    "# Define the early stopping callback before training the model\n",
    "early_stopping = tf.keras.callbacks.EarlyStopping(\n",
    "    monitor='val_loss',  # Monitor validation loss\n",
    "    patience=5,  # Number of epochs with no improvement after which training will stop\n",
    "    restore_best_weights=True  # Restore model weights from the epoch with the best value of the monitored quantity\n",
    ")\n",
    "\n",
    "history = model.fit(\n",
    "    train_features_scaled, train_labels,\n",
    "    validation_data=(val_features_scaled, val_labels),\n",
    "    epochs=30,\n",
    "    batch_size=batch_size,\n",
    "    class_weight=class_weight_dict,\n",
    "    callbacks=[early_stopping]\n",
    ")"
   ]
  },
  {
   "cell_type": "markdown",
   "id": "d89e27609865dd42",
   "metadata": {
    "collapsed": false
   },
   "source": [
    "### Save the model"
   ]
  },
  {
   "cell_type": "code",
   "execution_count": 33,
   "id": "eebb79a76147a427",
   "metadata": {
    "ExecuteTime": {
     "end_time": "2025-03-01T21:58:25.604203700Z",
     "start_time": "2025-03-01T21:58:25.524830800Z"
    },
    "collapsed": false
   },
   "outputs": [
    {
     "name": "stderr",
     "output_type": "stream",
     "text": [
      "WARNING:absl:You are saving your model as an HDF5 file via `model.save()` or `keras.saving.save_model(model)`. This file format is considered legacy. We recommend using instead the native Keras format, e.g. `model.save('my_model.keras')` or `keras.saving.save_model(model, 'my_model.keras')`. \n"
     ]
    },
    {
     "name": "stdout",
     "output_type": "stream",
     "text": [
      "Model saved successfully.\n"
     ]
    }
   ],
   "source": [
    "model.save('softmax_classifier.h5')\n",
    "print(\"Model saved successfully.\")"
   ]
  },
  {
   "cell_type": "markdown",
   "id": "dccf170527cec3ea",
   "metadata": {
    "collapsed": false
   },
   "source": [
    "### Evaluate the model"
   ]
  },
  {
   "cell_type": "code",
   "execution_count": 34,
   "id": "ea517ee225cddf77",
   "metadata": {
    "ExecuteTime": {
     "end_time": "2025-03-01T21:58:25.982537900Z",
     "start_time": "2025-03-01T21:58:25.572294200Z"
    },
    "collapsed": false
   },
   "outputs": [
    {
     "name": "stdout",
     "output_type": "stream",
     "text": [
      "Evaluating the model on test data...\n",
      "\u001b[1m117/117\u001b[0m \u001b[32m━━━━━━━━━━━━━━━━━━━━\u001b[0m\u001b[37m\u001b[0m \u001b[1m0s\u001b[0m 1ms/step - accuracy: 0.3087 - loss: 2.4255\n",
      "Test Loss: 2.6082\n",
      "Test Accuracy: 0.2824\n"
     ]
    }
   ],
   "source": [
    "print(\"Evaluating the model on test data...\")\n",
    "test_loss, test_acc = model.evaluate(test_features_scaled, test_labels)\n",
    "print(f\"Test Loss: {test_loss:.4f}\")\n",
    "print(f\"Test Accuracy: {test_acc:.4f}\")"
   ]
  },
  {
   "cell_type": "markdown",
   "id": "95b430298f60e870",
   "metadata": {
    "collapsed": false
   },
   "source": [
    "### Get predictions"
   ]
  },
  {
   "cell_type": "code",
   "execution_count": 35,
   "id": "b63deba842304f8",
   "metadata": {
    "ExecuteTime": {
     "end_time": "2025-03-01T21:58:26.327582200Z",
     "start_time": "2025-03-01T21:58:25.977499Z"
    },
    "collapsed": false
   },
   "outputs": [
    {
     "name": "stdout",
     "output_type": "stream",
     "text": [
      "\u001b[1m117/117\u001b[0m \u001b[32m━━━━━━━━━━━━━━━━━━━━\u001b[0m\u001b[37m\u001b[0m \u001b[1m0s\u001b[0m 803us/step\n"
     ]
    }
   ],
   "source": [
    "test_predictions = model.predict(test_features_scaled)\n",
    "test_pred_classes = np.argmax(test_predictions, axis=1)"
   ]
  },
  {
   "cell_type": "markdown",
   "id": "1d4f82fb12952ae3",
   "metadata": {
    "collapsed": false
   },
   "source": [
    "### Visualize results"
   ]
  },
  {
   "cell_type": "code",
   "execution_count": 36,
   "id": "97f1fa90dc78ca31",
   "metadata": {
    "ExecuteTime": {
     "end_time": "2025-03-01T21:58:28.242590100Z",
     "start_time": "2025-03-01T21:58:26.327582200Z"
    },
    "collapsed": false
   },
   "outputs": [
    {
     "data": {
      "image/png": "[encoded data removed]",
      "text/plain": [
       "<Figure size 1200x400 with 2 Axes>"
      ]
     },
     "metadata": {},
     "output_type": "display_data"
    },
    {
     "data": {
      "image/png": "[encoded data removed]",
      "text/plain": [
       "<Figure size 1000x800 with 2 Axes>"
      ]
     },
     "metadata": {},
     "output_type": "display_data"
    }
   ],
   "source": [
    "# Plot training history\n",
    "plt.figure(figsize=(12, 4))\n",
    "\n",
    "plt.subplot(1, 2, 1)\n",
    "plt.plot(history.history['accuracy'], label='Train Accuracy')\n",
    "plt.plot(history.history['val_accuracy'], label='Validation Accuracy')\n",
    "plt.xlabel('Epoch')\n",
    "plt.ylabel('Accuracy')\n",
    "plt.legend()\n",
    "plt.title('Training and Validation Accuracy')\n",
    "\n",
    "plt.subplot(1, 2, 2)\n",
    "plt.plot(history.history['loss'], label='Train Loss')\n",
    "plt.plot(history.history['val_loss'], label='Validation Loss')\n",
    "plt.xlabel('Epoch')\n",
    "plt.ylabel('Loss')\n",
    "plt.legend()\n",
    "plt.title('Training and Validation Loss')\n",
    "\n",
    "plt.tight_layout()\n",
    "plt.savefig('training_history.png')\n",
    "plt.show()\n",
    "\n",
    "# Confusion matrix\n",
    "plt.figure(figsize=(10, 8))\n",
    "cm = confusion_matrix(test_labels, test_pred_classes)\n",
    "sns.heatmap(cm, annot=True, fmt='d', cmap='Blues',\n",
    "            xticklabels=combined_encoder.classes_,\n",
    "            yticklabels=combined_encoder.classes_)\n",
    "plt.xlabel('Predicted')\n",
    "plt.ylabel('True')\n",
    "plt.title('Confusion Matrix')\n",
    "plt.tight_layout()\n",
    "plt.savefig('confusion_matrix.png')\n",
    "plt.show()"
   ]
  },
  {
   "cell_type": "markdown",
   "id": "dee3d63459bc60c1",
   "metadata": {
    "collapsed": false
   },
   "source": [
    "### Classification report"
   ]
  },
  {
   "cell_type": "code",
   "execution_count": 37,
   "id": "e8041a6f4ba05f18",
   "metadata": {
    "ExecuteTime": {
     "end_time": "2025-03-01T21:58:28.417847600Z",
     "start_time": "2025-03-01T21:58:28.195020Z"
    },
    "collapsed": false
   },
   "outputs": [
    {
     "name": "stdout",
     "output_type": "stream",
     "text": [
      "Classification Report:\n",
      "              precision    recall  f1-score   support\n",
      "\n",
      "    (0, 2)_f       0.25      0.09      0.14       192\n",
      "    (0, 2)_m       0.02      0.57      0.04         7\n",
      "    (0, 2)_u       0.71      0.54      0.62       284\n",
      "  (15, 20)_f       0.13      0.13      0.13       152\n",
      "  (15, 20)_m       0.09      0.18      0.12        73\n",
      "  (25, 32)_f       0.36      0.26      0.30       558\n",
      "  (25, 32)_m       0.47      0.39      0.43       478\n",
      "  (38, 43)_f       0.24      0.25      0.25       297\n",
      "  (38, 43)_m       0.21      0.28      0.24       246\n",
      "    (4, 6)_f       0.22      0.30      0.25       193\n",
      "    (4, 6)_m       0.59      0.31      0.41       377\n",
      "  (48, 53)_f       0.08      0.08      0.08       145\n",
      "  (48, 53)_m       0.14      0.24      0.18       113\n",
      " (60, 100)_f       0.25      0.20      0.22       137\n",
      " (60, 100)_m       0.31      0.33      0.32       137\n",
      "   (8, 23)_f       0.19      0.25      0.22       174\n",
      "   (8, 23)_m       0.16      0.22      0.19       166\n",
      "\n",
      "    accuracy                           0.28      3729\n",
      "   macro avg       0.26      0.27      0.24      3729\n",
      "weighted avg       0.34      0.28      0.30      3729\n",
      "\n"
     ]
    }
   ],
   "source": [
    "print(\"Classification Report:\")\n",
    "print(classification_report(test_labels, test_pred_classes, target_names=combined_encoder.classes_))\n"
   ]
  }
 ],
 "metadata": {
  "kernelspec": {
   "display_name": "venv",
   "language": "python",
   "name": "python3"
  },
  "language_info": {
   "codemirror_mode": {
    "name": "ipython",
    "version": 3
   },
   "file_extension": ".py",
   "mimetype": "text/x-python",
   "name": "python",
   "nbconvert_exporter": "python",
   "pygments_lexer": "ipython3",
   "version": "3.10.10"
  }
 },
 "nbformat": 4,
 "nbformat_minor": 5
}
