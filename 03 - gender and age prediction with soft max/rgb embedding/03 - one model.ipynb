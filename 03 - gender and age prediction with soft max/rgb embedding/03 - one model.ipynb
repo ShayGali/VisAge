{
 "cells": [
  {
   "cell_type": "code",
   "execution_count": 1,
   "outputs": [],
   "source": [
    "from sklearn.utils.class_weight import compute_class_weight\n",
    "import numpy as np\n",
    "from sklearn.preprocessing import LabelEncoder, StandardScaler\n",
    "from tensorflow.keras.models import Sequential\n",
    "from tensorflow.keras.layers import Dense, Dropout, BatchNormalization\n",
    "from tensorflow.keras.optimizers import Adam\n",
    "from sklearn.metrics import classification_report, confusion_matrix\n",
    "import matplotlib.pyplot as plt\n",
    "import seaborn as sns\n",
    "from img2vec import grayscale2emb\n",
    "import math\n",
    "import os\n",
    "import pandas as pd\n",
    "import joblib\n",
    "import tensorflow as tf\n"
   ],
   "metadata": {
    "collapsed": false,
    "ExecuteTime": {
     "end_time": "2025-03-01T21:37:54.113030Z",
     "start_time": "2025-03-01T21:37:39.893038700Z"
    }
   },
   "id": "845b486670efa827"
  },
  {
   "cell_type": "markdown",
   "source": [
    "### check for GPU"
   ],
   "metadata": {
    "collapsed": false
   },
   "id": "82306775cf3a29c1"
  },
  {
   "cell_type": "code",
   "execution_count": 2,
   "outputs": [
    {
     "name": "stdout",
     "output_type": "stream",
     "text": [
      "TensorFlow version: 2.18.0\n",
      "Intel GPU available: []\n"
     ]
    }
   ],
   "source": [
    "# Check TensorFlow version\n",
    "print(\"TensorFlow version:\", tf.__version__)\n",
    "\n",
    "# Check if Intel GPU is available\n",
    "print(\"Intel GPU available:\", tf.config.list_physical_devices('GPU'))\n",
    "\n",
    "# Force TensorFlow to use Intel GPU\n",
    "os.environ['TF_FORCE_GPU_ALLOW_GROWTH'] = 'true'\n",
    "os.environ['MKLDNN_VERBOSE'] = '1'  # Enable Intel MKL-DNN verbose mode\n",
    "os.environ['TF_ENABLE_ONEDNN_OPTS'] = '1'  # Enable Intel oneDNN optimizations\n",
    "# Set memory growth\n",
    "gpus = tf.config.list_physical_devices('GPU')\n",
    "if gpus:\n",
    "    try:\n",
    "        for gpu in gpus:\n",
    "            tf.config.experimental.set_memory_growth(gpu, True)\n",
    "        print(\"Memory growth enabled\")\n",
    "    except RuntimeError as e:\n",
    "        print(e)"
   ],
   "metadata": {
    "collapsed": false,
    "ExecuteTime": {
     "end_time": "2025-03-01T21:37:54.128739100Z",
     "start_time": "2025-03-01T21:37:54.113030Z"
    }
   },
   "id": "206d6d9a96bd0793"
  },
  {
   "cell_type": "code",
   "execution_count": 3,
   "id": "initial_id",
   "metadata": {
    "collapsed": true,
    "ExecuteTime": {
     "end_time": "2025-03-01T21:37:54.176902500Z",
     "start_time": "2025-03-01T21:37:54.128739100Z"
    }
   },
   "outputs": [],
   "source": [
    "# Define the batch size\n",
    "batch_size = 64"
   ]
  },
  {
   "cell_type": "markdown",
   "source": [
    "### Read the data"
   ],
   "metadata": {
    "collapsed": false
   },
   "id": "ef0468300ae56a68"
  },
  {
   "cell_type": "code",
   "execution_count": 4,
   "outputs": [],
   "source": [
    "train_data = pd.read_csv(os.path.join('..', '..', 'data', 'train.csv'))\n",
    "val_data = pd.read_csv(os.path.join('..', '..', 'data', 'val.csv'))\n",
    "test_data = pd.read_csv(os.path.join('..', '..', 'data', 'test.csv'))"
   ],
   "metadata": {
    "collapsed": false,
    "ExecuteTime": {
     "end_time": "2025-03-01T21:37:54.246103800Z",
     "start_time": "2025-03-01T21:37:54.144644400Z"
    }
   },
   "id": "4f0f6a844c8192c0"
  },
  {
   "cell_type": "markdown",
   "source": [
    "### Combine the age and gender columns"
   ],
   "metadata": {
    "collapsed": false
   },
   "id": "6a145eff4280fb90"
  },
  {
   "cell_type": "code",
   "execution_count": 5,
   "outputs": [],
   "source": [
    "train_data['combined_label'] = train_data['age'] + '_' + train_data['gender']\n",
    "val_data['combined_label'] = val_data['age'] + '_' + val_data['gender']\n",
    "test_data['combined_label'] = test_data['age'] + '_' + test_data['gender']"
   ],
   "metadata": {
    "collapsed": false,
    "ExecuteTime": {
     "end_time": "2025-03-01T21:37:54.276615100Z",
     "start_time": "2025-03-01T21:37:54.247410200Z"
    }
   },
   "id": "5b27f3de4e251180"
  },
  {
   "cell_type": "markdown",
   "source": [
    "### remove records with rear combinations"
   ],
   "metadata": {
    "collapsed": false
   },
   "id": "d04de1c73eef1899"
  },
  {
   "cell_type": "code",
   "execution_count": 6,
   "outputs": [
    {
     "name": "stdout",
     "output_type": "stream",
     "text": [
      "Rare combinations: ['(25, 32)_u', '(8, 23)_u', '(60, 100)_u']\n",
      "Combined encoder created and saved successfully.\n",
      "Number of combined classes: 17\n",
      "Combined classes: ['(0, 2)_f' '(0, 2)_m' '(0, 2)_u' '(15, 20)_f' '(15, 20)_m' '(25, 32)_f'\n",
      " '(25, 32)_m' '(38, 43)_f' '(38, 43)_m' '(4, 6)_f' '(4, 6)_m' '(48, 53)_f'\n",
      " '(48, 53)_m' '(60, 100)_f' '(60, 100)_m' '(8, 23)_f' '(8, 23)_m']\n"
     ]
    },
    {
     "name": "stderr",
     "output_type": "stream",
     "text": [
      "C:\\Users\\shayg\\AppData\\Local\\Temp\\ipykernel_19628\\266600622.py:30: SettingWithCopyWarning: \n",
      "A value is trying to be set on a copy of a slice from a DataFrame.\n",
      "Try using .loc[row_indexer,col_indexer] = value instead\n",
      "\n",
      "See the caveats in the documentation: https://pandas.pydata.org/pandas-docs/stable/user_guide/indexing.html#returning-a-view-versus-a-copy\n",
      "  train_data_filtered['combined_label_encoded'] = combined_encoder.fit_transform(\n"
     ]
    }
   ],
   "source": [
    "# Check if encoder already exists\n",
    "if os.path.exists('combined_encoder.pkl'):\n",
    "    combined_encoder = joblib.load('combined_encoder.pkl')\n",
    "    print(\"Combined encoder loaded successfully.\")\n",
    "\n",
    "    # Filter data to include only classes the encoder knows\n",
    "    train_data_filtered = train_data[train_data['combined_label'].isin(combined_encoder.classes_)]\n",
    "    val_data_filtered = val_data[val_data['combined_label'].isin(combined_encoder.classes_)]\n",
    "    test_data_filtered = test_data[test_data['combined_label'].isin(combined_encoder.classes_)]\n",
    "\n",
    "    # Transform the labels using the loaded encoder\n",
    "    train_data_filtered['combined_label_encoded'] = combined_encoder.transform(train_data_filtered['combined_label'])\n",
    "    val_data_filtered['combined_label_encoded'] = combined_encoder.transform(val_data_filtered['combined_label'])\n",
    "    test_data_filtered['combined_label_encoded'] = combined_encoder.transform(test_data_filtered['combined_label'])\n",
    "else:\n",
    "    # Count frequency of each combined label\n",
    "    label_counts = train_data['combined_label'].value_counts()\n",
    "\n",
    "    # Find rare combinations (e.g., occurring less than 5 times)\n",
    "    rare_labels = label_counts[label_counts < 5].index.tolist()\n",
    "    print(f\"Rare combinations: {rare_labels}\")\n",
    "\n",
    "    # Remove rare combinations from all datasets\n",
    "    train_data_filtered = train_data[~train_data['combined_label'].isin(rare_labels)]\n",
    "    val_data_filtered = val_data[~val_data['combined_label'].isin(rare_labels)]\n",
    "    test_data_filtered = test_data[~test_data['combined_label'].isin(rare_labels)]\n",
    "\n",
    "    # Create and fit a new encoder\n",
    "    combined_encoder = LabelEncoder()\n",
    "    train_data_filtered['combined_label_encoded'] = combined_encoder.fit_transform(\n",
    "        train_data_filtered['combined_label'])\n",
    "\n",
    "    # Ensure validation and test sets only contain classes seen during training\n",
    "    val_data_filtered = val_data_filtered[\n",
    "        val_data_filtered['combined_label'].isin(train_data_filtered['combined_label'])]\n",
    "    test_data_filtered = test_data_filtered[\n",
    "        test_data_filtered['combined_label'].isin(train_data_filtered['combined_label'])]\n",
    "\n",
    "    val_data_filtered['combined_label_encoded'] = combined_encoder.transform(val_data_filtered['combined_label'])\n",
    "    test_data_filtered['combined_label_encoded'] = combined_encoder.transform(test_data_filtered['combined_label'])\n",
    "\n",
    "    # Save the encoder\n",
    "    joblib.dump(combined_encoder, 'combined_encoder.pkl')\n",
    "    print(\"Combined encoder created and saved successfully.\")\n",
    "\n",
    "num_classes = len(combined_encoder.classes_)\n",
    "print(f\"Number of combined classes: {num_classes}\")\n",
    "print(\"Combined classes:\", combined_encoder.classes_)"
   ],
   "metadata": {
    "collapsed": false,
    "ExecuteTime": {
     "end_time": "2025-03-01T21:37:54.353749800Z",
     "start_time": "2025-03-01T21:37:54.275644Z"
    }
   },
   "id": "72bb208874ee438b"
  },
  {
   "cell_type": "markdown",
   "source": [
    "### Add image paths"
   ],
   "metadata": {
    "collapsed": false
   },
   "id": "a634a085d5f03e9a"
  },
  {
   "cell_type": "code",
   "execution_count": 7,
   "outputs": [],
   "source": [
    "def construct_img_path(row):\n",
    "    return os.path.join(\"..\", \"..\", \"data\", \"faces\", row['user_id'],\n",
    "                        \"coarse_tilt_aligned_face.\" + str(row['face_id']) + \".\" + row['original_image'])\n",
    "\n",
    "\n",
    "train_data['img_path'] = train_data.apply(construct_img_path, axis=1)\n",
    "val_data['img_path'] = val_data.apply(construct_img_path, axis=1)\n",
    "test_data['img_path'] = test_data.apply(construct_img_path, axis=1)\n"
   ],
   "metadata": {
    "collapsed": false,
    "ExecuteTime": {
     "end_time": "2025-03-01T21:37:54.514777500Z",
     "start_time": "2025-03-01T21:37:54.311505Z"
    }
   },
   "id": "607148ae4bcf957e"
  },
  {
   "cell_type": "markdown",
   "source": [
    "### Check if images exist"
   ],
   "metadata": {
    "collapsed": false
   },
   "id": "d016a8227abffe3e"
  },
  {
   "cell_type": "code",
   "execution_count": 8,
   "outputs": [],
   "source": [
    "train_data['img_exists'] = train_data['img_path'].apply(os.path.exists)\n",
    "val_data['img_exists'] = val_data['img_path'].apply(os.path.exists)\n",
    "test_data['img_exists'] = test_data['img_path'].apply(os.path.exists)"
   ],
   "metadata": {
    "collapsed": false,
    "ExecuteTime": {
     "end_time": "2025-03-01T21:37:55.339827900Z",
     "start_time": "2025-03-01T21:37:54.518069400Z"
    }
   },
   "id": "41aeddb8c258903d"
  },
  {
   "cell_type": "markdown",
   "source": [
    "### Filter out any rows where the image doesn't exist"
   ],
   "metadata": {
    "collapsed": false
   },
   "id": "2da31554c89bfe8f"
  },
  {
   "cell_type": "code",
   "execution_count": 10,
   "outputs": [],
   "source": [
    "train_data_filtered = train_data_filtered.merge(\n",
    "    train_data[['user_id', 'face_id', 'original_image', 'img_path', 'img_exists']], \n",
    "    on=['user_id', 'face_id', 'original_image']\n",
    ")\n",
    "\n",
    "val_data_filtered = val_data_filtered.merge(\n",
    "    val_data[['user_id', 'face_id', 'original_image', 'img_path', 'img_exists']], \n",
    "    on=['user_id', 'face_id', 'original_image']\n",
    ")\n",
    "\n",
    "test_data_filtered = test_data_filtered.merge(\n",
    "    test_data[['user_id', 'face_id', 'original_image', 'img_path', 'img_exists']], \n",
    "    on=['user_id', 'face_id', 'original_image']\n",
    ")\n",
    "\n",
    "# Now filter only those that exist\n",
    "train_data_filtered = train_data_filtered[train_data_filtered['img_exists'] == True]\n",
    "val_data_filtered = val_data_filtered[val_data_filtered['img_exists'] == True]\n",
    "test_data_filtered = test_data_filtered[test_data_filtered['img_exists'] == True]"
   ],
   "metadata": {
    "collapsed": false,
    "ExecuteTime": {
     "end_time": "2025-03-01T21:39:05.532951700Z",
     "start_time": "2025-03-01T21:39:05.454686500Z"
    }
   },
   "id": "7ab57cead8964597"
  },
  {
   "cell_type": "markdown",
   "source": [
    "### Extract image paths and labels"
   ],
   "metadata": {
    "collapsed": false
   },
   "id": "e407f9502900def5"
  },
  {
   "cell_type": "code",
   "execution_count": 11,
   "outputs": [],
   "source": [
    "train_image_paths = train_data_filtered['img_path'].tolist()\n",
    "train_labels = train_data_filtered['combined_label_encoded'].values  # Use encoded values\n",
    "\n",
    "val_image_paths = val_data_filtered['img_path'].tolist()\n",
    "val_labels = val_data_filtered['combined_label_encoded'].values  # Use encoded values\n",
    "\n",
    "test_image_paths = test_data_filtered['img_path'].tolist()\n",
    "test_labels = test_data_filtered['combined_label_encoded'].values  # Use encoded values"
   ],
   "metadata": {
    "collapsed": false,
    "ExecuteTime": {
     "end_time": "2025-03-01T21:39:08.093820400Z",
     "start_time": "2025-03-01T21:39:08.087756800Z"
    }
   },
   "id": "51a490149625d986"
  },
  {
   "cell_type": "markdown",
   "source": [
    "### Define function that process features in batches and store them to avoid recomputation"
   ],
   "metadata": {
    "collapsed": false
   },
   "id": "ee9693e8577e8b82"
  },
  {
   "cell_type": "code",
   "execution_count": 12,
   "outputs": [],
   "source": [
    "def preprocess_and_save_features(image_paths, output_file, batch_size=64):\n",
    "    if os.path.exists(output_file):\n",
    "        print(f\"Loading pre-processed features from {output_file}\")\n",
    "        return np.load(output_file)\n",
    "\n",
    "    print(f\"Processing {len(image_paths)} images and saving to {output_file}\")\n",
    "    all_features = []\n",
    "\n",
    "    for i in range(0, len(image_paths), batch_size):\n",
    "        batch_paths = image_paths[i:i + batch_size]\n",
    "        print(f\"Processing batch {i // batch_size + 1}/{math.ceil(len(image_paths) / batch_size)}\")\n",
    "        batch_features = grayscale2emb(batch_paths)\n",
    "        all_features.append(batch_features)\n",
    "\n",
    "    all_features = np.vstack(all_features)\n",
    "    np.save(output_file, all_features)\n",
    "    return all_features"
   ],
   "metadata": {
    "collapsed": false,
    "ExecuteTime": {
     "end_time": "2025-03-01T21:39:09.179349800Z",
     "start_time": "2025-03-01T21:39:09.152241300Z"
    }
   },
   "id": "cad2945b67e5b9c5"
  },
  {
   "cell_type": "markdown",
   "source": [
    "### Process and save features"
   ],
   "metadata": {
    "collapsed": false
   },
   "id": "43dcace2616adc9d"
  },
  {
   "cell_type": "code",
   "execution_count": 13,
   "outputs": [
    {
     "name": "stdout",
     "output_type": "stream",
     "text": [
      "Processing 11851 images and saving to train_features.npy\n",
      "Processing batch 1/186\n",
      "Processing batch 2/186\n",
      "Processing batch 3/186\n",
      "Processing batch 4/186\n",
      "Processing batch 5/186\n",
      "Processing batch 6/186\n",
      "Processing batch 7/186\n",
      "Processing batch 8/186\n",
      "Processing batch 9/186\n",
      "Processing batch 10/186\n",
      "Processing batch 11/186\n",
      "Processing batch 12/186\n",
      "Processing batch 13/186\n",
      "Processing batch 14/186\n",
      "Processing batch 15/186\n",
      "Processing batch 16/186\n",
      "Processing batch 17/186\n",
      "Processing batch 18/186\n",
      "Processing batch 19/186\n",
      "Processing batch 20/186\n",
      "Processing batch 21/186\n",
      "Processing batch 22/186\n",
      "Processing batch 23/186\n",
      "Processing batch 24/186\n",
      "Processing batch 25/186\n",
      "Processing batch 26/186\n",
      "Processing batch 27/186\n",
      "Processing batch 28/186\n",
      "Processing batch 29/186\n",
      "Processing batch 30/186\n",
      "Processing batch 31/186\n",
      "Processing batch 32/186\n",
      "Processing batch 33/186\n",
      "Processing batch 34/186\n",
      "Processing batch 35/186\n",
      "Processing batch 36/186\n",
      "Processing batch 37/186\n",
      "Processing batch 38/186\n",
      "Processing batch 39/186\n",
      "Processing batch 40/186\n",
      "Processing batch 41/186\n",
      "Processing batch 42/186\n",
      "Processing batch 43/186\n",
      "Processing batch 44/186\n",
      "Processing batch 45/186\n",
      "Processing batch 46/186\n",
      "Processing batch 47/186\n",
      "Processing batch 48/186\n",
      "Processing batch 49/186\n",
      "Processing batch 50/186\n",
      "Processing batch 51/186\n",
      "Processing batch 52/186\n",
      "Processing batch 53/186\n",
      "Processing batch 54/186\n",
      "Processing batch 55/186\n",
      "Processing batch 56/186\n",
      "Processing batch 57/186\n",
      "Processing batch 58/186\n",
      "Processing batch 59/186\n",
      "Processing batch 60/186\n",
      "Processing batch 61/186\n",
      "Processing batch 62/186\n",
      "Processing batch 63/186\n",
      "Processing batch 64/186\n",
      "Processing batch 65/186\n",
      "Processing batch 66/186\n",
      "Processing batch 67/186\n",
      "Processing batch 68/186\n",
      "Processing batch 69/186\n",
      "Processing batch 70/186\n",
      "Processing batch 71/186\n",
      "Processing batch 72/186\n",
      "Processing batch 73/186\n",
      "Processing batch 74/186\n",
      "Processing batch 75/186\n",
      "Processing batch 76/186\n",
      "Processing batch 77/186\n",
      "Processing batch 78/186\n",
      "Processing batch 79/186\n",
      "Processing batch 80/186\n",
      "Processing batch 81/186\n",
      "Processing batch 82/186\n",
      "Processing batch 83/186\n",
      "Processing batch 84/186\n",
      "Processing batch 85/186\n",
      "Processing batch 86/186\n",
      "Processing batch 87/186\n",
      "Processing batch 88/186\n",
      "Processing batch 89/186\n",
      "Processing batch 90/186\n",
      "Processing batch 91/186\n",
      "Processing batch 92/186\n",
      "Processing batch 93/186\n",
      "Processing batch 94/186\n",
      "Processing batch 95/186\n",
      "Processing batch 96/186\n",
      "Processing batch 97/186\n",
      "Processing batch 98/186\n",
      "Processing batch 99/186\n",
      "Processing batch 100/186\n",
      "Processing batch 101/186\n",
      "Processing batch 102/186\n",
      "Processing batch 103/186\n",
      "Processing batch 104/186\n",
      "Processing batch 105/186\n",
      "Processing batch 106/186\n",
      "Processing batch 107/186\n",
      "Processing batch 108/186\n",
      "Processing batch 109/186\n",
      "Processing batch 110/186\n",
      "Processing batch 111/186\n",
      "Processing batch 112/186\n",
      "Processing batch 113/186\n",
      "Processing batch 114/186\n",
      "Processing batch 115/186\n",
      "Processing batch 116/186\n",
      "Processing batch 117/186\n",
      "Processing batch 118/186\n",
      "Processing batch 119/186\n",
      "Processing batch 120/186\n",
      "Processing batch 121/186\n",
      "Processing batch 122/186\n",
      "Processing batch 123/186\n",
      "Processing batch 124/186\n",
      "Processing batch 125/186\n",
      "Processing batch 126/186\n",
      "Processing batch 127/186\n",
      "Processing batch 128/186\n",
      "Processing batch 129/186\n",
      "Processing batch 130/186\n",
      "Processing batch 131/186\n",
      "Processing batch 132/186\n",
      "Processing batch 133/186\n",
      "Processing batch 134/186\n",
      "Processing batch 135/186\n",
      "Processing batch 136/186\n",
      "Processing batch 137/186\n",
      "Processing batch 138/186\n",
      "Processing batch 139/186\n",
      "Processing batch 140/186\n",
      "Processing batch 141/186\n",
      "Processing batch 142/186\n",
      "Processing batch 143/186\n",
      "Processing batch 144/186\n",
      "Processing batch 145/186\n",
      "Processing batch 146/186\n",
      "Processing batch 147/186\n",
      "Processing batch 148/186\n",
      "Processing batch 149/186\n",
      "Processing batch 150/186\n",
      "Processing batch 151/186\n",
      "Processing batch 152/186\n",
      "Processing batch 153/186\n",
      "Processing batch 154/186\n",
      "Processing batch 155/186\n",
      "Processing batch 156/186\n",
      "Processing batch 157/186\n",
      "Processing batch 158/186\n",
      "Processing batch 159/186\n",
      "Processing batch 160/186\n",
      "Processing batch 161/186\n",
      "Processing batch 162/186\n",
      "Processing batch 163/186\n",
      "Processing batch 164/186\n",
      "Processing batch 165/186\n",
      "Processing batch 166/186\n",
      "Processing batch 167/186\n",
      "Processing batch 168/186\n",
      "Processing batch 169/186\n",
      "Processing batch 170/186\n",
      "Processing batch 171/186\n",
      "Processing batch 172/186\n",
      "Processing batch 173/186\n",
      "Processing batch 174/186\n",
      "Processing batch 175/186\n",
      "Processing batch 176/186\n",
      "Processing batch 177/186\n",
      "Processing batch 178/186\n",
      "Processing batch 179/186\n",
      "Processing batch 180/186\n",
      "Processing batch 181/186\n",
      "Processing batch 182/186\n",
      "Processing batch 183/186\n",
      "Processing batch 184/186\n",
      "Processing batch 185/186\n",
      "Processing batch 186/186\n",
      "Processing 2963 images and saving to val_features.npy\n",
      "Processing batch 1/47\n",
      "Processing batch 2/47\n",
      "Processing batch 3/47\n",
      "Processing batch 4/47\n",
      "Processing batch 5/47\n",
      "Processing batch 6/47\n",
      "Processing batch 7/47\n",
      "Processing batch 8/47\n",
      "Processing batch 9/47\n",
      "Processing batch 10/47\n",
      "Processing batch 11/47\n",
      "Processing batch 12/47\n",
      "Processing batch 13/47\n",
      "Processing batch 14/47\n",
      "Processing batch 15/47\n",
      "Processing batch 16/47\n",
      "Processing batch 17/47\n",
      "Processing batch 18/47\n",
      "Processing batch 19/47\n",
      "Processing batch 20/47\n",
      "Processing batch 21/47\n",
      "Processing batch 22/47\n",
      "Processing batch 23/47\n",
      "Processing batch 24/47\n",
      "Processing batch 25/47\n",
      "Processing batch 26/47\n",
      "Processing batch 27/47\n",
      "Processing batch 28/47\n",
      "Processing batch 29/47\n",
      "Processing batch 30/47\n",
      "Processing batch 31/47\n",
      "Processing batch 32/47\n",
      "Processing batch 33/47\n",
      "Processing batch 34/47\n",
      "Processing batch 35/47\n",
      "Processing batch 36/47\n",
      "Processing batch 37/47\n",
      "Processing batch 38/47\n",
      "Processing batch 39/47\n",
      "Processing batch 40/47\n",
      "Processing batch 41/47\n",
      "Processing batch 42/47\n",
      "Processing batch 43/47\n",
      "Processing batch 44/47\n",
      "Processing batch 45/47\n",
      "Processing batch 46/47\n",
      "Processing batch 47/47\n",
      "Processing 3729 images and saving to test_features.npy\n",
      "Processing batch 1/59\n",
      "Processing batch 2/59\n",
      "Processing batch 3/59\n",
      "Processing batch 4/59\n",
      "Processing batch 5/59\n",
      "Processing batch 6/59\n",
      "Processing batch 7/59\n",
      "Processing batch 8/59\n",
      "Processing batch 9/59\n",
      "Processing batch 10/59\n",
      "Processing batch 11/59\n",
      "Processing batch 12/59\n",
      "Processing batch 13/59\n",
      "Processing batch 14/59\n",
      "Processing batch 15/59\n",
      "Processing batch 16/59\n",
      "Processing batch 17/59\n",
      "Processing batch 18/59\n",
      "Processing batch 19/59\n",
      "Processing batch 20/59\n",
      "Processing batch 21/59\n",
      "Processing batch 22/59\n",
      "Processing batch 23/59\n",
      "Processing batch 24/59\n",
      "Processing batch 25/59\n",
      "Processing batch 26/59\n",
      "Processing batch 27/59\n",
      "Processing batch 28/59\n",
      "Processing batch 29/59\n",
      "Processing batch 30/59\n",
      "Processing batch 31/59\n",
      "Processing batch 32/59\n",
      "Processing batch 33/59\n",
      "Processing batch 34/59\n",
      "Processing batch 35/59\n",
      "Processing batch 36/59\n",
      "Processing batch 37/59\n",
      "Processing batch 38/59\n",
      "Processing batch 39/59\n",
      "Processing batch 40/59\n",
      "Processing batch 41/59\n",
      "Processing batch 42/59\n",
      "Processing batch 43/59\n",
      "Processing batch 44/59\n",
      "Processing batch 45/59\n",
      "Processing batch 46/59\n",
      "Processing batch 47/59\n",
      "Processing batch 48/59\n",
      "Processing batch 49/59\n",
      "Processing batch 50/59\n",
      "Processing batch 51/59\n",
      "Processing batch 52/59\n",
      "Processing batch 53/59\n",
      "Processing batch 54/59\n",
      "Processing batch 55/59\n",
      "Processing batch 56/59\n",
      "Processing batch 57/59\n",
      "Processing batch 58/59\n",
      "Processing batch 59/59\n"
     ]
    }
   ],
   "source": [
    "if not os.path.exists('train_features.npy'):\n",
    "    train_features = preprocess_and_save_features(train_image_paths, 'train_features.npy')\n",
    "    val_features = preprocess_and_save_features(val_image_paths, 'val_features.npy')\n",
    "    test_features = preprocess_and_save_features(test_image_paths, 'test_features.npy')\n",
    "else:\n",
    "    train_features = np.load('train_features.npy')\n",
    "    val_features = np.load('val_features.npy')\n",
    "    test_features = np.load('test_features.npy')\n"
   ],
   "metadata": {
    "collapsed": false,
    "ExecuteTime": {
     "end_time": "2025-03-01T21:58:17.095719500Z",
     "start_time": "2025-03-01T21:39:09.248685600Z"
    }
   },
   "id": "8d609e762c70e636"
  },
  {
   "cell_type": "markdown",
   "source": [
    "### Standardize features"
   ],
   "metadata": {
    "collapsed": false
   },
   "id": "941d64c0e52e30c3"
  },
  {
   "cell_type": "code",
   "execution_count": 14,
   "outputs": [
    {
     "name": "stdout",
     "output_type": "stream",
     "text": [
      "Feature scaler created and saved successfully.\n"
     ]
    }
   ],
   "source": [
    "if os.path.exists('feature_scaler.pkl'):\n",
    "    # Load existing scaler\n",
    "    scaler = joblib.load('feature_scaler.pkl')\n",
    "    print(\"Feature scaler loaded successfully.\")\n",
    "\n",
    "    train_features_scaled = scaler.transform(train_features)\n",
    "    val_features_scaled = scaler.transform(val_features)\n",
    "    test_features_scaled = scaler.transform(test_features)\n",
    "else:\n",
    "    scaler = StandardScaler()\n",
    "    train_features_scaled = scaler.fit_transform(train_features)\n",
    "    val_features_scaled = scaler.transform(val_features)\n",
    "    test_features_scaled = scaler.transform(test_features)\n",
    "\n",
    "    # Save the scaler\n",
    "    joblib.dump(scaler, 'feature_scaler.pkl')\n",
    "    print(\"Feature scaler created and saved successfully.\")"
   ],
   "metadata": {
    "collapsed": false,
    "ExecuteTime": {
     "end_time": "2025-03-01T21:58:17.601524900Z",
     "start_time": "2025-03-01T21:58:17.104703Z"
    }
   },
   "id": "2e9721bdb44b96d2"
  },
  {
   "cell_type": "markdown",
   "source": [
    "### Define a simple softmax model "
   ],
   "metadata": {
    "collapsed": false
   },
   "id": "cadd81c1f5f4d2c8"
  },
  {
   "cell_type": "code",
   "execution_count": 15,
   "outputs": [
    {
     "name": "stderr",
     "output_type": "stream",
     "text": [
      "C:\\Users\\shayg\\projects\\ML\\final_project\\venv\\lib\\site-packages\\keras\\src\\layers\\core\\dense.py:87: UserWarning: Do not pass an `input_shape`/`input_dim` argument to a layer. When using Sequential models, prefer using an `Input(shape)` object as the first layer in the model instead.\n",
      "  super().__init__(activity_regularizer=activity_regularizer, **kwargs)\n"
     ]
    },
    {
     "data": {
      "text/plain": "\u001B[1mModel: \"sequential_1\"\u001B[0m\n",
      "text/html": "<pre style=\"white-space:pre;overflow-x:auto;line-height:normal;font-family:Menlo,'DejaVu Sans Mono',consolas,'Courier New',monospace\"><span style=\"font-weight: bold\">Model: \"sequential_1\"</span>\n</pre>\n"
     },
     "metadata": {},
     "output_type": "display_data"
    },
    {
     "data": {
      "text/plain": "┏━━━━━━━━━━━━━━━━━━━━━━━━━━━━━━━━━┳━━━━━━━━━━━━━━━━━━━━━━━━┳━━━━━━━━━━━━━━━┓\n┃\u001B[1m \u001B[0m\u001B[1mLayer (type)                   \u001B[0m\u001B[1m \u001B[0m┃\u001B[1m \u001B[0m\u001B[1mOutput Shape          \u001B[0m\u001B[1m \u001B[0m┃\u001B[1m \u001B[0m\u001B[1m      Param #\u001B[0m\u001B[1m \u001B[0m┃\n┡━━━━━━━━━━━━━━━━━━━━━━━━━━━━━━━━━╇━━━━━━━━━━━━━━━━━━━━━━━━╇━━━━━━━━━━━━━━━┩\n│ dense (\u001B[38;5;33mDense\u001B[0m)                   │ (\u001B[38;5;45mNone\u001B[0m, \u001B[38;5;34m17\u001B[0m)             │        \u001B[38;5;34m34,833\u001B[0m │\n└─────────────────────────────────┴────────────────────────┴───────────────┘\n",
      "text/html": "<pre style=\"white-space:pre;overflow-x:auto;line-height:normal;font-family:Menlo,'DejaVu Sans Mono',consolas,'Courier New',monospace\">┏━━━━━━━━━━━━━━━━━━━━━━━━━━━━━━━━━┳━━━━━━━━━━━━━━━━━━━━━━━━┳━━━━━━━━━━━━━━━┓\n┃<span style=\"font-weight: bold\"> Layer (type)                    </span>┃<span style=\"font-weight: bold\"> Output Shape           </span>┃<span style=\"font-weight: bold\">       Param # </span>┃\n┡━━━━━━━━━━━━━━━━━━━━━━━━━━━━━━━━━╇━━━━━━━━━━━━━━━━━━━━━━━━╇━━━━━━━━━━━━━━━┩\n│ dense (<span style=\"color: #0087ff; text-decoration-color: #0087ff\">Dense</span>)                   │ (<span style=\"color: #00d7ff; text-decoration-color: #00d7ff\">None</span>, <span style=\"color: #00af00; text-decoration-color: #00af00\">17</span>)             │        <span style=\"color: #00af00; text-decoration-color: #00af00\">34,833</span> │\n└─────────────────────────────────┴────────────────────────┴───────────────┘\n</pre>\n"
     },
     "metadata": {},
     "output_type": "display_data"
    },
    {
     "data": {
      "text/plain": "\u001B[1m Total params: \u001B[0m\u001B[38;5;34m34,833\u001B[0m (136.07 KB)\n",
      "text/html": "<pre style=\"white-space:pre;overflow-x:auto;line-height:normal;font-family:Menlo,'DejaVu Sans Mono',consolas,'Courier New',monospace\"><span style=\"font-weight: bold\"> Total params: </span><span style=\"color: #00af00; text-decoration-color: #00af00\">34,833</span> (136.07 KB)\n</pre>\n"
     },
     "metadata": {},
     "output_type": "display_data"
    },
    {
     "data": {
      "text/plain": "\u001B[1m Trainable params: \u001B[0m\u001B[38;5;34m34,833\u001B[0m (136.07 KB)\n",
      "text/html": "<pre style=\"white-space:pre;overflow-x:auto;line-height:normal;font-family:Menlo,'DejaVu Sans Mono',consolas,'Courier New',monospace\"><span style=\"font-weight: bold\"> Trainable params: </span><span style=\"color: #00af00; text-decoration-color: #00af00\">34,833</span> (136.07 KB)\n</pre>\n"
     },
     "metadata": {},
     "output_type": "display_data"
    },
    {
     "data": {
      "text/plain": "\u001B[1m Non-trainable params: \u001B[0m\u001B[38;5;34m0\u001B[0m (0.00 B)\n",
      "text/html": "<pre style=\"white-space:pre;overflow-x:auto;line-height:normal;font-family:Menlo,'DejaVu Sans Mono',consolas,'Courier New',monospace\"><span style=\"font-weight: bold\"> Non-trainable params: </span><span style=\"color: #00af00; text-decoration-color: #00af00\">0</span> (0.00 B)\n</pre>\n"
     },
     "metadata": {},
     "output_type": "display_data"
    }
   ],
   "source": [
    "model = Sequential([\n",
    "    Dense(num_classes, activation='softmax', input_shape=(train_features.shape[1],),\n",
    "          kernel_regularizer=tf.keras.regularizers.l2(0.001))\n",
    "])\n",
    "\n",
    "model.compile(\n",
    "    optimizer=Adam(learning_rate=0.001),\n",
    "    loss='sparse_categorical_crossentropy',\n",
    "    metrics=['accuracy']\n",
    ")\n",
    "\n",
    "model.summary()"
   ],
   "metadata": {
    "collapsed": false,
    "ExecuteTime": {
     "end_time": "2025-03-01T21:58:17.936022800Z",
     "start_time": "2025-03-01T21:58:17.601524900Z"
    }
   },
   "id": "2192cee190c91935"
  },
  {
   "cell_type": "markdown",
   "source": [
    "### Train the model"
   ],
   "metadata": {
    "collapsed": false
   },
   "id": "de455b483a341dd"
  },
  {
   "cell_type": "code",
   "execution_count": 16,
   "outputs": [
    {
     "name": "stdout",
     "output_type": "stream",
     "text": [
      "Train labels dtype: int64\n",
      "First few labels: [14  4  6  2  3]\n",
      "Class weight dictionary: {np.int64(0): np.float64(1.7829095832706485), np.int64(1): np.float64(1.2448529411764706), np.int64(2): np.float64(1.0841643033574238), np.int64(3): np.float64(0.9344740577196026), np.int64(4): np.float64(1.2791149487317863), np.int64(5): np.float64(0.350310375406444), np.int64(6): np.float64(0.4650551347957462), np.int64(7): np.float64(0.9307311709730621), np.int64(8): np.float64(0.7369108319860714), np.int64(9): np.float64(0.839900779588944), np.int64(10): np.float64(1.5736290001327844), np.int64(11): np.float64(2.6915739268680445), np.int64(12): np.float64(2.0624782457361643), np.int64(13): np.float64(2.9290657439446366), np.int64(14): np.float64(2.733794694348328), np.int64(15): np.float64(0.8574632805151581), np.int64(16): np.float64(1.1503591535624151)}\n"
     ]
    }
   ],
   "source": [
    "# Make sure all labels are properly encoded as integers\n",
    "print(\"Train labels dtype:\", train_labels.dtype)\n",
    "print(\"First few labels:\", train_labels[:5])\n",
    "\n",
    "# Compute class weights with the encoded integer labels\n",
    "class_weights = compute_class_weight('balanced', classes=np.unique(train_labels), y=train_labels)\n",
    "class_weight_dict = dict(zip(np.unique(train_labels), class_weights))\n",
    "\n",
    "# Check the class weight dictionary\n",
    "print(\"Class weight dictionary:\", class_weight_dict)"
   ],
   "metadata": {
    "collapsed": false,
    "ExecuteTime": {
     "end_time": "2025-03-01T21:58:17.936022800Z",
     "start_time": "2025-03-01T21:58:17.681902800Z"
    }
   },
   "id": "c73f381f4f7c8a0b"
  },
  {
   "cell_type": "code",
   "execution_count": 17,
   "outputs": [
    {
     "name": "stdout",
     "output_type": "stream",
     "text": [
      "Training the model...\n",
      "Epoch 1/30\n",
      "\u001B[1m186/186\u001B[0m \u001B[32m━━━━━━━━━━━━━━━━━━━━\u001B[0m\u001B[37m\u001B[0m \u001B[1m1s\u001B[0m 3ms/step - accuracy: 0.2525 - loss: 2.4147 - val_accuracy: 0.4391 - val_loss: 1.7483\n",
      "Epoch 2/30\n",
      "\u001B[1m186/186\u001B[0m \u001B[32m━━━━━━━━━━━━━━━━━━━━\u001B[0m\u001B[37m\u001B[0m \u001B[1m1s\u001B[0m 3ms/step - accuracy: 0.5166 - loss: 1.3273 - val_accuracy: 0.4958 - val_loss: 1.5971\n",
      "Epoch 3/30\n",
      "\u001B[1m186/186\u001B[0m \u001B[32m━━━━━━━━━━━━━━━━━━━━\u001B[0m\u001B[37m\u001B[0m \u001B[1m1s\u001B[0m 3ms/step - accuracy: 0.6160 - loss: 1.0288 - val_accuracy: 0.5214 - val_loss: 1.5085\n",
      "Epoch 4/30\n",
      "\u001B[1m186/186\u001B[0m \u001B[32m━━━━━━━━━━━━━━━━━━━━\u001B[0m\u001B[37m\u001B[0m \u001B[1m1s\u001B[0m 3ms/step - accuracy: 0.6690 - loss: 0.9057 - val_accuracy: 0.5400 - val_loss: 1.4876\n",
      "Epoch 5/30\n",
      "\u001B[1m186/186\u001B[0m \u001B[32m━━━━━━━━━━━━━━━━━━━━\u001B[0m\u001B[37m\u001B[0m \u001B[1m1s\u001B[0m 3ms/step - accuracy: 0.7110 - loss: 0.7952 - val_accuracy: 0.5440 - val_loss: 1.4656\n",
      "Epoch 6/30\n",
      "\u001B[1m186/186\u001B[0m \u001B[32m━━━━━━━━━━━━━━━━━━━━\u001B[0m\u001B[37m\u001B[0m \u001B[1m1s\u001B[0m 3ms/step - accuracy: 0.7308 - loss: 0.7232 - val_accuracy: 0.5478 - val_loss: 1.4650\n",
      "Epoch 7/30\n",
      "\u001B[1m186/186\u001B[0m \u001B[32m━━━━━━━━━━━━━━━━━━━━\u001B[0m\u001B[37m\u001B[0m \u001B[1m1s\u001B[0m 3ms/step - accuracy: 0.7641 - loss: 0.6684 - val_accuracy: 0.5579 - val_loss: 1.4536\n",
      "Epoch 8/30\n",
      "\u001B[1m186/186\u001B[0m \u001B[32m━━━━━━━━━━━━━━━━━━━━\u001B[0m\u001B[37m\u001B[0m \u001B[1m1s\u001B[0m 3ms/step - accuracy: 0.7884 - loss: 0.6166 - val_accuracy: 0.5478 - val_loss: 1.4709\n",
      "Epoch 9/30\n",
      "\u001B[1m186/186\u001B[0m \u001B[32m━━━━━━━━━━━━━━━━━━━━\u001B[0m\u001B[37m\u001B[0m \u001B[1m1s\u001B[0m 3ms/step - accuracy: 0.7981 - loss: 0.5806 - val_accuracy: 0.5629 - val_loss: 1.4710\n",
      "Epoch 10/30\n",
      "\u001B[1m186/186\u001B[0m \u001B[32m━━━━━━━━━━━━━━━━━━━━\u001B[0m\u001B[37m\u001B[0m \u001B[1m1s\u001B[0m 3ms/step - accuracy: 0.8155 - loss: 0.5531 - val_accuracy: 0.5633 - val_loss: 1.4991\n",
      "Epoch 11/30\n",
      "\u001B[1m186/186\u001B[0m \u001B[32m━━━━━━━━━━━━━━━━━━━━\u001B[0m\u001B[37m\u001B[0m \u001B[1m1s\u001B[0m 3ms/step - accuracy: 0.8291 - loss: 0.5260 - val_accuracy: 0.5609 - val_loss: 1.5006\n",
      "Epoch 12/30\n",
      "\u001B[1m186/186\u001B[0m \u001B[32m━━━━━━━━━━━━━━━━━━━━\u001B[0m\u001B[37m\u001B[0m \u001B[1m1s\u001B[0m 3ms/step - accuracy: 0.8367 - loss: 0.5030 - val_accuracy: 0.5596 - val_loss: 1.4971\n"
     ]
    }
   ],
   "source": [
    "print(\"Training the model...\")\n",
    "# Define the early stopping callback before training the model\n",
    "early_stopping = tf.keras.callbacks.EarlyStopping(\n",
    "    monitor='val_loss',  # Monitor validation loss\n",
    "    patience=5,  # Number of epochs with no improvement after which training will stop\n",
    "    restore_best_weights=True  # Restore model weights from the epoch with the best value of the monitored quantity\n",
    ")\n",
    "\n",
    "history = model.fit(\n",
    "    train_features_scaled, train_labels,\n",
    "    validation_data=(val_features_scaled, val_labels),\n",
    "    epochs=30,\n",
    "    batch_size=batch_size,\n",
    "    class_weight=class_weight_dict,\n",
    "    callbacks=[early_stopping]\n",
    ")"
   ],
   "metadata": {
    "collapsed": false,
    "ExecuteTime": {
     "end_time": "2025-03-01T21:58:25.524830800Z",
     "start_time": "2025-03-01T21:58:17.698132100Z"
    }
   },
   "id": "f899eb1e92f85316"
  },
  {
   "cell_type": "markdown",
   "source": [
    "### Save the model"
   ],
   "metadata": {
    "collapsed": false
   },
   "id": "d89e27609865dd42"
  },
  {
   "cell_type": "code",
   "execution_count": 18,
   "outputs": [
    {
     "name": "stderr",
     "output_type": "stream",
     "text": [
      "WARNING:absl:You are saving your model as an HDF5 file via `model.save()` or `keras.saving.save_model(model)`. This file format is considered legacy. We recommend using instead the native Keras format, e.g. `model.save('my_model.keras')` or `keras.saving.save_model(model, 'my_model.keras')`. \n"
     ]
    },
    {
     "name": "stdout",
     "output_type": "stream",
     "text": [
      "Model saved successfully.\n"
     ]
    }
   ],
   "source": [
    "model.save('softmax_classifier.h5')\n",
    "print(\"Model saved successfully.\")"
   ],
   "metadata": {
    "collapsed": false,
    "ExecuteTime": {
     "end_time": "2025-03-01T21:58:25.604203700Z",
     "start_time": "2025-03-01T21:58:25.524830800Z"
    }
   },
   "id": "eebb79a76147a427"
  },
  {
   "cell_type": "markdown",
   "source": [
    "### Evaluate the model"
   ],
   "metadata": {
    "collapsed": false
   },
   "id": "dccf170527cec3ea"
  },
  {
   "cell_type": "code",
   "execution_count": 19,
   "outputs": [
    {
     "name": "stdout",
     "output_type": "stream",
     "text": [
      "Evaluating the model on test data...\n",
      "\u001B[1m117/117\u001B[0m \u001B[32m━━━━━━━━━━━━━━━━━━━━\u001B[0m\u001B[37m\u001B[0m \u001B[1m0s\u001B[0m 2ms/step - accuracy: 0.3227 - loss: 2.3562\n",
      "Test Loss: 2.5419\n",
      "Test Accuracy: 0.2883\n"
     ]
    }
   ],
   "source": [
    "print(\"Evaluating the model on test data...\")\n",
    "test_loss, test_acc = model.evaluate(test_features_scaled, test_labels)\n",
    "print(f\"Test Loss: {test_loss:.4f}\")\n",
    "print(f\"Test Accuracy: {test_acc:.4f}\")"
   ],
   "metadata": {
    "collapsed": false,
    "ExecuteTime": {
     "end_time": "2025-03-01T21:58:25.982537900Z",
     "start_time": "2025-03-01T21:58:25.572294200Z"
    }
   },
   "id": "ea517ee225cddf77"
  },
  {
   "cell_type": "markdown",
   "source": [
    "### Get predictions"
   ],
   "metadata": {
    "collapsed": false
   },
   "id": "95b430298f60e870"
  },
  {
   "cell_type": "code",
   "execution_count": 20,
   "outputs": [
    {
     "name": "stdout",
     "output_type": "stream",
     "text": [
      "\u001B[1m117/117\u001B[0m \u001B[32m━━━━━━━━━━━━━━━━━━━━\u001B[0m\u001B[37m\u001B[0m \u001B[1m0s\u001B[0m 1ms/step\n"
     ]
    }
   ],
   "source": [
    "test_predictions = model.predict(test_features_scaled)\n",
    "test_pred_classes = np.argmax(test_predictions, axis=1)"
   ],
   "metadata": {
    "collapsed": false,
    "ExecuteTime": {
     "end_time": "2025-03-01T21:58:26.327582200Z",
     "start_time": "2025-03-01T21:58:25.977499Z"
    }
   },
   "id": "b63deba842304f8"
  },
  {
   "cell_type": "markdown",
   "source": [
    "### Visualize results"
   ],
   "metadata": {
    "collapsed": false
   },
   "id": "1d4f82fb12952ae3"
  },
  {
   "cell_type": "code",
   "execution_count": 21,
   "outputs": [
    {
     "data": {
      "text/plain": "<Figure size 1200x400 with 2 Axes>",
      "image/png": "[encoded data removed]"
     },
     "metadata": {},
     "output_type": "display_data"
    },
    {
     "data": {
      "text/plain": "<Figure size 1000x800 with 2 Axes>",
      "image/png": "[encoded data removed]"
     },
     "metadata": {},
     "output_type": "display_data"
    }
   ],
   "source": [
    "# Plot training history\n",
    "plt.figure(figsize=(12, 4))\n",
    "\n",
    "plt.subplot(1, 2, 1)\n",
    "plt.plot(history.history['accuracy'], label='Train Accuracy')\n",
    "plt.plot(history.history['val_accuracy'], label='Validation Accuracy')\n",
    "plt.xlabel('Epoch')\n",
    "plt.ylabel('Accuracy')\n",
    "plt.legend()\n",
    "plt.title('Training and Validation Accuracy')\n",
    "\n",
    "plt.subplot(1, 2, 2)\n",
    "plt.plot(history.history['loss'], label='Train Loss')\n",
    "plt.plot(history.history['val_loss'], label='Validation Loss')\n",
    "plt.xlabel('Epoch')\n",
    "plt.ylabel('Loss')\n",
    "plt.legend()\n",
    "plt.title('Training and Validation Loss')\n",
    "\n",
    "plt.tight_layout()\n",
    "plt.savefig('training_history.png')\n",
    "plt.show()\n",
    "\n",
    "# Confusion matrix\n",
    "plt.figure(figsize=(10, 8))\n",
    "cm = confusion_matrix(test_labels, test_pred_classes)\n",
    "sns.heatmap(cm, annot=True, fmt='d', cmap='Blues',\n",
    "            xticklabels=combined_encoder.classes_,\n",
    "            yticklabels=combined_encoder.classes_)\n",
    "plt.xlabel('Predicted')\n",
    "plt.ylabel('True')\n",
    "plt.title('Confusion Matrix')\n",
    "plt.tight_layout()\n",
    "plt.savefig('confusion_matrix.png')\n",
    "plt.show()"
   ],
   "metadata": {
    "collapsed": false,
    "ExecuteTime": {
     "end_time": "2025-03-01T21:58:28.242590100Z",
     "start_time": "2025-03-01T21:58:26.327582200Z"
    }
   },
   "id": "97f1fa90dc78ca31"
  },
  {
   "cell_type": "markdown",
   "source": [
    "### Classification report"
   ],
   "metadata": {
    "collapsed": false
   },
   "id": "dee3d63459bc60c1"
  },
  {
   "cell_type": "code",
   "execution_count": 22,
   "outputs": [
    {
     "name": "stdout",
     "output_type": "stream",
     "text": [
      "Classification Report:\n",
      "              precision    recall  f1-score   support\n",
      "\n",
      "    (0, 2)_f       0.31      0.18      0.23       192\n",
      "    (0, 2)_m       0.00      0.14      0.01         7\n",
      "    (0, 2)_u       0.59      0.52      0.55       284\n",
      "  (15, 20)_f       0.12      0.14      0.13       152\n",
      "  (15, 20)_m       0.10      0.25      0.14        73\n",
      "  (25, 32)_f       0.45      0.27      0.34       558\n",
      "  (25, 32)_m       0.52      0.45      0.48       478\n",
      "  (38, 43)_f       0.30      0.31      0.30       297\n",
      "  (38, 43)_m       0.16      0.17      0.17       246\n",
      "    (4, 6)_f       0.21      0.26      0.23       193\n",
      "    (4, 6)_m       0.50      0.26      0.34       377\n",
      "  (48, 53)_f       0.11      0.14      0.12       145\n",
      "  (48, 53)_m       0.17      0.28      0.21       113\n",
      " (60, 100)_f       0.20      0.18      0.19       137\n",
      " (60, 100)_m       0.39      0.39      0.39       137\n",
      "   (8, 23)_f       0.18      0.23      0.20       174\n",
      "   (8, 23)_m       0.18      0.18      0.18       166\n",
      "\n",
      "    accuracy                           0.29      3729\n",
      "   macro avg       0.26      0.26      0.25      3729\n",
      "weighted avg       0.34      0.29      0.31      3729\n"
     ]
    }
   ],
   "source": [
    "print(\"Classification Report:\")\n",
    "print(classification_report(test_labels, test_pred_classes, target_names=combined_encoder.classes_))\n"
   ],
   "metadata": {
    "collapsed": false,
    "ExecuteTime": {
     "end_time": "2025-03-01T21:58:28.417847600Z",
     "start_time": "2025-03-01T21:58:28.195020Z"
    }
   },
   "id": "e8041a6f4ba05f18"
  }
 ],
 "metadata": {
  "kernelspec": {
   "display_name": "Python 3",
   "language": "python",
   "name": "python3"
  },
  "language_info": {
   "codemirror_mode": {
    "name": "ipython",
    "version": 2
   },
   "file_extension": ".py",
   "mimetype": "text/x-python",
   "name": "python",
   "nbconvert_exporter": "python",
   "pygments_lexer": "ipython2",
   "version": "2.7.6"
  }
 },
 "nbformat": 4,
 "nbformat_minor": 5
}
