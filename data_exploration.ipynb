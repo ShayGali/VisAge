{
 "cells": [
  {
   "cell_type": "markdown",
   "source": [
    "## Data Exploration"
   ],
   "metadata": {
    "collapsed": false
   },
   "id": "16bbc83ae1499a2a"
  },
  {
   "cell_type": "code",
   "execution_count": 1,
   "outputs": [],
   "source": [
    "import pandas as pd\n",
    "import matplotlib.pyplot as plt\n",
    "import os\n",
    "from sklearn.model_selection import train_test_split"
   ],
   "metadata": {
    "collapsed": false,
    "ExecuteTime": {
     "end_time": "2025-02-11T10:24:56.041217300Z",
     "start_time": "2025-02-11T10:24:53.294453200Z"
    }
   },
   "id": "initial_id"
  },
  {
   "cell_type": "markdown",
   "source": [
    "### check why we have two `faces` folders\n",
    "\n",
    "for some reason there are two `faces` folder, we check what each folder contains."
   ],
   "metadata": {
    "collapsed": false
   },
   "id": "7c5cd9c06d3c7b19"
  },
  {
   "cell_type": "code",
   "execution_count": 2,
   "outputs": [
    {
     "name": "stdout",
     "output_type": "stream",
     "text": [
      "168\n",
      "40\n",
      "208\n",
      "168\n",
      "{'10241064@N08', '10391859@N05', '10001312@N04', '100346410@N05', '100014826@N03', '10280355@N07', '10123180@N04', '10069023@N00', '10440927@N07', '10354155@N05', '101532586@N07', '10044155@N06', '101591466@N03', '10129575@N03', '10171175@N06', '101515718@N03', '10148140@N07', '10897942@N03', '101071073@N04', '10747684@N00', '10328235@N07', '10611527@N03', '10792106@N03', '10062073@N07', '101560979@N02', '10543088@N02', '100003415@N08', '10406201@N05', '10058630@N06', '10113099@N03', '101636677@N08', '10743505@N04', '101295462@N02', '10580682@N07', '10693681@N00', '10466455@N02', '10008401@N05', '104937236@N08', '10255165@N05', '102455446@N08'}\n"
     ]
    }
   ],
   "source": [
    "files_in_faces = set(os.listdir(os.path.join('data', 'faces')))\n",
    "files_in_adbg_faces = set(os.listdir(os.path.join('data','AdienceBenchmarkGenderAndAgeClassification', 'faces')))\n",
    "\n",
    "print(len(files_in_faces))\n",
    "print(len(files_in_adbg_faces))\n",
    "print(len(files_in_faces) + len(files_in_adbg_faces))\n",
    "\n",
    "unique_files = files_in_faces.union(files_in_adbg_faces)\n",
    "print(len(unique_files))\n",
    "\n",
    "# print the files that are in both directories\n",
    "print(files_in_faces.intersection(files_in_adbg_faces))"
   ],
   "metadata": {
    "collapsed": false,
    "ExecuteTime": {
     "end_time": "2025-02-11T10:24:56.059155Z",
     "start_time": "2025-02-11T10:24:56.041217300Z"
    }
   },
   "id": "58f2da26185caf9e"
  },
  {
   "cell_type": "markdown",
   "source": [
    "we can see that the inner faces folder is a subset of the outer faces folder, so we will work only with the outer faces folder"
   ],
   "metadata": {
    "collapsed": false
   },
   "id": "a150fba7422a54dc"
  },
  {
   "cell_type": "markdown",
   "source": [
    "### read the `fold_*_data.txt` files, and spilt the data into train, test, and validation sets"
   ],
   "metadata": {
    "collapsed": false
   },
   "id": "ed47deab932855ea"
  },
  {
   "cell_type": "code",
   "execution_count": 3,
   "outputs": [
    {
     "name": "stdout",
     "output_type": "stream",
     "text": [
      "data\\fold_0_data.txt: 4484 rows\n",
      "data\\fold_1_data.txt: 3730 rows\n",
      "data\\fold_2_data.txt: 3894 rows\n",
      "data\\fold_3_data.txt: 3446 rows\n",
      "data.shape=(18551, 12)\n",
      "Index(['user_id', 'original_image', 'face_id', 'age', 'gender', 'x', 'y', 'dx',\n",
      "       'dy', 'tilt_ang', 'fiducial_yaw_angle', 'fiducial_score'],\n",
      "      dtype='object')\n",
      "train size: 15554\n",
      "test size: 3816\n"
     ]
    }
   ],
   "source": [
    "train_files = map(lambda fold: os.path.join('data',fold), ['fold_0_data.txt', 'fold_1_data.txt', 'fold_2_data.txt', 'fold_3_data.txt'])\n",
    "test_file = os.path.join('data','fold_4_data.txt')\n",
    "    \n",
    "temp_list = []\n",
    "for file in train_files:\n",
    "    temp_df = pd.read_table(file, sep='\\t')\n",
    "    temp_list.append(temp_df)\n",
    "    print(f\"{file}: {temp_df.shape[0]} rows\")\n",
    "\n",
    "test_df = pd.read_table(test_file, sep='\\t')\n",
    "train_df = pd.concat(temp_list, axis=0, ignore_index=True)\n",
    "temp_list.append(test_df)\n",
    "data = pd.concat(temp_list, axis=0, ignore_index=True)\n",
    "del temp_list  # free up memory\n",
    "data.dropna(inplace=True)\n",
    "# data.head(5)\n",
    "print(f'{data.shape=}')\n",
    "print(data.columns)\n",
    "\n",
    "print(f\"train size: {train_df.shape[0]}\")\n",
    "print(f\"test size: {test_df.shape[0]}\")"
   ],
   "metadata": {
    "collapsed": false,
    "ExecuteTime": {
     "end_time": "2025-02-11T10:24:56.152983600Z",
     "start_time": "2025-02-11T10:24:56.065196600Z"
    }
   },
   "id": "769da68126d479a2"
  },
  {
   "cell_type": "markdown",
   "source": [
    "#### column description\n",
    "* **user_id**\n",
    "    * **Description**: Unique identifier for the Flickr user who uploaded the image.\n",
    "    * **Purpose**: Helps track the source of the image and ensures no overlap of subjects across cross-validation folds.\n",
    "\n",
    "* **original_image**\n",
    "    * **Description**: Filename or path to the original image in the dataset.\n",
    "    * **Purpose**: Links the metadata to the actual image file for processing.\n",
    "\n",
    "\n",
    "* **face_id**\n",
    "    * **Description**: Unique identifier for each detected face in the dataset.\n",
    "    * **Purpose**: Helps distinguish between multiple faces in the same image (if present).\n",
    "\n",
    "* **age**\n",
    "    * **Description**: Age group label for the face.\n",
    "\n",
    "* **gender**\n",
    "    * **Description**: Gender label for the face.\n",
    "\n",
    "* **x**\n",
    "    * **Description**: X-coordinate of the top-left corner of the face bounding box in the original image.\n",
    "    * **Purpose**: Defines the horizontal position of the face for cropping or alignment.\n",
    "\n",
    "* **y**\n",
    "    * **Description**: Y-coordinate of the top-left corner of the face bounding box in the original image.\n",
    "    * **Purpose**: Defines the vertical position of the face for cropping or alignment.\n",
    "\n",
    "* **dx**\n",
    "    * **Description**: Width of the face bounding box.\n",
    "    * **Purpose**: Used to determine the size of the face region for cropping.\n",
    "\n",
    "* **dy**\n",
    "    * **Description**: Height of the face bounding box.\n",
    "    * **Purpose**: Used to determine the size of the face region for cropping.\n",
    "\n",
    "* **tilt_ang**\n",
    "    * **Description**: Tilt angle of the face (in degrees).\n",
    "    * **Purpose**: Indicates the rotation of the face in the image (e.g., head tilt). Useful for face alignment.\n",
    "\n",
    "* **fiducial_yaw_angle**\n",
    "    * **Description**: Yaw angle of the face (in degrees), indicating the horizontal rotation (e.g., left or right profile).\n",
    "    * **Purpose**: Helps understand the pose of the face, which is critical for alignment and preprocessing.\n",
    "\n",
    "* **fiducial_score**\n",
    "    * **Description**: Confidence score of the fiducial points (landmarks) detection.\n",
    "    * **Purpose**: Indicates the reliability of the detected facial landmarks. Higher scores mean better alignment quality.\n"
   ],
   "metadata": {
    "collapsed": false
   },
   "id": "d119206c8d82a019"
  },
  {
   "cell_type": "markdown",
   "source": [
    "### remove unnecessary columns\n",
    "we will take these columns: user_id', 'face_id', 'original_image', 'age', 'gender' (in this order)"
   ],
   "metadata": {
    "collapsed": false
   },
   "id": "73a5ed70667bf595"
  },
  {
   "cell_type": "code",
   "execution_count": 4,
   "outputs": [
    {
     "data": {
      "text/plain": "        user_id  face_id                original_image       age gender\n0  30601258@N03        1  10399646885_67c7d20df9_o.jpg  (25, 32)      f\n1  30601258@N03        2  10424815813_e94629b1ec_o.jpg  (25, 32)      m\n2  30601258@N03        1  10437979845_5985be4b26_o.jpg  (25, 32)      f\n3  30601258@N03        3  10437979845_5985be4b26_o.jpg  (25, 32)      m\n4  30601258@N03        2  11816644924_075c3d8d59_o.jpg  (25, 32)      m",
      "text/html": "<div>\n<style scoped>\n    .dataframe tbody tr th:only-of-type {\n        vertical-align: middle;\n    }\n\n    .dataframe tbody tr th {\n        vertical-align: top;\n    }\n\n    .dataframe thead th {\n        text-align: right;\n    }\n</style>\n<table border=\"1\" class=\"dataframe\">\n  <thead>\n    <tr style=\"text-align: right;\">\n      <th></th>\n      <th>user_id</th>\n      <th>face_id</th>\n      <th>original_image</th>\n      <th>age</th>\n      <th>gender</th>\n    </tr>\n  </thead>\n  <tbody>\n    <tr>\n      <th>0</th>\n      <td>30601258@N03</td>\n      <td>1</td>\n      <td>10399646885_67c7d20df9_o.jpg</td>\n      <td>(25, 32)</td>\n      <td>f</td>\n    </tr>\n    <tr>\n      <th>1</th>\n      <td>30601258@N03</td>\n      <td>2</td>\n      <td>10424815813_e94629b1ec_o.jpg</td>\n      <td>(25, 32)</td>\n      <td>m</td>\n    </tr>\n    <tr>\n      <th>2</th>\n      <td>30601258@N03</td>\n      <td>1</td>\n      <td>10437979845_5985be4b26_o.jpg</td>\n      <td>(25, 32)</td>\n      <td>f</td>\n    </tr>\n    <tr>\n      <th>3</th>\n      <td>30601258@N03</td>\n      <td>3</td>\n      <td>10437979845_5985be4b26_o.jpg</td>\n      <td>(25, 32)</td>\n      <td>m</td>\n    </tr>\n    <tr>\n      <th>4</th>\n      <td>30601258@N03</td>\n      <td>2</td>\n      <td>11816644924_075c3d8d59_o.jpg</td>\n      <td>(25, 32)</td>\n      <td>m</td>\n    </tr>\n  </tbody>\n</table>\n</div>"
     },
     "execution_count": 4,
     "metadata": {},
     "output_type": "execute_result"
    }
   ],
   "source": [
    "data = data[['user_id', 'face_id', 'original_image', 'age', 'gender']]\n",
    "data.head(5)"
   ],
   "metadata": {
    "collapsed": false,
    "ExecuteTime": {
     "end_time": "2025-02-11T10:24:56.229972Z",
     "start_time": "2025-02-11T10:24:56.159797300Z"
    }
   },
   "id": "2aedef1a0aad4e7f"
  },
  {
   "cell_type": "markdown",
   "source": [
    "### display data types\n",
    "In our project, we will focus on the gender and the age features"
   ],
   "metadata": {
    "collapsed": false
   },
   "id": "57b031269820c56a"
  },
  {
   "cell_type": "code",
   "execution_count": 5,
   "outputs": [
    {
     "name": "stdout",
     "output_type": "stream",
     "text": [
      "Gender options: ['f' 'm' 'u']\n",
      "Age options: ['(0, 2)', '(4, 6)', '(8, 12)', '(8, 23)', '(15, 20)', '(25, 32)', '(27, 32)', '(38, 43)', '(38, 48)', '(38, 42)', '(48, 53)', '(60, 100)', '2', '3', '13', '22', '23', '29', '34', '35', '36', '42', '45', '46', '55', '57', '58']\n"
     ]
    }
   ],
   "source": [
    "# display gender options\n",
    "print(f\"Gender options: {data['gender'].unique()}\")\n",
    "\n",
    "# display age options\n",
    "# Separate ranges and single numbers\n",
    "ranges = [age for age in data['age'].unique() if '(' in age]\n",
    "numbers = [age for age in data['age'].unique() if '(' not in age]\n",
    "\n",
    "# Sort ranges by the first number in each tuple\n",
    "sorted_ranges = sorted(ranges, key=lambda x: int(x.split(',')[0][1:]))\n",
    "\n",
    "# Sort numbers as integers\n",
    "sorted_numbers = sorted(numbers, key=int)\n",
    "\n",
    "# Combine sorted ranges and sorted numbers\n",
    "age_options = sorted_ranges + sorted_numbers\n",
    "\n",
    "# Print the sorted age options\n",
    "print(f\"Age options: {age_options}\")"
   ],
   "metadata": {
    "collapsed": false,
    "ExecuteTime": {
     "end_time": "2025-02-11T10:24:56.231982300Z",
     "start_time": "2025-02-11T10:24:56.190201600Z"
    }
   },
   "id": "df758522a426a40b"
  },
  {
   "cell_type": "markdown",
   "source": [
    "### Merge overlap age ranges\n",
    "\n",
    "we can see that we have:\n",
    "   * (38, 42),(38, 43), (38, 48)\n",
    "   * (8, 12),(8, 23), (15, 20)\n",
    "   * (25, 32), (27, 32)\n",
    "\n",
    "age groups that are similar, we will combine them by the most common one"
   ],
   "metadata": {
    "collapsed": false
   },
   "id": "248ce856ddb2c263"
  },
  {
   "cell_type": "code",
   "execution_count": 6,
   "outputs": [
    {
     "name": "stdout",
     "output_type": "stream",
     "text": [
      "(38, 42): 46\n",
      "(38, 43): 2293\n",
      "(38, 48): 6\n"
     ]
    }
   ],
   "source": [
    "# count the (38, 42),(38, 43), (38, 48) age group (th\n",
    "print(f\"(38, 42): {data[data['age'] == '(38, 42)'].shape[0]}\")\n",
    "print(f\"(38, 43): {data[data['age'] == '(38, 43)'].shape[0]}\")\n",
    "print(f\"(38, 48): {data[data['age'] == '(38, 48)'].shape[0]}\")"
   ],
   "metadata": {
    "collapsed": false,
    "ExecuteTime": {
     "end_time": "2025-02-11T10:24:56.231982300Z",
     "start_time": "2025-02-11T10:24:56.209601200Z"
    }
   },
   "id": "7ae4c73457e20dc7"
  },
  {
   "cell_type": "code",
   "execution_count": 7,
   "outputs": [],
   "source": [
    "data['age'] = data['age'].replace('(38, 42)', '(38, 43)')\n",
    "data['age'] = data['age'].replace('(38, 48)', '(38, 43)')"
   ],
   "metadata": {
    "collapsed": false,
    "ExecuteTime": {
     "end_time": "2025-02-11T10:24:56.246758600Z",
     "start_time": "2025-02-11T10:24:56.223927300Z"
    }
   },
   "id": "76f29fbb28d5ab61"
  },
  {
   "cell_type": "code",
   "execution_count": 8,
   "outputs": [
    {
     "name": "stdout",
     "output_type": "stream",
     "text": [
      "(8, 12): 2119\n",
      "(8, 23): 1\n",
      "(15, 20): 1642\n"
     ]
    }
   ],
   "source": [
    "print(f\"(8, 12): {data[data['age'] == '(8, 12)'].shape[0]}\")\n",
    "print(f\"(8, 23): {data[data['age'] == '(8, 23)'].shape[0]}\")\n",
    "print(f\"(15, 20): {data[data['age'] == '(15, 20)'].shape[0]}\")"
   ],
   "metadata": {
    "collapsed": false,
    "ExecuteTime": {
     "end_time": "2025-02-11T10:24:56.385776900Z",
     "start_time": "2025-02-11T10:24:56.233993300Z"
    }
   },
   "id": "d0842dd3ad13c01e"
  },
  {
   "cell_type": "code",
   "execution_count": 9,
   "outputs": [],
   "source": [
    "# data['age'] = data['age'].replace('(8, 12)', '(8, 23)')\n",
    "# remove the record with age (8, 23)\n",
    "data = data[data['age'] != '(8, 23)']"
   ],
   "metadata": {
    "collapsed": false,
    "ExecuteTime": {
     "end_time": "2025-02-11T10:24:56.410331800Z",
     "start_time": "2025-02-11T10:24:56.265642300Z"
    }
   },
   "id": "1e786d1c6a5a452f"
  },
  {
   "cell_type": "code",
   "execution_count": 10,
   "outputs": [
    {
     "name": "stdout",
     "output_type": "stream",
     "text": [
      "(25, 32): 4953\n",
      "(27, 32): 77\n"
     ]
    }
   ],
   "source": [
    "print(f\"(25, 32): {data[data['age'] == '(25, 32)'].shape[0]}\")\n",
    "print(f\"(27, 32): {data[data['age'] == '(27, 32)'].shape[0]}\")"
   ],
   "metadata": {
    "collapsed": false,
    "ExecuteTime": {
     "end_time": "2025-02-11T10:24:56.410331800Z",
     "start_time": "2025-02-11T10:24:56.284596900Z"
    }
   },
   "id": "b17c8e21ee2ed84e"
  },
  {
   "cell_type": "code",
   "execution_count": 11,
   "outputs": [],
   "source": [
    "data['age'] = data['age'].replace('(27, 32)', '(25, 32)')"
   ],
   "metadata": {
    "collapsed": false,
    "ExecuteTime": {
     "end_time": "2025-02-11T10:24:56.410331800Z",
     "start_time": "2025-02-11T10:24:56.312148800Z"
    }
   },
   "id": "4ed1f9dba34c08b8"
  },
  {
   "cell_type": "markdown",
   "source": [
    "### Put one age value to range\n",
    "\n",
    "some rows have one value in the age, and not range, so we will put them the closest age\n",
    "\n",
    "first we will count then (mayby we will have a lot of them, and we will make a special range for them...) "
   ],
   "metadata": {
    "collapsed": false
   },
   "id": "f0e18075e3d28c9a"
  },
  {
   "cell_type": "code",
   "execution_count": 12,
   "outputs": [
    {
     "name": "stdout",
     "output_type": "stream",
     "text": [
      "2: 3\n",
      "3: 18\n",
      "13: 168\n",
      "22: 149\n",
      "23: 96\n",
      "29: 11\n",
      "34: 105\n",
      "35: 293\n",
      "36: 56\n",
      "42: 1\n",
      "45: 88\n",
      "46: 1\n",
      "55: 76\n",
      "57: 24\n",
      "58: 5\n"
     ]
    }
   ],
   "source": [
    "print(f\"2: {data[data['age'] == '2'].shape[0]}\")\n",
    "print(f\"3: {data[data['age'] == '3'].shape[0]}\")\n",
    "print(f\"13: {data[data['age'] == '13'].shape[0]}\")\n",
    "print(f\"22: {data[data['age'] == '22'].shape[0]}\")\n",
    "print(f\"23: {data[data['age'] == '23'].shape[0]}\")\n",
    "print(f\"29: {data[data['age'] == '29'].shape[0]}\")\n",
    "print(f\"34: {data[data['age'] == '34'].shape[0]}\")\n",
    "print(f\"35: {data[data['age'] == '35'].shape[0]}\")\n",
    "print(f\"36: {data[data['age'] == '36'].shape[0]}\")\n",
    "print(f\"42: {data[data['age'] == '42'].shape[0]}\")\n",
    "print(f\"45: {data[data['age'] == '45'].shape[0]}\")\n",
    "print(f\"46: {data[data['age'] == '46'].shape[0]}\")\n",
    "print(f\"55: {data[data['age'] == '55'].shape[0]}\")\n",
    "print(f\"57: {data[data['age'] == '57'].shape[0]}\")\n",
    "print(f\"58: {data[data['age'] == '58'].shape[0]}\")"
   ],
   "metadata": {
    "collapsed": false,
    "ExecuteTime": {
     "end_time": "2025-02-11T10:24:56.545391Z",
     "start_time": "2025-02-11T10:24:56.339601600Z"
    }
   },
   "id": "6a8d605076871ff2"
  },
  {
   "cell_type": "markdown",
   "source": [],
   "metadata": {
    "collapsed": false
   },
   "id": "e09d0354bcd622ff"
  },
  {
   "cell_type": "code",
   "execution_count": 13,
   "outputs": [],
   "source": [
    "data['age'] = data['age'].replace('2', '(0, 2)')\n",
    "data['age'] = data['age'].replace('3', '(4, 6)')\n",
    "data['age'] = data['age'].replace('13', '(15, 20)')\n",
    "data['age'] = data['age'].replace('22', '(25, 32)')\n",
    "data['age'] = data['age'].replace('23', '(25, 32)')\n",
    "data['age'] = data['age'].replace('29', '(25, 32)')\n",
    "data['age'] = data['age'].replace('34', '(25, 32)')\n",
    "data['age'] = data['age'].replace('35', '(38, 43)')\n",
    "data['age'] = data['age'].replace('36', '(38, 43)')\n",
    "data['age'] = data['age'].replace('42', '(38, 43)')\n",
    "data['age'] = data['age'].replace('45', '(48, 53)')\n",
    "data['age'] = data['age'].replace('46', '(48, 53)')\n",
    "data['age'] = data['age'].replace('55', '(48, 53)')\n",
    "data['age'] = data['age'].replace('57', '(60, 100)')\n",
    "data['age'] = data['age'].replace('58', '(60, 100)')"
   ],
   "metadata": {
    "collapsed": false,
    "ExecuteTime": {
     "end_time": "2025-02-11T10:24:56.545391Z",
     "start_time": "2025-02-11T10:24:56.369817400Z"
    }
   },
   "id": "f8fa52fe79766a9"
  },
  {
   "cell_type": "markdown",
   "source": [
    "### Gender distribution"
   ],
   "metadata": {
    "collapsed": false
   },
   "id": "fd19929fed3344ff"
  },
  {
   "cell_type": "code",
   "execution_count": 14,
   "outputs": [
    {
     "data": {
      "text/plain": "<Figure size 640x480 with 1 Axes>",
      "image/png": "[encoded data removed]"
     },
     "metadata": {},
     "output_type": "display_data"
    }
   ],
   "source": [
    "# count each gender\n",
    "n_male = data[data['gender'] == 'm'].shape[0]\n",
    "n_female = data[data['gender'] == 'f'].shape[0]\n",
    "n_unknown = data[data['gender'] == 'u'].shape[0]\n",
    "\n",
    "# print(f\"{n_male=}, {n_female=}, {n_unknown=}\")\n",
    "\n",
    "# plot the distribution\n",
    "labels = ['Male', 'Female', 'Unknown']\n",
    "sizes = [n_male, n_female, n_unknown]\n",
    "\n",
    "fig1, ax1 = plt.subplots()\n",
    "ax1.pie(sizes, labels=labels, autopct='%1.1f%%', startangle=90)\n",
    "ax1.axis('equal')  # Equal aspect ratio ensures that pie is drawn as a circle.\n",
    "plt.show()"
   ],
   "metadata": {
    "collapsed": false,
    "ExecuteTime": {
     "end_time": "2025-02-11T10:24:56.583456500Z",
     "start_time": "2025-02-11T10:24:56.431017500Z"
    }
   },
   "id": "cebded75d8c1ba44"
  },
  {
   "cell_type": "markdown",
   "source": [
    "### Age distribution"
   ],
   "metadata": {
    "collapsed": false
   },
   "id": "d039037488ce7d59"
  },
  {
   "cell_type": "code",
   "execution_count": 15,
   "outputs": [
    {
     "data": {
      "text/plain": "<Figure size 640x480 with 1 Axes>",
      "image/png": "[encoded data removed]"
     },
     "metadata": {},
     "output_type": "display_data"
    }
   ],
   "source": [
    "# count each age group\n",
    "n_0_2 = data[data['age'] == '(0, 2)'].shape[0]\n",
    "n_4_6 = data[data['age'] == '(4, 6)'].shape[0]\n",
    "n_8_12 = data[data['age'] == '(8, 12)'].shape[0]\n",
    "n_8_23 = data[data['age'] == '(8, 23)'].shape[0]\n",
    "n_15_20 = data[data['age'] == '(15, 20)'].shape[0]\n",
    "n_25_32 = data[data['age'] == '(25, 32)'].shape[0]\n",
    "n_38_43 = data[data['age'] == '(38, 43)'].shape[0]\n",
    "n_48_53 = data[data['age'] == '(48, 53)'].shape[0]\n",
    "n_60_100 = data[data['age'] == '(60, 100)'].shape[0]\n",
    "\n",
    "# plot the distribution\n",
    "labels = ['0-2', '4-6', '8-23', '15-20', '25-32', '38-43', '48-53', '60-100']\n",
    "sizes = [n_0_2, n_4_6, n_8_23, n_15_20, n_25_32, n_38_43, n_48_53, n_60_100]\n",
    "\n",
    "fig2, ax2 = plt.subplots()\n",
    "ax2.pie(sizes, labels=labels, autopct='%1.1f%%', startangle=90)\n",
    "ax2.axis('equal')  # Equal aspect ratio ensures that pie is drawn as a circle.\n",
    "plt.show()"
   ],
   "metadata": {
    "collapsed": false,
    "ExecuteTime": {
     "end_time": "2025-02-11T10:24:56.736796900Z",
     "start_time": "2025-02-11T10:24:56.545391Z"
    }
   },
   "id": "b2abcf7f6f41b54e"
  },
  {
   "cell_type": "markdown",
   "source": [
    "### save the data to a csv file\n"
   ],
   "metadata": {
    "collapsed": false
   },
   "id": "bbe3a49bcfcc9be4"
  },
  {
   "cell_type": "code",
   "execution_count": 16,
   "outputs": [
    {
     "name": "stdout",
     "output_type": "stream",
     "text": [
      "update_train_df.shape=(14820, 5)\n",
      "update_test_df.shape=(3731, 5)\n"
     ]
    }
   ],
   "source": [
    "update_train_df = pd.DataFrame(columns=data.columns)\n",
    "update_test_df = pd.DataFrame(columns=data.columns)\n",
    "train_rows = []\n",
    "test_rows = []\n",
    "\n",
    "for index, row in train_df.iterrows():\n",
    "    # Take the row from the data\n",
    "    data_row = data[(data['original_image'] == row['original_image']) & (data['face_id'] == row['face_id'])]\n",
    "    # Append the data_row to the list\n",
    "    train_rows.append(data_row)\n",
    "\n",
    "# Convert the list of rows to a DataFrame\n",
    "update_train_df = pd.concat(train_rows, ignore_index=True)\n",
    "\n",
    "for index, row in test_df.iterrows():\n",
    "    # Take the row from the data\n",
    "    data_row = data[(data['original_image'] == row['original_image']) & (data['face_id'] == row['face_id'])]\n",
    "    # Append the data_row to the list\n",
    "    test_rows.append(data_row)\n",
    "\n",
    "update_test_df = pd.concat(test_rows, ignore_index=True)\n",
    "print(f\"{update_train_df.shape=}\")\n",
    "print(f\"{update_test_df.shape=}\")"
   ],
   "metadata": {
    "collapsed": false,
    "ExecuteTime": {
     "end_time": "2025-02-11T10:25:28.365764900Z",
     "start_time": "2025-02-11T10:24:56.675322Z"
    }
   },
   "id": "41a80fa10b33393b"
  },
  {
   "cell_type": "markdown",
   "source": [
    "### check the intersection between the train and test sets\n",
    "we want that the train and test sets will not have the same images"
   ],
   "metadata": {
    "collapsed": false
   },
   "id": "cf25ad691fc3629c"
  },
  {
   "cell_type": "code",
   "execution_count": 17,
   "outputs": [
    {
     "name": "stdout",
     "output_type": "stream",
     "text": [
      "Empty DataFrame\n",
      "Columns: [user_id, face_id, original_image, age, gender]\n",
      "Index: []\n"
     ]
    }
   ],
   "source": [
    "intersection_df = pd.merge(update_train_df, update_test_df, how='inner')\n",
    "\n",
    "# Display the intersection DataFrame\n",
    "print(intersection_df)"
   ],
   "metadata": {
    "collapsed": false,
    "ExecuteTime": {
     "end_time": "2025-02-11T10:25:28.413340700Z",
     "start_time": "2025-02-11T10:25:28.365764900Z"
    }
   },
   "id": "3e92a29ae4297768"
  },
  {
   "cell_type": "markdown",
   "source": [
    "### save the train and test sets to csv files\n",
    "first we split the train set to train and validation sets\n",
    "and then we save the train, validation, and test sets to csv files"
   ],
   "metadata": {
    "collapsed": false
   },
   "id": "a545b0727849b2e4"
  },
  {
   "cell_type": "code",
   "execution_count": 18,
   "outputs": [],
   "source": [
    "# Split the train set to train and validation sets\n",
    "train_df, val_df = train_test_split(update_train_df, test_size=0.2, random_state=42)\n",
    "\n",
    "# Save the train, validation, and test sets to csv files\n",
    "train_df.to_csv(os.path.join('data','train.csv'), index=False)\n",
    "val_df.to_csv(os.path.join('data','val.csv'), index=False)\n",
    "update_test_df.to_csv(os.path.join('data','test.csv'), index=False)"
   ],
   "metadata": {
    "collapsed": false,
    "ExecuteTime": {
     "end_time": "2025-02-11T10:25:28.429165800Z",
     "start_time": "2025-02-11T10:25:28.381523600Z"
    }
   },
   "id": "b54e2d71e8dcde89"
  }
 ],
 "metadata": {
  "kernelspec": {
   "display_name": "Python 3",
   "language": "python",
   "name": "python3"
  },
  "language_info": {
   "codemirror_mode": {
    "name": "ipython",
    "version": 2
   },
   "file_extension": ".py",
   "mimetype": "text/x-python",
   "name": "python",
   "nbconvert_exporter": "python",
   "pygments_lexer": "ipython2",
   "version": "2.7.6"
  }
 },
 "nbformat": 4,
 "nbformat_minor": 5
}
