{
 "cells": [
  {
   "cell_type": "code",
   "execution_count": null,
   "id": "initial_id",
   "metadata": {
    "collapsed": true,
    "is_executing": true
   },
   "outputs": [],
   "source": []
  },
  {
   "cell_type": "code",
   "execution_count": null,
   "outputs": [],
   "source": [
    "import os\n",
    "import numpy as np\n",
    "import pandas as pd\n",
    "import tensorflow as tf\n",
    "from tensorflow.keras import layers, models\n",
    "from tensorflow.keras.applications import ResNet50\n",
    "from tensorflow.keras.preprocessing.image import ImageDataGenerator\n",
    "from sklearn.metrics import classification_report, confusion_matrix\n",
    "import matplotlib.pyplot as plt\n",
    "\n",
    "from img2vec import rgb2emb, get_resnet_model"
   ],
   "metadata": {
    "collapsed": false,
    "is_executing": true
   },
   "id": "f1d86459781eb9ef"
  },
  {
   "cell_type": "markdown",
   "source": [
    "### Check for GPU"
   ],
   "metadata": {
    "collapsed": false
   },
   "id": "8af882f020c34df5"
  },
  {
   "cell_type": "code",
   "execution_count": null,
   "outputs": [],
   "source": [
    "# Check if GPU is available\n",
    "print(\"Num GPUs Available: \", len(tf.config.list_physical_devices('GPU')))\n",
    "\n",
    "# Print GPU information\n",
    "gpus = tf.config.list_physical_devices('GPU')\n",
    "if gpus:\n",
    "    for gpu in gpus:\n",
    "        print(\"Name:\", gpu.name, \"  Type:\", gpu.device_type)\n",
    "\n",
    "    # Set memory growth to avoid using all GPU memory\n",
    "    for gpu in gpus:\n",
    "        tf.config.experimental.set_memory_growth(gpu, True)\n",
    "\n",
    "    print(\"GPU is available for TensorFlow!\")\n",
    "else:\n",
    "    print(\"No GPU found. TensorFlow will use CPU.\")"
   ],
   "metadata": {
    "collapsed": false,
    "is_executing": true
   },
   "id": "38721be792e5b56b"
  },
  {
   "cell_type": "markdown",
   "source": [
    "### Set random seed for reproducibility"
   ],
   "metadata": {
    "collapsed": false
   },
   "id": "7893bb327e76005c"
  },
  {
   "cell_type": "code",
   "execution_count": null,
   "outputs": [],
   "source": [
    "np.random.seed(42)\n",
    "tf.random.set_seed(42)"
   ],
   "metadata": {
    "collapsed": false,
    "is_executing": true
   },
   "id": "d235445b29b5279c"
  },
  {
   "cell_type": "markdown",
   "source": [
    "### Define data paths"
   ],
   "metadata": {
    "collapsed": false
   },
   "id": "2de63a3a7caf677"
  },
  {
   "cell_type": "code",
   "execution_count": null,
   "outputs": [],
   "source": [
    "data_dir = os.path.join('..', '..', 'data')\n",
    "faces_dir = os.path.join(data_dir, 'faces')\n",
    "train_csv = os.path.join(data_dir, 'train.csv')\n",
    "val_csv = os.path.join(data_dir, 'val.csv')\n",
    "test_csv = os.path.join(data_dir, 'test.csv')"
   ],
   "metadata": {
    "collapsed": false,
    "is_executing": true
   },
   "id": "ed3845e0de39192"
  },
  {
   "cell_type": "markdown",
   "source": [
    "### Load data"
   ],
   "metadata": {
    "collapsed": false
   },
   "id": "4bc07fe07f2eab76"
  },
  {
   "cell_type": "code",
   "execution_count": null,
   "outputs": [],
   "source": [
    "train_df = pd.read_csv(train_csv)\n",
    "val_df = pd.read_csv(val_csv)\n",
    "test_df = pd.read_csv(test_csv)"
   ],
   "metadata": {
    "collapsed": false,
    "is_executing": true
   },
   "id": "8ff8b46e0257c8b8"
  },
  {
   "cell_type": "markdown",
   "source": [
    "### Print dataset information"
   ],
   "metadata": {
    "collapsed": false
   },
   "id": "81dbb3e686f34058"
  },
  {
   "cell_type": "code",
   "execution_count": null,
   "outputs": [],
   "source": [
    "print(f\"Training set size: {len(train_df)}\")\n",
    "print(f\"Validation set size: {len(val_df)}\")\n",
    "print(f\"Test set size: {len(test_df)}\")"
   ],
   "metadata": {
    "collapsed": false
   },
   "id": "ac55933a2859e07c"
  },
  {
   "cell_type": "markdown",
   "source": [
    "### Create image generators with data augmentation for training"
   ],
   "metadata": {
    "collapsed": false
   },
   "id": "bf7ca055ad65ba02"
  },
  {
   "cell_type": "code",
   "execution_count": null,
   "outputs": [],
   "source": [
    "train_datagen = ImageDataGenerator(\n",
    "    rescale=1. / 255,\n",
    "    rotation_range=20,\n",
    "    width_shift_range=0.2,\n",
    "    height_shift_range=0.2,\n",
    "    shear_range=0.2,\n",
    "    zoom_range=0.2,\n",
    "    horizontal_flip=True,\n",
    "    fill_mode='nearest'\n",
    ")\n",
    "\n",
    "# Only rescale for validation and test data (no augmentation)\n",
    "val_test_datagen = ImageDataGenerator(rescale=1. / 255)"
   ],
   "metadata": {
    "collapsed": false
   },
   "id": "e5d0dedfd8591c19"
  },
  {
   "cell_type": "markdown",
   "source": [
    "### Create a function to map age ranges to numerical labels"
   ],
   "metadata": {
    "collapsed": false
   },
   "id": "81036f8022ff3853"
  },
  {
   "cell_type": "code",
   "execution_count": null,
   "outputs": [],
   "source": [
    "def map_age_to_label(age_range):\n",
    "    age_mapping = {\n",
    "        '(0, 2)': 0,\n",
    "        '(4, 6)': 1,\n",
    "        '(8, 23)': 2,\n",
    "        '(15, 20)': 3,\n",
    "        '(25, 32)': 4,\n",
    "        '(38, 43)': 5,\n",
    "        '(48, 53)': 6,\n",
    "        '(60, 100)': 7\n",
    "    }\n",
    "    return age_mapping[age_range]"
   ],
   "metadata": {
    "collapsed": false
   },
   "id": "bb86e11e65c9b59b"
  },
  {
   "cell_type": "markdown",
   "source": [
    "### Create a function to map gender to numerical labels"
   ],
   "metadata": {
    "collapsed": false
   },
   "id": "1c8a32b633a781e0"
  },
  {
   "cell_type": "code",
   "execution_count": null,
   "outputs": [],
   "source": [
    "def map_gender_to_label(gender):\n",
    "    gender_mapping = {\n",
    "        'm': 0,  # male\n",
    "        'f': 1,  # female\n",
    "        'u': 2  # unknown\n",
    "    }\n",
    "    return gender_mapping[gender]"
   ],
   "metadata": {
    "collapsed": false
   },
   "id": "f1f7f32c0f8db63b"
  },
  {
   "cell_type": "markdown",
   "source": [
    "### Add numerical labels to dataframes"
   ],
   "metadata": {
    "collapsed": false
   },
   "id": "8c84b3e3ec33a80"
  },
  {
   "cell_type": "code",
   "execution_count": null,
   "outputs": [],
   "source": [
    "train_df['age_label'] = train_df['age'].apply(map_age_to_label)\n",
    "train_df['gender_label'] = train_df['gender'].apply(map_gender_to_label)\n",
    "\n",
    "val_df['age_label'] = val_df['age'].apply(map_age_to_label)\n",
    "val_df['gender_label'] = val_df['gender'].apply(map_gender_to_label)\n",
    "\n",
    "test_df['age_label'] = test_df['age'].apply(map_age_to_label)\n",
    "test_df['gender_label'] = test_df['gender'].apply(map_gender_to_label)"
   ],
   "metadata": {
    "collapsed": false
   },
   "id": "6d4586caadd1345a"
  },
  {
   "cell_type": "markdown",
   "source": [
    "### Convert labels to one-hot encoding"
   ],
   "metadata": {
    "collapsed": false
   },
   "id": "b3f4929715b5d7e0"
  },
  {
   "cell_type": "code",
   "execution_count": null,
   "outputs": [],
   "source": [
    "num_age_classes = 8\n",
    "num_gender_classes = 3\n",
    "\n",
    "\n",
    "def to_one_hot(label, num_classes):\n",
    "    one_hot = np.zeros(num_classes)\n",
    "    one_hot[label] = 1\n",
    "    return one_hot"
   ],
   "metadata": {
    "collapsed": false
   },
   "id": "f5836ec7182bdfd0"
  },
  {
   "cell_type": "markdown",
   "source": [
    "### Extract image paths from dataframes"
   ],
   "metadata": {
    "collapsed": false
   },
   "id": "55515eb23e19e756"
  },
  {
   "cell_type": "code",
   "execution_count": null,
   "outputs": [],
   "source": [
    "def get_image_paths(df):\n",
    "    image_paths = []\n",
    "    for _, row in df.iterrows():\n",
    "        # Construct the image path from user_id and original_image\n",
    "        # Make sure this path matches your actual folder structure\n",
    "        img_path = os.path.join(data_dir, 'faces', row['user_id'],\n",
    "                                f\"coarse_tilt_aligned_face.{row['face_id']}.{row['original_image']}\")\n",
    "        image_paths.append(img_path)\n",
    "    return image_paths"
   ],
   "metadata": {
    "collapsed": false
   },
   "id": "1fa01d2b749bc006"
  },
  {
   "cell_type": "markdown",
   "source": [
    "### Create custom data generator using the rgb2emb function"
   ],
   "metadata": {
    "collapsed": false
   },
   "id": "2b19e985a668e8d9"
  },
  {
   "cell_type": "code",
   "execution_count": null,
   "outputs": [],
   "source": [
    "class ImageFeatureGenerator:\n",
    "    def __init__(self, dataframe, batch_size=32, shuffle=True):\n",
    "        self.dataframe = dataframe\n",
    "        self.batch_size = batch_size\n",
    "        self.shuffle = shuffle\n",
    "        self.indices = np.arange(len(dataframe))\n",
    "        self.steps = len(dataframe) // batch_size\n",
    "        \n",
    "    def __len__(self):\n",
    "        return self.steps\n",
    "    \n",
    "    def on_epoch_end(self):\n",
    "        if self.shuffle:\n",
    "            np.random.shuffle(self.indices)\n",
    "    \n",
    "    def __iter__(self):\n",
    "        self.on_epoch_end()\n",
    "        self.current_batch = 0\n",
    "        return self\n",
    "    \n",
    "    def __next__(self):\n",
    "        if self.current_batch >= self.steps:\n",
    "            raise StopIteration\n",
    "        \n",
    "        batch_indices = self.indices[self.current_batch * self.batch_size:(self.current_batch + 1) * self.batch_size]\n",
    "        batch_df = self.dataframe.iloc[batch_indices]\n",
    "        \n",
    "        # Get image paths for this batch\n",
    "        img_paths = get_image_paths(batch_df)\n",
    "        \n",
    "        # Extract features using rgb2emb function\n",
    "        features = rgb2emb(img_paths, batch_size=self.batch_size)\n",
    "        \n",
    "        # Create one-hot encoded labels\n",
    "        age_labels = np.array([to_one_hot(label, num_age_classes) for label in batch_df['age_label']])\n",
    "        gender_labels = np.array([to_one_hot(label, num_gender_classes) for label in batch_df['gender_label']])\n",
    "        \n",
    "        self.current_batch += 1\n",
    "        return features, [age_labels, gender_labels]\n"
   ],
   "metadata": {
    "collapsed": false
   },
   "id": "130a6d687592498a"
  },
  {
   "cell_type": "markdown",
   "source": [
    "### Create generators"
   ],
   "metadata": {
    "collapsed": false
   },
   "id": "e4641fbd372f581"
  },
  {
   "cell_type": "code",
   "execution_count": null,
   "outputs": [],
   "source": [
    "batch_size = 32\n",
    "train_generator = ImageFeatureGenerator(train_df, batch_size=batch_size)\n",
    "val_generator = ImageFeatureGenerator(val_df, batch_size=batch_size)\n",
    "test_generator = ImageFeatureGenerator(test_df, batch_size=batch_size)"
   ],
   "metadata": {
    "collapsed": false
   },
   "id": "91d94e824f88d4fb"
  },
  {
   "cell_type": "markdown",
   "source": [
    "### Build a model that takes pre-extracted features"
   ],
   "metadata": {
    "collapsed": false
   },
   "id": "2812617a503aa478"
  },
  {
   "cell_type": "code",
   "execution_count": null,
   "outputs": [],
   "source": [
    "def build_model_from_features(feature_dim=2048):\n",
    "    # Input is the pre-extracted features\n",
    "    inputs = layers.Input(shape=(feature_dim,))\n",
    "    \n",
    "    # Common dense layers\n",
    "    x = layers.Dense(512, activation='relu')(inputs)\n",
    "    x = layers.Dropout(0.5)(x)\n",
    "    x = layers.Dense(256, activation='relu')(x)\n",
    "    x = layers.Dropout(0.3)(x)\n",
    "    \n",
    "    # Age classification branch\n",
    "    age_branch = layers.Dense(128, activation='relu')(x)\n",
    "    age_branch = layers.Dropout(0.3)(age_branch)\n",
    "    age_output = layers.Dense(num_age_classes, activation='softmax', name='age_output')(age_branch)\n",
    "    \n",
    "    # Gender classification branch\n",
    "    gender_branch = layers.Dense(64, activation='relu')(x)\n",
    "    gender_branch = layers.Dropout(0.3)(gender_branch)\n",
    "    gender_output = layers.Dense(num_gender_classes, activation='softmax', name='gender_output')(gender_branch)\n",
    "    \n",
    "    # Create the model\n",
    "    model = models.Model(inputs=inputs, outputs=[age_output, gender_output])\n",
    "    \n",
    "    # Compile the model\n",
    "    model.compile(\n",
    "        optimizer=tf.keras.optimizers.Adam(learning_rate=0.001),\n",
    "        loss={\n",
    "            'age_output': 'categorical_crossentropy',\n",
    "            'gender_output': 'categorical_crossentropy'\n",
    "        },\n",
    "        metrics={\n",
    "            'age_output': 'accuracy',\n",
    "            'gender_output': 'accuracy'\n",
    "        }\n",
    "    )\n",
    "    \n",
    "    return model\n"
   ],
   "metadata": {
    "collapsed": false
   },
   "id": "4f271a80ba27a274"
  },
  {
   "cell_type": "markdown",
   "source": [
    "### Create the model"
   ],
   "metadata": {
    "collapsed": false
   },
   "id": "b782bde0a616e8a"
  },
  {
   "cell_type": "code",
   "execution_count": null,
   "outputs": [],
   "source": [
    "feature_dim = 2048  # Output dimension of the RGB to embedding function\n",
    "model = build_model_from_features(feature_dim)\n",
    "\n",
    "# Display model summary\n",
    "model.summary()"
   ],
   "metadata": {
    "collapsed": false
   },
   "id": "d8e82d78d69948dd"
  },
  {
   "cell_type": "markdown",
   "source": [
    "### Define callback for GPU monitoring during training"
   ],
   "metadata": {
    "collapsed": false
   },
   "id": "12b71477a7930fc9"
  },
  {
   "cell_type": "code",
   "execution_count": null,
   "outputs": [],
   "source": [
    "class GPUUtilizationCallback(tf.keras.callbacks.Callback):\n",
    "    def on_epoch_end(self, epoch, logs=None):\n",
    "        try:\n",
    "            import subprocess\n",
    "            result = subprocess.run(['nvidia-smi'], stdout=subprocess.PIPE)\n",
    "            print(result.stdout.decode('utf-8'))\n",
    "        except Exception as e:\n",
    "            print(f\"Could not run nvidia-smi: {e}\")\n"
   ],
   "metadata": {
    "collapsed": false
   },
   "id": "5a9df2c1eebd0144"
  },
  {
   "cell_type": "markdown",
   "source": [
    "### Define callbacks"
   ],
   "metadata": {
    "collapsed": false
   },
   "id": "e9b43595be74f30b"
  },
  {
   "cell_type": "code",
   "execution_count": null,
   "outputs": [],
   "source": [
    "early_stopping = tf.keras.callbacks.EarlyStopping(\n",
    "    monitor='val_loss',\n",
    "    patience=5,\n",
    "    restore_best_weights=True\n",
    ")\n",
    "\n",
    "checkpoint = tf.keras.callbacks.ModelCheckpoint(\n",
    "    'best_resnet_model.h5',\n",
    "    save_best_only=True,\n",
    "    monitor='val_loss'\n",
    ")\n",
    "\n",
    "gpu_callback = GPUUtilizationCallback()"
   ],
   "metadata": {
    "collapsed": false
   },
   "id": "b08486e060e15692"
  },
  {
   "cell_type": "markdown",
   "source": [
    "### Convert generators to tf.data.Dataset for more efficient training"
   ],
   "metadata": {
    "collapsed": false
   },
   "id": "fb33c8e684a3b586"
  },
  {
   "cell_type": "code",
   "execution_count": null,
   "outputs": [],
   "source": [
    "def generator_to_dataset(generator, batch_size):\n",
    "    def gen():\n",
    "        for features, labels in generator:\n",
    "            yield features, labels\n",
    "    \n",
    "    # Define the output signature\n",
    "    output_signature = (\n",
    "        tf.TensorSpec(shape=(None, feature_dim), dtype=tf.float32),\n",
    "        (\n",
    "            tf.TensorSpec(shape=(None, num_age_classes), dtype=tf.float32),\n",
    "            tf.TensorSpec(shape=(None, num_gender_classes), dtype=tf.float32)\n",
    "        )\n",
    "    )\n",
    "    \n",
    "    dataset = tf.data.Dataset.from_generator(\n",
    "        gen,\n",
    "        output_signature=output_signature\n",
    "    )\n",
    "    \n",
    "    return dataset.batch(batch_size).prefetch(tf.data.AUTOTUNE)\n",
    "\n",
    "# Create tf.data.Dataset objects\n",
    "train_dataset = generator_to_dataset(train_generator, batch_size)\n",
    "val_dataset = generator_to_dataset(val_generator, batch_size)\n",
    "test_dataset = generator_to_dataset(test_generator, batch_size)"
   ],
   "metadata": {
    "collapsed": false
   },
   "id": "9dbd0d2564a3cfb0"
  },
  {
   "cell_type": "markdown",
   "source": [
    "### Train the model"
   ],
   "metadata": {
    "collapsed": false
   },
   "id": "40e6fed9cbd021f1"
  },
  {
   "cell_type": "code",
   "execution_count": null,
   "outputs": [],
   "source": [
    "epochs = 20\n",
    "history = model.fit(\n",
    "    train_dataset,\n",
    "    epochs=epochs,\n",
    "    validation_data=val_dataset,\n",
    "    callbacks=[early_stopping, checkpoint, gpu_callback]\n",
    ")"
   ],
   "metadata": {
    "collapsed": false
   },
   "id": "5f7a05181cb7b09e"
  },
  {
   "cell_type": "markdown",
   "source": [
    "### Plot training history"
   ],
   "metadata": {
    "collapsed": false
   },
   "id": "aa8fdc31902a9d08"
  },
  {
   "cell_type": "code",
   "execution_count": null,
   "outputs": [],
   "source": [
    "def plot_history(history):\n",
    "    # Plot loss\n",
    "    plt.figure(figsize=(12, 4))\n",
    "    \n",
    "    plt.subplot(1, 2, 1)\n",
    "    plt.plot(history.history['loss'], label='Training Loss')\n",
    "    plt.plot(history.history['val_loss'], label='Validation Loss')\n",
    "    plt.title('Loss')\n",
    "    plt.xlabel('Epochs')\n",
    "    plt.ylabel('Loss')\n",
    "    plt.legend()\n",
    "    \n",
    "    # Plot accuracy\n",
    "    plt.subplot(1, 2, 2)\n",
    "    plt.plot(history.history['age_output_accuracy'], label='Age Accuracy')\n",
    "    plt.plot(history.history['gender_output_accuracy'], label='Gender Accuracy')\n",
    "    plt.plot(history.history['val_age_output_accuracy'], label='Val Age Accuracy')\n",
    "    plt.plot(history.history['val_gender_output_accuracy'], label='Val Gender Accuracy')\n",
    "    plt.title('Accuracy')\n",
    "    plt.xlabel('Epochs')\n",
    "    plt.ylabel('Accuracy')\n",
    "    plt.legend()\n",
    "    \n",
    "    plt.tight_layout()\n",
    "    plt.savefig('training_history.png')\n",
    "    plt.show()\n",
    "\n",
    "plot_history(history)"
   ],
   "metadata": {
    "collapsed": false
   },
   "id": "7339eedd689b579c"
  },
  {
   "cell_type": "markdown",
   "source": [
    "### Evaluate the model on test data"
   ],
   "metadata": {
    "collapsed": false
   },
   "id": "403256a25027594b"
  },
  {
   "cell_type": "code",
   "execution_count": null,
   "outputs": [],
   "source": [
    "print(\"Evaluating model on test data...\")\n",
    "results = model.evaluate(test_dataset, verbose=1)\n",
    "print(\"Test results:\", results)"
   ],
   "metadata": {
    "collapsed": false
   },
   "id": "d99f2caa6fcd5ccc"
  },
  {
   "cell_type": "markdown",
   "source": [
    "### Make predictions"
   ],
   "metadata": {
    "collapsed": false
   },
   "id": "1a8e327fb1c49fbe"
  },
  {
   "cell_type": "code",
   "execution_count": null,
   "outputs": [],
   "source": [
    "print(\"Generating predictions...\")\n",
    "test_predictions = model.predict(test_dataset)\n",
    "age_predictions = np.argmax(test_predictions[0], axis=1)\n",
    "gender_predictions = np.argmax(test_predictions[1], axis=1)\n"
   ],
   "metadata": {
    "collapsed": false
   },
   "id": "a6af12f69ca7981"
  },
  {
   "cell_type": "markdown",
   "source": [
    "### Print classification reports"
   ],
   "metadata": {
    "collapsed": false
   },
   "id": "bbc7c3847515c7bf"
  },
  {
   "cell_type": "code",
   "execution_count": null,
   "outputs": [],
   "source": [
    "# Get true labels\n",
    "test_age_true = np.array(test_df['age_label'])\n",
    "test_gender_true = np.array(test_df['gender_label'])\n",
    "\n",
    "print(\"\\nAge Classification Report:\")\n",
    "print(classification_report(test_age_true, age_predictions))\n",
    "\n",
    "print(\"\\nGender Classification Report:\")\n",
    "print(classification_report(test_gender_true, gender_predictions))"
   ],
   "metadata": {
    "collapsed": false
   },
   "id": "e3051bfb0f02fcb5"
  },
  {
   "cell_type": "markdown",
   "source": [
    "### Create confusion matrices"
   ],
   "metadata": {
    "collapsed": false
   },
   "id": "e28747f4a9c002f0"
  },
  {
   "cell_type": "code",
   "execution_count": null,
   "outputs": [],
   "source": [
    "age_cm = confusion_matrix(test_age_true, age_predictions)\n",
    "gender_cm = confusion_matrix(test_gender_true, gender_predictions)\n",
    "\n",
    "# Plot confusion matrices\n",
    "plt.figure(figsize=(16, 6))\n",
    "\n",
    "plt.subplot(1, 2, 1)\n",
    "plt.imshow(age_cm, interpolation='nearest', cmap=plt.cm.Blues)\n",
    "plt.title('Age Confusion Matrix')\n",
    "plt.colorbar()\n",
    "age_classes = ['0-2', '4-6', '8-23', '15-20', '25-32', '38-43', '48-53', '60+']\n",
    "plt.xticks(np.arange(len(age_classes)), age_classes, rotation=45)\n",
    "plt.yticks(np.arange(len(age_classes)), age_classes)\n",
    "plt.ylabel('True Age')\n",
    "plt.xlabel('Predicted Age')\n",
    "\n",
    "plt.subplot(1, 2, 2)\n",
    "plt.imshow(gender_cm, interpolation='nearest', cmap=plt.cm.Blues)\n",
    "plt.title('Gender Confusion Matrix')\n",
    "plt.colorbar()\n",
    "gender_classes = ['Male', 'Female', 'Unknown']\n",
    "plt.xticks(np.arange(len(gender_classes)), gender_classes)\n",
    "plt.yticks(np.arange(len(gender_classes)), gender_classes)\n",
    "plt.ylabel('True Gender')\n",
    "plt.xlabel('Predicted Gender')\n",
    "\n",
    "plt.tight_layout()\n",
    "plt.savefig('confusion_matrices.png')\n",
    "plt.show()"
   ],
   "metadata": {
    "collapsed": false
   },
   "id": "fcd5087b1735e93d"
  },
  {
   "cell_type": "markdown",
   "source": [
    "### Save the final model"
   ],
   "metadata": {
    "collapsed": false
   },
   "id": "ca410b1103a6624e"
  },
  {
   "cell_type": "code",
   "execution_count": null,
   "outputs": [],
   "source": [
    "model.save('final_age_gender_model.h5')"
   ],
   "metadata": {
    "collapsed": false
   },
   "id": "443479341485d75b"
  }
 ],
 "metadata": {
  "kernelspec": {
   "display_name": "Python 3",
   "language": "python",
   "name": "python3"
  },
  "language_info": {
   "codemirror_mode": {
    "name": "ipython",
    "version": 2
   },
   "file_extension": ".py",
   "mimetype": "text/x-python",
   "name": "python",
   "nbconvert_exporter": "python",
   "pygments_lexer": "ipython2",
   "version": "2.7.6"
  }
 },
 "nbformat": 4,
 "nbformat_minor": 5
}
