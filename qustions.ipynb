{
 "cells": [
  {
   "cell_type": "markdown",
   "source": [
    "## Question 1: Did face expression change the model prediction?"
   ],
   "metadata": {
    "collapsed": false
   },
   "id": "44e3316eda575d5f"
  },
  {
   "cell_type": "code",
   "execution_count": null,
   "outputs": [],
   "source": [
    "def load_"
   ],
   "metadata": {
    "collapsed": false
   },
   "id": "935570164ff8bc21"
  }
 ],
 "metadata": {
  "kernelspec": {
   "display_name": "Python 3",
   "language": "python",
   "name": "python3"
  },
  "language_info": {
   "codemirror_mode": {
    "name": "ipython",
    "version": 2
   },
   "file_extension": ".py",
   "mimetype": "text/x-python",
   "name": "python",
   "nbconvert_exporter": "python",
   "pygments_lexer": "ipython2",
   "version": "2.7.6"
  }
 },
 "nbformat": 4,
 "nbformat_minor": 5
}
